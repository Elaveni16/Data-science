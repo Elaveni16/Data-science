{
 "cells": [
  {
   "cell_type": "markdown",
   "id": "c661803c-c1d1-427f-930c-31ebaa42fadd",
   "metadata": {},
   "source": [
    "#Preprocessing steps :\n",
    "\n",
    "1) Create dummy or indicator features for categorical variables.\n",
    "2) Standardize the magnitude of numeric features using a scaler\n",
    "3) Split your data into testing and training datasets"
   ]
  },
  {
   "cell_type": "code",
   "execution_count": 1,
   "id": "3732b624-3bb4-43d7-b088-a0a2b9533e3c",
   "metadata": {},
   "outputs": [],
   "source": [
    "# Import relevant libraries and packages.\n",
    "import numpy as np \n",
    "import pandas as pd \n",
    "import matplotlib.pyplot as plt \n",
    "import seaborn as sns # For all our visualization needs.\n",
    "import statsmodels.api as sm # What does this do? Find out and type here. A convenience interface for specifying models \n",
    "import scipy\n",
    "\n",
    "import warnings # For handling error messages.\n",
    "# Don't worry about the following two instructions: they just suppress warnings that could occur later. \n",
    "warnings.simplefilter(action=\"ignore\", category=FutureWarning)\n",
    "warnings.filterwarnings(action=\"ignore\", module=\"scipy\", message=\"^internal gelsd\")"
   ]
  },
  {
   "cell_type": "code",
   "execution_count": 16,
   "id": "3b6637cc-5cd8-4132-acee-bd2d29b5358e",
   "metadata": {},
   "outputs": [],
   "source": [
    "data = pd.read_csv('../data/processed/finaldata_09082023.csv',parse_dates=['registration_init_time'])"
   ]
  },
  {
   "cell_type": "code",
   "execution_count": 17,
   "id": "ca70065f-249f-4e06-af28-b5c49d64d2fe",
   "metadata": {},
   "outputs": [
    {
     "data": {
      "text/html": [
       "<div>\n",
       "<style scoped>\n",
       "    .dataframe tbody tr th:only-of-type {\n",
       "        vertical-align: middle;\n",
       "    }\n",
       "\n",
       "    .dataframe tbody tr th {\n",
       "        vertical-align: top;\n",
       "    }\n",
       "\n",
       "    .dataframe thead th {\n",
       "        text-align: right;\n",
       "    }\n",
       "</style>\n",
       "<table border=\"1\" class=\"dataframe\">\n",
       "  <thead>\n",
       "    <tr style=\"text-align: right;\">\n",
       "      <th></th>\n",
       "      <th>Unnamed: 0</th>\n",
       "      <th>msno</th>\n",
       "      <th>is_churn</th>\n",
       "      <th>city</th>\n",
       "      <th>bd</th>\n",
       "      <th>registered_via</th>\n",
       "      <th>registration_init_time</th>\n",
       "      <th>registered_year</th>\n",
       "      <th>change_in_payment_method</th>\n",
       "      <th>total_transaction</th>\n",
       "      <th>...</th>\n",
       "      <th>diff_last2month_sum_num985</th>\n",
       "      <th>diff_last2month_mean_num985</th>\n",
       "      <th>diff_last2month_sum_num100</th>\n",
       "      <th>diff_last2month_mean_num100</th>\n",
       "      <th>diff_last2month_sum_num_unq</th>\n",
       "      <th>diff_last2month_mean_num_unq</th>\n",
       "      <th>age_group</th>\n",
       "      <th>diff_last2month_total_secs_sum</th>\n",
       "      <th>Days_Diff_trans_expire_date</th>\n",
       "      <th>last_transaction_Exp_year</th>\n",
       "    </tr>\n",
       "  </thead>\n",
       "  <tbody>\n",
       "    <tr>\n",
       "      <th>0</th>\n",
       "      <td>0</td>\n",
       "      <td>ugx0CjOMzazClkFzU2xasmDZaoIqOUAZPsH1q0teWCg=</td>\n",
       "      <td>1</td>\n",
       "      <td>5.0</td>\n",
       "      <td>28.0</td>\n",
       "      <td>3.0</td>\n",
       "      <td>2013-12-23</td>\n",
       "      <td>2013.0</td>\n",
       "      <td>2</td>\n",
       "      <td>6</td>\n",
       "      <td>...</td>\n",
       "      <td>9.0</td>\n",
       "      <td>-0.090909</td>\n",
       "      <td>274.0</td>\n",
       "      <td>-15.090909</td>\n",
       "      <td>302.0</td>\n",
       "      <td>-14.363636</td>\n",
       "      <td>(20, 30]</td>\n",
       "      <td>68125.943</td>\n",
       "      <td>30</td>\n",
       "      <td>2017</td>\n",
       "    </tr>\n",
       "    <tr>\n",
       "      <th>1</th>\n",
       "      <td>1</td>\n",
       "      <td>f/NmvEzHfhINFEYZTR05prUdr+E+3+oewvweYz9cCQE=</td>\n",
       "      <td>1</td>\n",
       "      <td>13.0</td>\n",
       "      <td>20.0</td>\n",
       "      <td>3.0</td>\n",
       "      <td>2013-12-23</td>\n",
       "      <td>2013.0</td>\n",
       "      <td>3</td>\n",
       "      <td>6</td>\n",
       "      <td>...</td>\n",
       "      <td>-3.0</td>\n",
       "      <td>-0.333333</td>\n",
       "      <td>-43.0</td>\n",
       "      <td>-3.333333</td>\n",
       "      <td>-38.0</td>\n",
       "      <td>-2.555556</td>\n",
       "      <td>(10, 20]</td>\n",
       "      <td>-11487.714</td>\n",
       "      <td>31</td>\n",
       "      <td>2017</td>\n",
       "    </tr>\n",
       "    <tr>\n",
       "      <th>2</th>\n",
       "      <td>2</td>\n",
       "      <td>zLo9f73nGGT1p21ltZC3ChiRnAVvgibMyazbCxvWPcg=</td>\n",
       "      <td>1</td>\n",
       "      <td>13.0</td>\n",
       "      <td>18.0</td>\n",
       "      <td>3.0</td>\n",
       "      <td>2013-12-27</td>\n",
       "      <td>2013.0</td>\n",
       "      <td>3</td>\n",
       "      <td>20</td>\n",
       "      <td>...</td>\n",
       "      <td>4.0</td>\n",
       "      <td>0.200000</td>\n",
       "      <td>-34.0</td>\n",
       "      <td>-1.700000</td>\n",
       "      <td>25.0</td>\n",
       "      <td>1.250000</td>\n",
       "      <td>(10, 20]</td>\n",
       "      <td>-336.420</td>\n",
       "      <td>93</td>\n",
       "      <td>2017</td>\n",
       "    </tr>\n",
       "    <tr>\n",
       "      <th>3</th>\n",
       "      <td>3</td>\n",
       "      <td>K6fja4+jmoZ5xG6BypqX80Uw/XKpMgrEMdG2edFOxnA=</td>\n",
       "      <td>1</td>\n",
       "      <td>13.0</td>\n",
       "      <td>35.0</td>\n",
       "      <td>7.0</td>\n",
       "      <td>2014-01-25</td>\n",
       "      <td>2014.0</td>\n",
       "      <td>1</td>\n",
       "      <td>32</td>\n",
       "      <td>...</td>\n",
       "      <td>-2.0</td>\n",
       "      <td>-0.233333</td>\n",
       "      <td>794.0</td>\n",
       "      <td>50.133333</td>\n",
       "      <td>335.0</td>\n",
       "      <td>18.783333</td>\n",
       "      <td>(30, 40]</td>\n",
       "      <td>194386.863</td>\n",
       "      <td>186</td>\n",
       "      <td>2017</td>\n",
       "    </tr>\n",
       "    <tr>\n",
       "      <th>4</th>\n",
       "      <td>4</td>\n",
       "      <td>ibIHVYBqxGwrSExE63/omeDD99M5vYB3CN2HzkEY+eM=</td>\n",
       "      <td>1</td>\n",
       "      <td>22.0</td>\n",
       "      <td>27.0</td>\n",
       "      <td>3.0</td>\n",
       "      <td>2014-01-26</td>\n",
       "      <td>2014.0</td>\n",
       "      <td>1</td>\n",
       "      <td>21</td>\n",
       "      <td>...</td>\n",
       "      <td>-9.0</td>\n",
       "      <td>0.000000</td>\n",
       "      <td>-221.0</td>\n",
       "      <td>-10.596154</td>\n",
       "      <td>-292.0</td>\n",
       "      <td>-14.153846</td>\n",
       "      <td>(20, 30]</td>\n",
       "      <td>-59574.465</td>\n",
       "      <td>-2</td>\n",
       "      <td>2017</td>\n",
       "    </tr>\n",
       "  </tbody>\n",
       "</table>\n",
       "<p>5 rows × 87 columns</p>\n",
       "</div>"
      ],
      "text/plain": [
       "   Unnamed: 0                                          msno  is_churn  city  \\\n",
       "0           0  ugx0CjOMzazClkFzU2xasmDZaoIqOUAZPsH1q0teWCg=         1   5.0   \n",
       "1           1  f/NmvEzHfhINFEYZTR05prUdr+E+3+oewvweYz9cCQE=         1  13.0   \n",
       "2           2  zLo9f73nGGT1p21ltZC3ChiRnAVvgibMyazbCxvWPcg=         1  13.0   \n",
       "3           3  K6fja4+jmoZ5xG6BypqX80Uw/XKpMgrEMdG2edFOxnA=         1  13.0   \n",
       "4           4  ibIHVYBqxGwrSExE63/omeDD99M5vYB3CN2HzkEY+eM=         1  22.0   \n",
       "\n",
       "     bd  registered_via registration_init_time  registered_year  \\\n",
       "0  28.0             3.0             2013-12-23           2013.0   \n",
       "1  20.0             3.0             2013-12-23           2013.0   \n",
       "2  18.0             3.0             2013-12-27           2013.0   \n",
       "3  35.0             7.0             2014-01-25           2014.0   \n",
       "4  27.0             3.0             2014-01-26           2014.0   \n",
       "\n",
       "   change_in_payment_method  total_transaction  ...  \\\n",
       "0                         2                  6  ...   \n",
       "1                         3                  6  ...   \n",
       "2                         3                 20  ...   \n",
       "3                         1                 32  ...   \n",
       "4                         1                 21  ...   \n",
       "\n",
       "   diff_last2month_sum_num985  diff_last2month_mean_num985  \\\n",
       "0                         9.0                    -0.090909   \n",
       "1                        -3.0                    -0.333333   \n",
       "2                         4.0                     0.200000   \n",
       "3                        -2.0                    -0.233333   \n",
       "4                        -9.0                     0.000000   \n",
       "\n",
       "   diff_last2month_sum_num100  diff_last2month_mean_num100  \\\n",
       "0                       274.0                   -15.090909   \n",
       "1                       -43.0                    -3.333333   \n",
       "2                       -34.0                    -1.700000   \n",
       "3                       794.0                    50.133333   \n",
       "4                      -221.0                   -10.596154   \n",
       "\n",
       "   diff_last2month_sum_num_unq  diff_last2month_mean_num_unq  age_group  \\\n",
       "0                        302.0                    -14.363636   (20, 30]   \n",
       "1                        -38.0                     -2.555556   (10, 20]   \n",
       "2                         25.0                      1.250000   (10, 20]   \n",
       "3                        335.0                     18.783333   (30, 40]   \n",
       "4                       -292.0                    -14.153846   (20, 30]   \n",
       "\n",
       "   diff_last2month_total_secs_sum  Days_Diff_trans_expire_date  \\\n",
       "0                       68125.943                           30   \n",
       "1                      -11487.714                           31   \n",
       "2                        -336.420                           93   \n",
       "3                      194386.863                          186   \n",
       "4                      -59574.465                           -2   \n",
       "\n",
       "   last_transaction_Exp_year  \n",
       "0                       2017  \n",
       "1                       2017  \n",
       "2                       2017  \n",
       "3                       2017  \n",
       "4                       2017  \n",
       "\n",
       "[5 rows x 87 columns]"
      ]
     },
     "execution_count": 17,
     "metadata": {},
     "output_type": "execute_result"
    }
   ],
   "source": [
    "data.head()"
   ]
  },
  {
   "cell_type": "code",
   "execution_count": 18,
   "id": "cae5190a-4440-433d-a37b-1003fa2d5d3f",
   "metadata": {},
   "outputs": [],
   "source": [
    "del data['Unnamed: 0']"
   ]
  },
  {
   "cell_type": "code",
   "execution_count": 19,
   "id": "e4d0c2d1-584c-4c18-b2f4-d4bbb8251746",
   "metadata": {},
   "outputs": [
    {
     "name": "stdout",
     "output_type": "stream",
     "text": [
      "<class 'pandas.core.frame.DataFrame'>\n",
      "RangeIndex: 800505 entries, 0 to 800504\n",
      "Data columns (total 86 columns):\n",
      " #   Column                             Non-Null Count   Dtype         \n",
      "---  ------                             --------------   -----         \n",
      " 0   msno                               800505 non-null  object        \n",
      " 1   is_churn                           800505 non-null  int64         \n",
      " 2   city                               800505 non-null  float64       \n",
      " 3   bd                                 800505 non-null  float64       \n",
      " 4   registered_via                     800505 non-null  float64       \n",
      " 5   registration_init_time             800505 non-null  datetime64[ns]\n",
      " 6   registered_year                    800505 non-null  float64       \n",
      " 7   change_in_payment_method           800505 non-null  int64         \n",
      " 8   total_transaction                  800505 non-null  int64         \n",
      " 9   max_payment_method                 800505 non-null  int64         \n",
      " 10  avg_plan_days                      800505 non-null  float64       \n",
      " 11  sum_plan_days                      800505 non-null  int64         \n",
      " 12  change_in_plan_days                800505 non-null  int64         \n",
      " 13  avg_list_price                     800505 non-null  float64       \n",
      " 14  sum_list_price                     800505 non-null  int64         \n",
      " 15  change_in_list_price               800505 non-null  int64         \n",
      " 16  avg_amt_paid                       800505 non-null  float64       \n",
      " 17  sum_amt_paid                       800505 non-null  int64         \n",
      " 18  change_in_amt_paid                 800505 non-null  int64         \n",
      " 19  avg_discount                       800505 non-null  float64       \n",
      " 20  sum_discount                       800505 non-null  int64         \n",
      " 21  last_cancel_status                 800505 non-null  int64         \n",
      " 22  last_auto_renew                    800505 non-null  int64         \n",
      " 23  avg_days_diff_trans_exp            800505 non-null  float64       \n",
      " 24  autorenew_not_cancel_flag          800505 non-null  int64         \n",
      " 25  not_autorenew_cancel_flag          800505 non-null  int64         \n",
      " 26  last_month_login_count             800505 non-null  float64       \n",
      " 27  last_month_sum_num25               800505 non-null  float64       \n",
      " 28  last_month_mean_num25              800505 non-null  float64       \n",
      " 29  last_month_sum_num50               800505 non-null  float64       \n",
      " 30  last_month_mean_num50              800505 non-null  float64       \n",
      " 31  last_month_sum_num75               800505 non-null  float64       \n",
      " 32  last_month_mean_num75              800505 non-null  float64       \n",
      " 33  last_month_sum_num985              800505 non-null  float64       \n",
      " 34  last_month_mean_num985             800505 non-null  float64       \n",
      " 35  last_month_sum_num100              800505 non-null  float64       \n",
      " 36  last_month_mean_num100             800505 non-null  float64       \n",
      " 37  last_month_sum_num_unq             800505 non-null  float64       \n",
      " 38  last_month_mean_num_unq            800505 non-null  float64       \n",
      " 39  last_month_total_secs_sum          800505 non-null  float64       \n",
      " 40  last_month_total_secs_mean         800505 non-null  float64       \n",
      " 41  last_second_month_login_count      800505 non-null  float64       \n",
      " 42  last_second_month_sum_num25        800505 non-null  float64       \n",
      " 43  last_second_month_mean_num25       800505 non-null  float64       \n",
      " 44  last_second_month_sum_num50        800505 non-null  float64       \n",
      " 45  last_second_month_mean_num50       800505 non-null  float64       \n",
      " 46  last_second_month_sum_num75        800505 non-null  float64       \n",
      " 47  last_second_month_mean_num75       800505 non-null  float64       \n",
      " 48  last_second_month_sum_num985       800505 non-null  float64       \n",
      " 49  last_second_month_mean_num985      800505 non-null  float64       \n",
      " 50  last_second_month_sum_num_100      800505 non-null  float64       \n",
      " 51  last_second_month_mean_num100      800505 non-null  float64       \n",
      " 52  last_second_month_sum_num_unq      800505 non-null  float64       \n",
      " 53  last_second_month_mean_num_unq     800505 non-null  float64       \n",
      " 54  last_second_month_total_secs_sum   800505 non-null  float64       \n",
      " 55  last_second_month_total_secs_mean  800505 non-null  float64       \n",
      " 56  last_third_month_login_count       800505 non-null  float64       \n",
      " 57  last_third_month_sum_num25         800505 non-null  float64       \n",
      " 58  last_third_month_mean_num25        800505 non-null  float64       \n",
      " 59  last_third_month_sum_num50         800505 non-null  float64       \n",
      " 60  last_third_month_mean_num50        800505 non-null  float64       \n",
      " 61  last_third_month_sum_num75         800505 non-null  float64       \n",
      " 62  last_third_month_mean_num75        800505 non-null  float64       \n",
      " 63  last_third_month_sum_num985        800505 non-null  float64       \n",
      " 64  last_third_month_mean_num985       800505 non-null  float64       \n",
      " 65  last_third_month_sum_num_100       800505 non-null  float64       \n",
      " 66  last_third_month_mean_num100       800505 non-null  float64       \n",
      " 67  last_third_month_sum_num_unq       800505 non-null  float64       \n",
      " 68  last_third_month_mean_num_unq      800505 non-null  float64       \n",
      " 69  last_third_month_total_secs_sum    800505 non-null  float64       \n",
      " 70  last_third_month_total_secs_mean   800505 non-null  float64       \n",
      " 71  diff_last2month_sum_num25          800505 non-null  float64       \n",
      " 72  diff_last2month_mean_num25         800505 non-null  float64       \n",
      " 73  diff_last2month_sum_num50          800505 non-null  float64       \n",
      " 74  diff_last2month_sum_num75          800505 non-null  float64       \n",
      " 75  diff_last2month_mean_num75         800505 non-null  float64       \n",
      " 76  diff_last2month_sum_num985         800505 non-null  float64       \n",
      " 77  diff_last2month_mean_num985        800505 non-null  float64       \n",
      " 78  diff_last2month_sum_num100         800505 non-null  float64       \n",
      " 79  diff_last2month_mean_num100        800505 non-null  float64       \n",
      " 80  diff_last2month_sum_num_unq        800505 non-null  float64       \n",
      " 81  diff_last2month_mean_num_unq       800505 non-null  float64       \n",
      " 82  age_group                          800505 non-null  object        \n",
      " 83  diff_last2month_total_secs_sum     800505 non-null  float64       \n",
      " 84  Days_Diff_trans_expire_date        800505 non-null  int64         \n",
      " 85  last_transaction_Exp_year          800505 non-null  int64         \n",
      "dtypes: datetime64[ns](1), float64(66), int64(17), object(2)\n",
      "memory usage: 525.2+ MB\n"
     ]
    }
   ],
   "source": [
    "data.info()"
   ]
  },
  {
   "cell_type": "markdown",
   "id": "d99c8223-c855-4659-958f-aab8bd1a901c",
   "metadata": {},
   "source": [
    "category columns\n",
    " 'city', 'age_group',registered_via,registered_year','change_in_payment_method'"
   ]
  },
  {
   "cell_type": "code",
   "execution_count": 20,
   "id": "d1ce0b65-6a76-4fcc-a4eb-913ab5873c7f",
   "metadata": {},
   "outputs": [
    {
     "data": {
      "text/plain": [
       "<Axes: xlabel='age_group', ylabel='count'>"
      ]
     },
     "execution_count": 20,
     "metadata": {},
     "output_type": "execute_result"
    },
    {
     "data": {
      "image/png": "[encoded data removed]",
      "text/plain": [
       "<Figure size 1800x1500 with 4 Axes>"
      ]
     },
     "metadata": {},
     "output_type": "display_data"
    }
   ],
   "source": [
    "fig, axes = plt.subplots(2, 2, figsize=(18,15))\n",
    "\n",
    "#create countplot in each subplot\n",
    "sns.countplot(x='city', data=data, hue='is_churn', ax=axes[0,0])\n",
    "sns.countplot(x='registered_year', data=data, hue='is_churn', ax=axes[0,1])\n",
    "sns.countplot(x='registered_via', data=data, hue='is_churn', ax=axes[1,0])\n",
    "sns.countplot(x='age_group', data=data, hue='is_churn', ax=axes[1,1])\n",
    "\n"
   ]
  },
  {
   "cell_type": "code",
   "execution_count": 21,
   "id": "3c7a5053-89b2-4c5c-abc7-38c1b725da51",
   "metadata": {},
   "outputs": [
    {
     "data": {
      "text/plain": [
       "(20, 30]     616044\n",
       "(30, 40]     101905\n",
       "(10, 20]      39166\n",
       "(40, 50]      31151\n",
       "(50, 60]       9966\n",
       "(60, 70]       1715\n",
       "(70, 80]        242\n",
       "(0, 10]         111\n",
       "(90, 100]       104\n",
       "(80, 90]        101\n",
       "Name: age_group, dtype: int64"
      ]
     },
     "execution_count": 21,
     "metadata": {},
     "output_type": "execute_result"
    }
   ],
   "source": [
    "data['age_group'].value_counts()"
   ]
  },
  {
   "cell_type": "code",
   "execution_count": 22,
   "id": "1df2f4f6-c638-425a-bdbf-c5951d770d9b",
   "metadata": {},
   "outputs": [
    {
     "data": {
      "text/plain": [
       "1.0     393226\n",
       "13.0     95075\n",
       "5.0      68885\n",
       "4.0      45952\n",
       "15.0     42060\n",
       "22.0     40749\n",
       "6.0      25292\n",
       "14.0     19403\n",
       "12.0     11054\n",
       "9.0       9282\n",
       "11.0      8860\n",
       "18.0      7580\n",
       "8.0       7335\n",
       "10.0      6285\n",
       "17.0      5300\n",
       "21.0      5019\n",
       "3.0       4887\n",
       "7.0       2562\n",
       "16.0       917\n",
       "20.0       648\n",
       "19.0       134\n",
       "Name: city, dtype: int64"
      ]
     },
     "execution_count": 22,
     "metadata": {},
     "output_type": "execute_result"
    }
   ],
   "source": [
    "data['city'].value_counts()"
   ]
  },
  {
   "cell_type": "code",
   "execution_count": 23,
   "id": "68f32dac-66e8-4d44-aa90-6f77cd8cac53",
   "metadata": {},
   "outputs": [
    {
     "data": {
      "text/plain": [
       "7.0     417102\n",
       "9.0     229486\n",
       "3.0     103040\n",
       "4.0      48419\n",
       "13.0      2458\n",
       "Name: registered_via, dtype: int64"
      ]
     },
     "execution_count": 23,
     "metadata": {},
     "output_type": "execute_result"
    }
   ],
   "source": [
    "data['registered_via'].value_counts()"
   ]
  },
  {
   "cell_type": "code",
   "execution_count": 24,
   "id": "0f94c068-6d07-4301-bf9b-4fe1bcf55fd0",
   "metadata": {},
   "outputs": [
    {
     "data": {
      "text/plain": [
       "2016.0    181422\n",
       "2015.0    145924\n",
       "2013.0    108337\n",
       "2014.0     84776\n",
       "2012.0     72275\n",
       "2011.0     58893\n",
       "2010.0     37397\n",
       "2007.0     25582\n",
       "2006.0     17664\n",
       "2008.0     17303\n",
       "2009.0     15391\n",
       "2005.0     15278\n",
       "2017.0     12083\n",
       "2004.0      8180\n",
       "Name: registered_year, dtype: int64"
      ]
     },
     "execution_count": 24,
     "metadata": {},
     "output_type": "execute_result"
    }
   ],
   "source": [
    "data['registered_year'].value_counts()"
   ]
  },
  {
   "cell_type": "markdown",
   "id": "e9d1d74e-0101-4c4c-9d8f-eae9da05b303",
   "metadata": {},
   "source": [
    "Handling Categorical columns - \n",
    "\n",
    "1) city - It is numeric. We don't want to encode it.\n",
    "2) age_group - It is object and can be ordinal encoded\n",
    "3) registered_via -  It is numeric. We don't want to encode it.\n",
    "4) registered_year -  It is numeric. We don't want to encode it."
   ]
  },
  {
   "cell_type": "code",
   "execution_count": 25,
   "id": "f4546cb6-b896-4d79-b566-c420aee676a8",
   "metadata": {},
   "outputs": [
    {
     "data": {
      "text/plain": [
       "0         (20, 30]\n",
       "1         (10, 20]\n",
       "2         (10, 20]\n",
       "3         (30, 40]\n",
       "4         (20, 30]\n",
       "            ...   \n",
       "800500    (20, 30]\n",
       "800501    (20, 30]\n",
       "800502    (20, 30]\n",
       "800503    (20, 30]\n",
       "800504    (20, 30]\n",
       "Name: age_group, Length: 800505, dtype: object"
      ]
     },
     "execution_count": 25,
     "metadata": {},
     "output_type": "execute_result"
    }
   ],
   "source": [
    "data.loc[:,'age_group']\n"
   ]
  },
  {
   "cell_type": "code",
   "execution_count": 26,
   "id": "241d5a63-658e-4a76-bfc6-486dd30a5dc4",
   "metadata": {},
   "outputs": [
    {
     "name": "stderr",
     "output_type": "stream",
     "text": [
      "C:\\Users\\elave\\AppData\\Local\\Temp\\ipykernel_9712\\3429742446.py:7: DeprecationWarning: In a future version, `df.iloc[:, i] = newvals` will attempt to set the values inplace instead of always setting a new array. To retain the old behavior, use either `df[df.columns[i]] = newvals` or, if columns are non-unique, `df.isetitem(i, newvals)`\n",
      "  data.loc[:,'age_group'] = np.squeeze(encode)\n"
     ]
    },
    {
     "data": {
      "text/plain": [
       "0         2.0\n",
       "1         1.0\n",
       "2         1.0\n",
       "3         3.0\n",
       "4         2.0\n",
       "         ... \n",
       "800500    2.0\n",
       "800501    2.0\n",
       "800502    2.0\n",
       "800503    2.0\n",
       "800504    2.0\n",
       "Name: age_group, Length: 800505, dtype: float64"
      ]
     },
     "execution_count": 26,
     "metadata": {},
     "output_type": "execute_result"
    }
   ],
   "source": [
    "#Preprocessing step 1 : Ordinal encoding for age_group column\n",
    "from sklearn.preprocessing import OrdinalEncoder\n",
    "ordinal = OrdinalEncoder()\n",
    "reshape = data[['age_group']].values.reshape(-1,1)\n",
    "reshape\n",
    "encode = ordinal.fit_transform(reshape)\n",
    "data.loc[:,'age_group'] = np.squeeze(encode)\n",
    "data.loc[:,'age_group']"
   ]
  },
  {
   "cell_type": "code",
   "execution_count": 27,
   "id": "34466dad-6ac5-4910-a0eb-4605df3b6a22",
   "metadata": {},
   "outputs": [],
   "source": [
    "#drop age column\n",
    "data.drop(['bd'],axis=1,inplace=True)"
   ]
  },
  {
   "cell_type": "code",
   "execution_count": 28,
   "id": "fd6ee33b-2792-4256-a160-eb25cafc6d3d",
   "metadata": {},
   "outputs": [],
   "source": [
    "#data is not consistent - better to drop this field\n",
    "data.drop(['last_transaction_Exp_year'],axis=1,inplace=True)"
   ]
  },
  {
   "cell_type": "code",
   "execution_count": 30,
   "id": "97f40647-c92c-4a34-8a83-f9a8ad650d48",
   "metadata": {},
   "outputs": [],
   "source": [
    "data.drop(['registration_init_time'],axis=1,inplace=True)"
   ]
  },
  {
   "cell_type": "code",
   "execution_count": 31,
   "id": "36de6627-f495-48b2-b931-a88cc5dd6547",
   "metadata": {},
   "outputs": [
    {
     "name": "stdout",
     "output_type": "stream",
     "text": [
      "<class 'pandas.core.frame.DataFrame'>\n",
      "RangeIndex: 800505 entries, 0 to 800504\n",
      "Data columns (total 83 columns):\n",
      " #   Column                             Non-Null Count   Dtype  \n",
      "---  ------                             --------------   -----  \n",
      " 0   msno                               800505 non-null  object \n",
      " 1   is_churn                           800505 non-null  int64  \n",
      " 2   city                               800505 non-null  float64\n",
      " 3   registered_via                     800505 non-null  float64\n",
      " 4   registered_year                    800505 non-null  float64\n",
      " 5   change_in_payment_method           800505 non-null  int64  \n",
      " 6   total_transaction                  800505 non-null  int64  \n",
      " 7   max_payment_method                 800505 non-null  int64  \n",
      " 8   avg_plan_days                      800505 non-null  float64\n",
      " 9   sum_plan_days                      800505 non-null  int64  \n",
      " 10  change_in_plan_days                800505 non-null  int64  \n",
      " 11  avg_list_price                     800505 non-null  float64\n",
      " 12  sum_list_price                     800505 non-null  int64  \n",
      " 13  change_in_list_price               800505 non-null  int64  \n",
      " 14  avg_amt_paid                       800505 non-null  float64\n",
      " 15  sum_amt_paid                       800505 non-null  int64  \n",
      " 16  change_in_amt_paid                 800505 non-null  int64  \n",
      " 17  avg_discount                       800505 non-null  float64\n",
      " 18  sum_discount                       800505 non-null  int64  \n",
      " 19  last_cancel_status                 800505 non-null  int64  \n",
      " 20  last_auto_renew                    800505 non-null  int64  \n",
      " 21  avg_days_diff_trans_exp            800505 non-null  float64\n",
      " 22  autorenew_not_cancel_flag          800505 non-null  int64  \n",
      " 23  not_autorenew_cancel_flag          800505 non-null  int64  \n",
      " 24  last_month_login_count             800505 non-null  float64\n",
      " 25  last_month_sum_num25               800505 non-null  float64\n",
      " 26  last_month_mean_num25              800505 non-null  float64\n",
      " 27  last_month_sum_num50               800505 non-null  float64\n",
      " 28  last_month_mean_num50              800505 non-null  float64\n",
      " 29  last_month_sum_num75               800505 non-null  float64\n",
      " 30  last_month_mean_num75              800505 non-null  float64\n",
      " 31  last_month_sum_num985              800505 non-null  float64\n",
      " 32  last_month_mean_num985             800505 non-null  float64\n",
      " 33  last_month_sum_num100              800505 non-null  float64\n",
      " 34  last_month_mean_num100             800505 non-null  float64\n",
      " 35  last_month_sum_num_unq             800505 non-null  float64\n",
      " 36  last_month_mean_num_unq            800505 non-null  float64\n",
      " 37  last_month_total_secs_sum          800505 non-null  float64\n",
      " 38  last_month_total_secs_mean         800505 non-null  float64\n",
      " 39  last_second_month_login_count      800505 non-null  float64\n",
      " 40  last_second_month_sum_num25        800505 non-null  float64\n",
      " 41  last_second_month_mean_num25       800505 non-null  float64\n",
      " 42  last_second_month_sum_num50        800505 non-null  float64\n",
      " 43  last_second_month_mean_num50       800505 non-null  float64\n",
      " 44  last_second_month_sum_num75        800505 non-null  float64\n",
      " 45  last_second_month_mean_num75       800505 non-null  float64\n",
      " 46  last_second_month_sum_num985       800505 non-null  float64\n",
      " 47  last_second_month_mean_num985      800505 non-null  float64\n",
      " 48  last_second_month_sum_num_100      800505 non-null  float64\n",
      " 49  last_second_month_mean_num100      800505 non-null  float64\n",
      " 50  last_second_month_sum_num_unq      800505 non-null  float64\n",
      " 51  last_second_month_mean_num_unq     800505 non-null  float64\n",
      " 52  last_second_month_total_secs_sum   800505 non-null  float64\n",
      " 53  last_second_month_total_secs_mean  800505 non-null  float64\n",
      " 54  last_third_month_login_count       800505 non-null  float64\n",
      " 55  last_third_month_sum_num25         800505 non-null  float64\n",
      " 56  last_third_month_mean_num25        800505 non-null  float64\n",
      " 57  last_third_month_sum_num50         800505 non-null  float64\n",
      " 58  last_third_month_mean_num50        800505 non-null  float64\n",
      " 59  last_third_month_sum_num75         800505 non-null  float64\n",
      " 60  last_third_month_mean_num75        800505 non-null  float64\n",
      " 61  last_third_month_sum_num985        800505 non-null  float64\n",
      " 62  last_third_month_mean_num985       800505 non-null  float64\n",
      " 63  last_third_month_sum_num_100       800505 non-null  float64\n",
      " 64  last_third_month_mean_num100       800505 non-null  float64\n",
      " 65  last_third_month_sum_num_unq       800505 non-null  float64\n",
      " 66  last_third_month_mean_num_unq      800505 non-null  float64\n",
      " 67  last_third_month_total_secs_sum    800505 non-null  float64\n",
      " 68  last_third_month_total_secs_mean   800505 non-null  float64\n",
      " 69  diff_last2month_sum_num25          800505 non-null  float64\n",
      " 70  diff_last2month_mean_num25         800505 non-null  float64\n",
      " 71  diff_last2month_sum_num50          800505 non-null  float64\n",
      " 72  diff_last2month_sum_num75          800505 non-null  float64\n",
      " 73  diff_last2month_mean_num75         800505 non-null  float64\n",
      " 74  diff_last2month_sum_num985         800505 non-null  float64\n",
      " 75  diff_last2month_mean_num985        800505 non-null  float64\n",
      " 76  diff_last2month_sum_num100         800505 non-null  float64\n",
      " 77  diff_last2month_mean_num100        800505 non-null  float64\n",
      " 78  diff_last2month_sum_num_unq        800505 non-null  float64\n",
      " 79  diff_last2month_mean_num_unq       800505 non-null  float64\n",
      " 80  age_group                          800505 non-null  float64\n",
      " 81  diff_last2month_total_secs_sum     800505 non-null  float64\n",
      " 82  Days_Diff_trans_expire_date        800505 non-null  int64  \n",
      "dtypes: float64(66), int64(16), object(1)\n",
      "memory usage: 506.9+ MB\n"
     ]
    }
   ],
   "source": [
    "data.info()"
   ]
  },
  {
   "cell_type": "code",
   "execution_count": 33,
   "id": "0e3d0c38-2714-49be-8d76-3545fde6ae17",
   "metadata": {},
   "outputs": [],
   "source": [
    "data.to_csv('../data/processed/preprocessed.csv')"
   ]
  },
  {
   "cell_type": "code",
   "execution_count": 2,
   "id": "244f2e19-5a98-4c9c-81b7-83179a642ebb",
   "metadata": {},
   "outputs": [],
   "source": [
    "data = pd.read_csv('../data/processed/preprocessed.csv')"
   ]
  },
  {
   "cell_type": "code",
   "execution_count": 3,
   "id": "36c72c56-7216-4af5-ada4-f2028ff3b6ad",
   "metadata": {},
   "outputs": [],
   "source": [
    "#Preprocessing step 2 : Standardization of numeric features\n",
    "\n",
    "from sklearn.preprocessing import StandardScaler\n",
    "\n",
    "scaler = StandardScaler()\n",
    "#including only numeric column for scaling (exclude category and bool)\n",
    "data_num = data.drop(['msno','is_churn','city','registered_via','registered_year','age_group','last_cancel_status','last_auto_renew','autorenew_not_cancel_flag','not_autorenew_cancel_flag','Days_Diff_trans_expire_date'],axis=1)\n",
    "data_scale = scaler.fit_transform(data_num)"
   ]
  },
  {
   "cell_type": "code",
   "execution_count": 4,
   "id": "c01977ff-cdff-4069-a945-f1ac272e58e5",
   "metadata": {},
   "outputs": [],
   "source": [
    "df_scale = pd.DataFrame(data_scale, columns = data_num.columns.tolist())"
   ]
  },
  {
   "cell_type": "code",
   "execution_count": 9,
   "id": "f61086cb-d4db-4d32-b181-211e7373717b",
   "metadata": {},
   "outputs": [],
   "source": [
    "\n",
    "#category and bool columns\n",
    "data_cat_bool = data[['msno','is_churn','city','registered_via','registered_year','age_group','last_cancel_status','last_auto_renew','autorenew_not_cancel_flag','not_autorenew_cancel_flag','Days_Diff_trans_expire_date']]"
   ]
  },
  {
   "cell_type": "code",
   "execution_count": 10,
   "id": "a50def1f-6ef6-4262-b94c-e251d206485e",
   "metadata": {},
   "outputs": [],
   "source": [
    "data_scaled =  pd.concat([data_cat_bool,df_scale],axis=1)"
   ]
  },
  {
   "cell_type": "code",
   "execution_count": 11,
   "id": "e467ed47-6655-4632-97a5-747423dc7121",
   "metadata": {},
   "outputs": [
    {
     "name": "stdout",
     "output_type": "stream",
     "text": [
      "<class 'pandas.core.frame.DataFrame'>\n",
      "RangeIndex: 800505 entries, 0 to 800504\n",
      "Data columns (total 84 columns):\n",
      " #   Column                             Non-Null Count   Dtype  \n",
      "---  ------                             --------------   -----  \n",
      " 0   msno                               800505 non-null  object \n",
      " 1   is_churn                           800505 non-null  int64  \n",
      " 2   city                               800505 non-null  float64\n",
      " 3   registered_via                     800505 non-null  float64\n",
      " 4   registered_year                    800505 non-null  float64\n",
      " 5   age_group                          800505 non-null  float64\n",
      " 6   last_cancel_status                 800505 non-null  int64  \n",
      " 7   last_auto_renew                    800505 non-null  int64  \n",
      " 8   autorenew_not_cancel_flag          800505 non-null  int64  \n",
      " 9   not_autorenew_cancel_flag          800505 non-null  int64  \n",
      " 10  Days_Diff_trans_expire_date        800505 non-null  int64  \n",
      " 11  Unnamed: 0                         800505 non-null  float64\n",
      " 12  change_in_payment_method           800505 non-null  float64\n",
      " 13  total_transaction                  800505 non-null  float64\n",
      " 14  max_payment_method                 800505 non-null  float64\n",
      " 15  avg_plan_days                      800505 non-null  float64\n",
      " 16  sum_plan_days                      800505 non-null  float64\n",
      " 17  change_in_plan_days                800505 non-null  float64\n",
      " 18  avg_list_price                     800505 non-null  float64\n",
      " 19  sum_list_price                     800505 non-null  float64\n",
      " 20  change_in_list_price               800505 non-null  float64\n",
      " 21  avg_amt_paid                       800505 non-null  float64\n",
      " 22  sum_amt_paid                       800505 non-null  float64\n",
      " 23  change_in_amt_paid                 800505 non-null  float64\n",
      " 24  avg_discount                       800505 non-null  float64\n",
      " 25  sum_discount                       800505 non-null  float64\n",
      " 26  avg_days_diff_trans_exp            800505 non-null  float64\n",
      " 27  last_month_login_count             800505 non-null  float64\n",
      " 28  last_month_sum_num25               800505 non-null  float64\n",
      " 29  last_month_mean_num25              800505 non-null  float64\n",
      " 30  last_month_sum_num50               800505 non-null  float64\n",
      " 31  last_month_mean_num50              800505 non-null  float64\n",
      " 32  last_month_sum_num75               800505 non-null  float64\n",
      " 33  last_month_mean_num75              800505 non-null  float64\n",
      " 34  last_month_sum_num985              800505 non-null  float64\n",
      " 35  last_month_mean_num985             800505 non-null  float64\n",
      " 36  last_month_sum_num100              800505 non-null  float64\n",
      " 37  last_month_mean_num100             800505 non-null  float64\n",
      " 38  last_month_sum_num_unq             800505 non-null  float64\n",
      " 39  last_month_mean_num_unq            800505 non-null  float64\n",
      " 40  last_month_total_secs_sum          800505 non-null  float64\n",
      " 41  last_month_total_secs_mean         800505 non-null  float64\n",
      " 42  last_second_month_login_count      800505 non-null  float64\n",
      " 43  last_second_month_sum_num25        800505 non-null  float64\n",
      " 44  last_second_month_mean_num25       800505 non-null  float64\n",
      " 45  last_second_month_sum_num50        800505 non-null  float64\n",
      " 46  last_second_month_mean_num50       800505 non-null  float64\n",
      " 47  last_second_month_sum_num75        800505 non-null  float64\n",
      " 48  last_second_month_mean_num75       800505 non-null  float64\n",
      " 49  last_second_month_sum_num985       800505 non-null  float64\n",
      " 50  last_second_month_mean_num985      800505 non-null  float64\n",
      " 51  last_second_month_sum_num_100      800505 non-null  float64\n",
      " 52  last_second_month_mean_num100      800505 non-null  float64\n",
      " 53  last_second_month_sum_num_unq      800505 non-null  float64\n",
      " 54  last_second_month_mean_num_unq     800505 non-null  float64\n",
      " 55  last_second_month_total_secs_sum   800505 non-null  float64\n",
      " 56  last_second_month_total_secs_mean  800505 non-null  float64\n",
      " 57  last_third_month_login_count       800505 non-null  float64\n",
      " 58  last_third_month_sum_num25         800505 non-null  float64\n",
      " 59  last_third_month_mean_num25        800505 non-null  float64\n",
      " 60  last_third_month_sum_num50         800505 non-null  float64\n",
      " 61  last_third_month_mean_num50        800505 non-null  float64\n",
      " 62  last_third_month_sum_num75         800505 non-null  float64\n",
      " 63  last_third_month_mean_num75        800505 non-null  float64\n",
      " 64  last_third_month_sum_num985        800505 non-null  float64\n",
      " 65  last_third_month_mean_num985       800505 non-null  float64\n",
      " 66  last_third_month_sum_num_100       800505 non-null  float64\n",
      " 67  last_third_month_mean_num100       800505 non-null  float64\n",
      " 68  last_third_month_sum_num_unq       800505 non-null  float64\n",
      " 69  last_third_month_mean_num_unq      800505 non-null  float64\n",
      " 70  last_third_month_total_secs_sum    800505 non-null  float64\n",
      " 71  last_third_month_total_secs_mean   800505 non-null  float64\n",
      " 72  diff_last2month_sum_num25          800505 non-null  float64\n",
      " 73  diff_last2month_mean_num25         800505 non-null  float64\n",
      " 74  diff_last2month_sum_num50          800505 non-null  float64\n",
      " 75  diff_last2month_sum_num75          800505 non-null  float64\n",
      " 76  diff_last2month_mean_num75         800505 non-null  float64\n",
      " 77  diff_last2month_sum_num985         800505 non-null  float64\n",
      " 78  diff_last2month_mean_num985        800505 non-null  float64\n",
      " 79  diff_last2month_sum_num100         800505 non-null  float64\n",
      " 80  diff_last2month_mean_num100        800505 non-null  float64\n",
      " 81  diff_last2month_sum_num_unq        800505 non-null  float64\n",
      " 82  diff_last2month_mean_num_unq       800505 non-null  float64\n",
      " 83  diff_last2month_total_secs_sum     800505 non-null  float64\n",
      "dtypes: float64(77), int64(6), object(1)\n",
      "memory usage: 513.0+ MB\n"
     ]
    }
   ],
   "source": [
    "data_scaled.info()"
   ]
  },
  {
   "cell_type": "code",
   "execution_count": 12,
   "id": "18342a4a-60da-4f7c-8544-0d5c9c3bdcfe",
   "metadata": {},
   "outputs": [],
   "source": [
    "data_scaled.to_csv('../data/processed/preprocessed_scaled.csv')"
   ]
  },
  {
   "cell_type": "code",
   "execution_count": 88,
   "id": "a955b25c-5102-4cb7-bede-549abfa3f4a4",
   "metadata": {},
   "outputs": [],
   "source": [
    "#Preprocessing step 3 : splitting into train and test set\n",
    "\n",
    "from sklearn.model_selection import train_test_split\n",
    "\n",
    "X = data_scaled.drop(['is_churn'],axis=1)\n",
    "y= data_scaled[['is_churn']]\n",
    "X_train, X_test, y_train, y_test = train_test_split(X, y, test_size=0.25, random_state=42,stratify=y)\n"
   ]
  },
  {
   "cell_type": "code",
   "execution_count": 93,
   "id": "3535c612-bf0d-45d0-a2cf-c92fe409a9fa",
   "metadata": {},
   "outputs": [
    {
     "data": {
      "text/plain": [
       "((600378, 81), (600378, 1), (200127, 81), (200127, 1))"
      ]
     },
     "execution_count": 93,
     "metadata": {},
     "output_type": "execute_result"
    }
   ],
   "source": [
    "X_train.shape, y_train.shape, X_test.shape, y_test.shape\n"
   ]
  },
  {
   "cell_type": "code",
   "execution_count": null,
   "id": "bd2a5c65-a83d-4661-a335-2b40506ac184",
   "metadata": {},
   "outputs": [],
   "source": [
    "# preprocessing removing outlier\n",
    "\n",
    "#For each column, it first computes the Z-score of each value in the column, relative to the column mean and standard deviation.\n",
    "#It then takes the absolute Z-score because the direction does not matter, only if it is below the threshold.\n",
    "#( < 3).all(axis=1) checks if, for each row, all column values are within 3 standard deviations from the mean\n",
    "from scipy import stats\n",
    "\n",
    "data_outlier  = data[(np.abs(stats.zscore(data)) < 3).all(axis=1)]\n",
    "data_outlier.shape"
   ]
  },
  {
   "cell_type": "code",
   "execution_count": null,
   "id": "1afba898-01a8-48de-ad22-477ffe69804f",
   "metadata": {},
   "outputs": [],
   "source": [
    "                                        "
   ]
  }
 ],
 "metadata": {
  "kernelspec": {
   "display_name": "Python 3 (ipykernel)",
   "language": "python",
   "name": "python3"
  },
  "language_info": {
   "codemirror_mode": {
    "name": "ipython",
    "version": 3
   },
   "file_extension": ".py",
   "mimetype": "text/x-python",
   "name": "python",
   "nbconvert_exporter": "python",
   "pygments_lexer": "ipython3",
   "version": "3.11.4"
  }
 },
 "nbformat": 4,
 "nbformat_minor": 5
}
