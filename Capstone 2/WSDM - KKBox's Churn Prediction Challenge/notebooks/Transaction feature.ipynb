{
 "cells": [
  {
   "cell_type": "code",
   "execution_count": 1,
   "id": "70f0f323-a11c-4421-8342-56a13126ddbd",
   "metadata": {},
   "outputs": [],
   "source": [
    "import numpy as np # linear algebra\n",
    "import pandas as pd # data processing, CSV file I/O (e.g. pd.read_csv)\n",
    "import matplotlib.pyplot as plt\n",
    "import seaborn as sns"
   ]
  },
  {
   "cell_type": "code",
   "execution_count": 2,
   "id": "39367823-12d8-4823-954d-f28c6272c42d",
   "metadata": {},
   "outputs": [],
   "source": [
    "import collections"
   ]
  },
  {
   "cell_type": "code",
   "execution_count": 3,
   "id": "1522de87-4f3c-4be7-b844-98ddd18b5d4a",
   "metadata": {},
   "outputs": [],
   "source": [
    "transaction=pd.read_csv('../data/processed/transaction_merged.csv',parse_dates=['transaction_date','membership_expire_date'])\n"
   ]
  },
  {
   "cell_type": "markdown",
   "id": "7097fc21-2555-4984-8a5e-0e0667261e48",
   "metadata": {},
   "source": [
    "reduce Datatype"
   ]
  },
  {
   "cell_type": "code",
   "execution_count": 13,
   "id": "39fc688a-5b24-4776-85e2-31a1216e3e90",
   "metadata": {},
   "outputs": [],
   "source": [
    "def reducedatatype(df):\n",
    "    int_col = list(df.select_dtypes(include=[int]).columns)\n",
    "    for col in int_col:\n",
    "        if((np.min(df[col]) >= -127) and (np.max(df[col]) <= 127)):\n",
    "            df[col] = df[col].astype(np.int8)\n",
    "        elif((np.min(df[col]) >= -32768) and (np.max(df[col]) <= 32768)):\n",
    "            df[col] = df[col].astype(np.int16)\n",
    "        elif((np.min(df[col]) >= -2147483647) and (np.max(df[col]) <= 2147483647)):\n",
    "            df[col] = df[col].astype(np.int32)\n",
    "        else:\n",
    "            df[col] = df[col].astype(np.int64)\n",
    "    int_float = list(df.select_dtypes(include=[float]).columns)\n",
    "    for col in int_float:\n",
    "        df[col] = df[col].astype(np.float32)\n",
    "\n",
    "           "
   ]
  },
  {
   "cell_type": "code",
   "execution_count": 14,
   "id": "27f504be-fef4-4c96-8ace-583bc46298e4",
   "metadata": {},
   "outputs": [],
   "source": [
    "reducedatatype(transaction)"
   ]
  },
  {
   "cell_type": "code",
   "execution_count": 67,
   "id": "501ee1f0-dcfe-4329-9ff5-555029dd02e2",
   "metadata": {},
   "outputs": [],
   "source": [
    "# feature sum of  unique payment method id for a user\n",
    "change_in_payment_method = transaction.groupby('msno')['payment_method_id'].nunique()"
   ]
  },
  {
   "cell_type": "code",
   "execution_count": 34,
   "id": "08094336-1bc3-4575-8a90-3dcc51c908aa",
   "metadata": {},
   "outputs": [],
   "source": [
    "# feature count the number of transaction id for a user\n",
    "count_transaction = transaction.groupby('msno')['payment_method_id'].count()"
   ]
  },
  {
   "cell_type": "code",
   "execution_count": 35,
   "id": "e6793e36-150c-46dc-96c8-f5ec872b1a7c",
   "metadata": {},
   "outputs": [],
   "source": [
    "# feature max of payment method id for a user\n",
    "max_payment_method = transaction.groupby('msno')['payment_method_id'].max()"
   ]
  },
  {
   "cell_type": "code",
   "execution_count": 36,
   "id": "0626c8f8-6c30-4fcd-9c33-e11fb7f02b4f",
   "metadata": {},
   "outputs": [],
   "source": [
    "# feature avg payment plan for user\n",
    "avg_plan_days = transaction.groupby('msno')['payment_plan_days'].mean()"
   ]
  },
  {
   "cell_type": "code",
   "execution_count": 37,
   "id": "b0c8a191-3a8f-40dc-9062-24eb09c1d238",
   "metadata": {},
   "outputs": [],
   "source": [
    "# feature sum payment plan for user\n",
    "sum_plan_days = transaction.groupby('msno')['payment_plan_days'].sum()"
   ]
  },
  {
   "cell_type": "code",
   "execution_count": 68,
   "id": "2781ed18-da95-4b6e-956b-db8b34c6ceb2",
   "metadata": {},
   "outputs": [],
   "source": [
    "# feature unique sum payment plan for user\n",
    "change_in_plan_days = transaction.groupby('msno')['payment_plan_days'].nunique()"
   ]
  },
  {
   "cell_type": "code",
   "execution_count": 39,
   "id": "f2077ebc-beae-4a29-8e05-5b87b420b7f8",
   "metadata": {},
   "outputs": [],
   "source": [
    "# feature avg plan list price for user\n",
    "avg_list_price = transaction.groupby('msno')['plan_list_price'].mean()"
   ]
  },
  {
   "cell_type": "code",
   "execution_count": 40,
   "id": "a9d8c7b3-b2f4-47fd-9f1a-4a952fd14fb7",
   "metadata": {},
   "outputs": [],
   "source": [
    "# feature sum plan list price for user\n",
    "sum_list_price = transaction.groupby('msno')['plan_list_price'].sum()"
   ]
  },
  {
   "cell_type": "code",
   "execution_count": 69,
   "id": "9965e827-eb6c-4697-ade1-4ee2ed128d01",
   "metadata": {},
   "outputs": [],
   "source": [
    "# feature unique sum plan list price for user\n",
    "change_in_list_price = transaction.groupby('msno')['plan_list_price'].nunique()"
   ]
  },
  {
   "cell_type": "code",
   "execution_count": 42,
   "id": "237c83fc-9a3c-418c-88c5-3b8ea070627c",
   "metadata": {},
   "outputs": [],
   "source": [
    "# feature mean actual amount paid  for user\n",
    "avg_amt_paid = transaction.groupby('msno')['actual_amount_paid'].mean()"
   ]
  },
  {
   "cell_type": "code",
   "execution_count": 43,
   "id": "6910f850-3f59-4114-97c6-a948e71edd81",
   "metadata": {},
   "outputs": [],
   "source": [
    "# feature sum actual amount paid  for user\n",
    "sum_amt_paid = transaction.groupby('msno')['actual_amount_paid'].sum()"
   ]
  },
  {
   "cell_type": "code",
   "execution_count": 70,
   "id": "59bf77a9-7327-438e-9e8a-a9dc2340f9d2",
   "metadata": {},
   "outputs": [],
   "source": [
    "# feature unique sum actual amount paid  for user\n",
    "change_in_amt_paid = transaction.groupby('msno')['actual_amount_paid'].nunique()"
   ]
  },
  {
   "cell_type": "code",
   "execution_count": 99,
   "id": "4d25163c-d995-47be-b2fd-289a3f00fc16",
   "metadata": {},
   "outputs": [
    {
     "data": {
      "text/plain": [
       "msno\n",
       "+++FOrTS7ab3tIgIh8eWwX4FqRv8w/FoiOuyXsFvphY=    0.000000\n",
       "+++IZseRRiQS9aaSkH6cMYU6bGDcxUieAi/tH67sC5s=    0.000000\n",
       "+++hVY1rZox/33YtvDgmKA2Frg/2qhkz12B9ylCvh8o=    0.000000\n",
       "+++l/EXNMLTijfLBa8p2TUVVVp2aFGSuUI/h7mLmthw=    7.095238\n",
       "+++snpr7pmobhLKUgSHTv/mpkqgBT0tQJ0zQj6qKrqc=    5.518519\n",
       "                                                  ...   \n",
       "zzz9+ZF4+GMyt63oU8xfjo1EkvRqH5OINlES0RUJI6I=    0.000000\n",
       "zzzF1KsGfHH3qI6qiSNSXC35UXmVKMVFdxkp7xmDMc0=    0.000000\n",
       "zzzN9thH22os1dRS0VHReY/8FTfGHOi86//d+wGGFsQ=    0.000000\n",
       "zzztsqkufVj9DPVJDM3FxDkhlbCL5z4aiYxgPSGkIK4=    0.000000\n",
       "zzzyOgMk9MljCerbCCYrVtvu85aSCiy7yCMjAEgNYMs=    0.000000\n",
       "Name: avg_discount, Length: 2426143, dtype: float64"
      ]
     },
     "execution_count": 99,
     "metadata": {},
     "output_type": "execute_result"
    }
   ],
   "source": [
    "# feature avg discount\n",
    "avg_discount =  avg_amt_paid - avg_list_price\n",
    "avg_discount.rename('avg_discount',inplace=True)"
   ]
  },
  {
   "cell_type": "code",
   "execution_count": 104,
   "id": "f0b310a1-caf3-4847-8d11-93abe504d4b4",
   "metadata": {},
   "outputs": [
    {
     "data": {
      "text/plain": [
       "msno\n",
       "+++FOrTS7ab3tIgIh8eWwX4FqRv8w/FoiOuyXsFvphY=      0\n",
       "+++IZseRRiQS9aaSkH6cMYU6bGDcxUieAi/tH67sC5s=      0\n",
       "+++hVY1rZox/33YtvDgmKA2Frg/2qhkz12B9ylCvh8o=      0\n",
       "+++l/EXNMLTijfLBa8p2TUVVVp2aFGSuUI/h7mLmthw=    149\n",
       "+++snpr7pmobhLKUgSHTv/mpkqgBT0tQJ0zQj6qKrqc=    149\n",
       "                                               ... \n",
       "zzz9+ZF4+GMyt63oU8xfjo1EkvRqH5OINlES0RUJI6I=      0\n",
       "zzzF1KsGfHH3qI6qiSNSXC35UXmVKMVFdxkp7xmDMc0=      0\n",
       "zzzN9thH22os1dRS0VHReY/8FTfGHOi86//d+wGGFsQ=      0\n",
       "zzztsqkufVj9DPVJDM3FxDkhlbCL5z4aiYxgPSGkIK4=      0\n",
       "zzzyOgMk9MljCerbCCYrVtvu85aSCiy7yCMjAEgNYMs=      0\n",
       "Name: sum_discount, Length: 2426143, dtype: int64"
      ]
     },
     "execution_count": 104,
     "metadata": {},
     "output_type": "execute_result"
    }
   ],
   "source": [
    "# feature sum discount for user\n",
    "sum_discount =  sum_amt_paid - sum_list_price\n",
    "sum_discount.rename('sum_discount',inplace=True)"
   ]
  },
  {
   "cell_type": "code",
   "execution_count": 146,
   "id": "368a572a-c3d4-4dc7-a9fe-5c085cabe17a",
   "metadata": {},
   "outputs": [
    {
     "data": {
      "text/plain": [
       "msno\n",
       "+++FOrTS7ab3tIgIh8eWwX4FqRv8w/FoiOuyXsFvphY=    0\n",
       "+++IZseRRiQS9aaSkH6cMYU6bGDcxUieAi/tH67sC5s=    0\n",
       "+++hVY1rZox/33YtvDgmKA2Frg/2qhkz12B9ylCvh8o=    0\n",
       "+++l/EXNMLTijfLBa8p2TUVVVp2aFGSuUI/h7mLmthw=    0\n",
       "+++snpr7pmobhLKUgSHTv/mpkqgBT0tQJ0zQj6qKrqc=    0\n",
       "                                               ..\n",
       "zzz9+ZF4+GMyt63oU8xfjo1EkvRqH5OINlES0RUJI6I=    0\n",
       "zzzF1KsGfHH3qI6qiSNSXC35UXmVKMVFdxkp7xmDMc0=    0\n",
       "zzzN9thH22os1dRS0VHReY/8FTfGHOi86//d+wGGFsQ=    0\n",
       "zzztsqkufVj9DPVJDM3FxDkhlbCL5z4aiYxgPSGkIK4=    0\n",
       "zzzyOgMk9MljCerbCCYrVtvu85aSCiy7yCMjAEgNYMs=    0\n",
       "Name: last_cancel_status, Length: 2426143, dtype: int8"
      ]
     },
     "execution_count": 146,
     "metadata": {},
     "output_type": "execute_result"
    }
   ],
   "source": [
    "# feature Last is_cancel flag\n",
    "last_cancel_status = transaction.groupby('msno')['is_cancel'].nth(-1)\n",
    "last_cancel_status.rename('last_cancel_status',inplace=True)"
   ]
  },
  {
   "cell_type": "code",
   "execution_count": 148,
   "id": "027c09e2-6bf0-4acc-9cf6-56ae052c09b2",
   "metadata": {},
   "outputs": [
    {
     "data": {
      "text/plain": [
       "msno\n",
       "+++FOrTS7ab3tIgIh8eWwX4FqRv8w/FoiOuyXsFvphY=    0\n",
       "+++IZseRRiQS9aaSkH6cMYU6bGDcxUieAi/tH67sC5s=    0\n",
       "+++hVY1rZox/33YtvDgmKA2Frg/2qhkz12B9ylCvh8o=    1\n",
       "+++l/EXNMLTijfLBa8p2TUVVVp2aFGSuUI/h7mLmthw=    1\n",
       "+++snpr7pmobhLKUgSHTv/mpkqgBT0tQJ0zQj6qKrqc=    1\n",
       "                                               ..\n",
       "zzz9+ZF4+GMyt63oU8xfjo1EkvRqH5OINlES0RUJI6I=    1\n",
       "zzzF1KsGfHH3qI6qiSNSXC35UXmVKMVFdxkp7xmDMc0=    1\n",
       "zzzN9thH22os1dRS0VHReY/8FTfGHOi86//d+wGGFsQ=    1\n",
       "zzztsqkufVj9DPVJDM3FxDkhlbCL5z4aiYxgPSGkIK4=    0\n",
       "zzzyOgMk9MljCerbCCYrVtvu85aSCiy7yCMjAEgNYMs=    0\n",
       "Name: last_auto_renew, Length: 2426143, dtype: int8"
      ]
     },
     "execution_count": 148,
     "metadata": {},
     "output_type": "execute_result"
    }
   ],
   "source": [
    "# feature Last auto_renew flag\n",
    "last_auto_renew = transaction.groupby('msno')['is_auto_renew'].nth(-1)\n",
    "last_auto_renew.rename('last_auto_renew',inplace=True)"
   ]
  },
  {
   "cell_type": "code",
   "execution_count": 56,
   "id": "08d7ed73-6f00-4bd1-a16b-a859722b7b68",
   "metadata": {},
   "outputs": [],
   "source": [
    "transaction[\"autorenew_not_cancel\"]=((transaction['is_auto_renew'] == 1) == (transaction['is_cancel'] == 0)).astype(np.int8)\n",
    "autorenew_not_cancel=transaction.groupby('msno')['autorenew_not_cancel'].min()"
   ]
  },
  {
   "cell_type": "code",
   "execution_count": 76,
   "id": "2b384c94-148c-4094-a3a6-eecf1d7ba5f8",
   "metadata": {},
   "outputs": [],
   "source": [
    "# feature days_diff_trans_exp - trans and expirate date difference\n",
    "transaction['days_diff'] = (transaction['membership_expire_date']-transaction['transaction_date']).dt.days\n"
   ]
  },
  {
   "cell_type": "code",
   "execution_count": 78,
   "id": "75f0104c-a979-436a-a433-e5f40fc8ff99",
   "metadata": {},
   "outputs": [],
   "source": [
    "avg_days_diff_trans_exp = transaction.groupby('msno')['days_diff'].mean()\n"
   ]
  },
  {
   "cell_type": "code",
   "execution_count": 161,
   "id": "07bad4eb-87e8-463e-8fc9-926ad0b18b9b",
   "metadata": {},
   "outputs": [],
   "source": [
    "features=[change_in_payment_method,count_transaction,max_payment_method,avg_plan_days,sum_plan_days,change_in_plan_days,\n",
    "          avg_list_price,sum_list_price,change_in_list_price,avg_amt_paid,sum_amt_paid,change_in_amt_paid,avg_discount,\n",
    "          sum_discount,last_cancel_status,last_auto_renew,\n",
    "          avg_days_diff_trans_exp]"
   ]
  },
  {
   "cell_type": "code",
   "execution_count": 162,
   "id": "5a0343e1-0e7b-4baa-910d-3066f4d07ad4",
   "metadata": {},
   "outputs": [],
   "source": [
    "from functools import reduce"
   ]
  },
  {
   "cell_type": "code",
   "execution_count": 163,
   "id": "7e95651d-f54f-4131-b805-2964be980aea",
   "metadata": {},
   "outputs": [],
   "source": [
    "transaction_feature = reduce(lambda left,right: pd.merge(left,right,on='msno'),features)"
   ]
  },
  {
   "cell_type": "code",
   "execution_count": 170,
   "id": "500e3cf3-9154-4c34-a0c1-80dfe4a7f868",
   "metadata": {},
   "outputs": [],
   "source": [
    "features_name=['change_in_payment_method','total_transaction','max_payment_method','avg_plan_days','sum_plan_days','change_in_plan_days',\n",
    "          'avg_list_price','sum_list_price','change_in_list_price','avg_amt_paid','sum_amt_paid','change_in_amt_paid','avg_discount',\n",
    "          'sum_discount','last_cancel_status','last_auto_renew',\n",
    "          'avg_days_diff_trans_exp']"
   ]
  },
  {
   "cell_type": "code",
   "execution_count": 172,
   "id": "b34c53f6-98e8-4679-9558-95b4f37f7639",
   "metadata": {},
   "outputs": [],
   "source": [
    "transaction_feature.columns=features_name\n"
   ]
  },
  {
   "cell_type": "code",
   "execution_count": 183,
   "id": "7e6e8f7b-f349-4910-a683-f16491b654da",
   "metadata": {},
   "outputs": [],
   "source": [
    "transaction_feature['autorenew_not_cancel_flag'] = ((transaction_feature['last_auto_renew']==1) == (transaction_feature['last_cancel_status']==0)).astype(np.int8)\n"
   ]
  },
  {
   "cell_type": "code",
   "execution_count": 184,
   "id": "95299ee8-70cd-463d-9bd8-b3fc23ee3e96",
   "metadata": {},
   "outputs": [],
   "source": [
    "transaction_feature['not_autorenew_cancel_flag'] = ((transaction_feature['last_auto_renew']==0) == (transaction_feature['last_cancel_status']==1)).astype(np.int8)"
   ]
  },
  {
   "cell_type": "code",
   "execution_count": 185,
   "id": "f27d7697-ba93-48c9-aff6-1b0bcad7026e",
   "metadata": {},
   "outputs": [
    {
     "data": {
      "text/html": [
       "<div>\n",
       "<style scoped>\n",
       "    .dataframe tbody tr th:only-of-type {\n",
       "        vertical-align: middle;\n",
       "    }\n",
       "\n",
       "    .dataframe tbody tr th {\n",
       "        vertical-align: top;\n",
       "    }\n",
       "\n",
       "    .dataframe thead th {\n",
       "        text-align: right;\n",
       "    }\n",
       "</style>\n",
       "<table border=\"1\" class=\"dataframe\">\n",
       "  <thead>\n",
       "    <tr style=\"text-align: right;\">\n",
       "      <th></th>\n",
       "      <th>change_in_payment_method</th>\n",
       "      <th>total_transaction</th>\n",
       "      <th>max_payment_method</th>\n",
       "      <th>avg_plan_days</th>\n",
       "      <th>sum_plan_days</th>\n",
       "      <th>change_in_plan_days</th>\n",
       "      <th>avg_list_price</th>\n",
       "      <th>sum_list_price</th>\n",
       "      <th>change_in_list_price</th>\n",
       "      <th>avg_amt_paid</th>\n",
       "      <th>sum_amt_paid</th>\n",
       "      <th>change_in_amt_paid</th>\n",
       "      <th>avg_discount</th>\n",
       "      <th>sum_discount</th>\n",
       "      <th>last_cancel_status</th>\n",
       "      <th>last_auto_renew</th>\n",
       "      <th>avg_days_diff_trans_exp</th>\n",
       "      <th>autorenew_not_cancel_flag</th>\n",
       "      <th>not_autorenew_cancel_flag</th>\n",
       "    </tr>\n",
       "    <tr>\n",
       "      <th>msno</th>\n",
       "      <th></th>\n",
       "      <th></th>\n",
       "      <th></th>\n",
       "      <th></th>\n",
       "      <th></th>\n",
       "      <th></th>\n",
       "      <th></th>\n",
       "      <th></th>\n",
       "      <th></th>\n",
       "      <th></th>\n",
       "      <th></th>\n",
       "      <th></th>\n",
       "      <th></th>\n",
       "      <th></th>\n",
       "      <th></th>\n",
       "      <th></th>\n",
       "      <th></th>\n",
       "      <th></th>\n",
       "      <th></th>\n",
       "    </tr>\n",
       "  </thead>\n",
       "  <tbody>\n",
       "    <tr>\n",
       "      <th>+++FOrTS7ab3tIgIh8eWwX4FqRv8w/FoiOuyXsFvphY=</th>\n",
       "      <td>1</td>\n",
       "      <td>1</td>\n",
       "      <td>35</td>\n",
       "      <td>7.000000</td>\n",
       "      <td>7</td>\n",
       "      <td>1</td>\n",
       "      <td>0.000000</td>\n",
       "      <td>0</td>\n",
       "      <td>1</td>\n",
       "      <td>0.000000</td>\n",
       "      <td>0</td>\n",
       "      <td>1</td>\n",
       "      <td>0.000000</td>\n",
       "      <td>0</td>\n",
       "      <td>0</td>\n",
       "      <td>0</td>\n",
       "      <td>5.000000</td>\n",
       "      <td>0</td>\n",
       "      <td>0</td>\n",
       "    </tr>\n",
       "    <tr>\n",
       "      <th>+++IZseRRiQS9aaSkH6cMYU6bGDcxUieAi/tH67sC5s=</th>\n",
       "      <td>2</td>\n",
       "      <td>2</td>\n",
       "      <td>38</td>\n",
       "      <td>402.500000</td>\n",
       "      <td>805</td>\n",
       "      <td>2</td>\n",
       "      <td>1693.500000</td>\n",
       "      <td>3387</td>\n",
       "      <td>2</td>\n",
       "      <td>1693.500000</td>\n",
       "      <td>3387</td>\n",
       "      <td>2</td>\n",
       "      <td>0.000000</td>\n",
       "      <td>0</td>\n",
       "      <td>0</td>\n",
       "      <td>0</td>\n",
       "      <td>440.500000</td>\n",
       "      <td>0</td>\n",
       "      <td>0</td>\n",
       "    </tr>\n",
       "    <tr>\n",
       "      <th>+++hVY1rZox/33YtvDgmKA2Frg/2qhkz12B9ylCvh8o=</th>\n",
       "      <td>1</td>\n",
       "      <td>5</td>\n",
       "      <td>41</td>\n",
       "      <td>30.000000</td>\n",
       "      <td>150</td>\n",
       "      <td>1</td>\n",
       "      <td>99.000000</td>\n",
       "      <td>495</td>\n",
       "      <td>1</td>\n",
       "      <td>99.000000</td>\n",
       "      <td>495</td>\n",
       "      <td>1</td>\n",
       "      <td>0.000000</td>\n",
       "      <td>0</td>\n",
       "      <td>0</td>\n",
       "      <td>1</td>\n",
       "      <td>30.000000</td>\n",
       "      <td>1</td>\n",
       "      <td>1</td>\n",
       "    </tr>\n",
       "    <tr>\n",
       "      <th>+++l/EXNMLTijfLBa8p2TUVVVp2aFGSuUI/h7mLmthw=</th>\n",
       "      <td>1</td>\n",
       "      <td>21</td>\n",
       "      <td>39</td>\n",
       "      <td>28.714286</td>\n",
       "      <td>603</td>\n",
       "      <td>3</td>\n",
       "      <td>141.904762</td>\n",
       "      <td>2980</td>\n",
       "      <td>2</td>\n",
       "      <td>149.000000</td>\n",
       "      <td>3129</td>\n",
       "      <td>1</td>\n",
       "      <td>7.095238</td>\n",
       "      <td>149</td>\n",
       "      <td>0</td>\n",
       "      <td>1</td>\n",
       "      <td>49.095238</td>\n",
       "      <td>1</td>\n",
       "      <td>1</td>\n",
       "    </tr>\n",
       "    <tr>\n",
       "      <th>+++snpr7pmobhLKUgSHTv/mpkqgBT0tQJ0zQj6qKrqc=</th>\n",
       "      <td>1</td>\n",
       "      <td>27</td>\n",
       "      <td>41</td>\n",
       "      <td>28.888889</td>\n",
       "      <td>780</td>\n",
       "      <td>2</td>\n",
       "      <td>143.481481</td>\n",
       "      <td>3874</td>\n",
       "      <td>2</td>\n",
       "      <td>149.000000</td>\n",
       "      <td>4023</td>\n",
       "      <td>1</td>\n",
       "      <td>5.518519</td>\n",
       "      <td>149</td>\n",
       "      <td>0</td>\n",
       "      <td>1</td>\n",
       "      <td>30.407407</td>\n",
       "      <td>1</td>\n",
       "      <td>1</td>\n",
       "    </tr>\n",
       "    <tr>\n",
       "      <th>++/9R3sX37CjxbY/AaGvbwr3QkwElKBCtSvVzhCBDOk=</th>\n",
       "      <td>1</td>\n",
       "      <td>13</td>\n",
       "      <td>41</td>\n",
       "      <td>30.000000</td>\n",
       "      <td>390</td>\n",
       "      <td>1</td>\n",
       "      <td>149.000000</td>\n",
       "      <td>1937</td>\n",
       "      <td>1</td>\n",
       "      <td>149.000000</td>\n",
       "      <td>1937</td>\n",
       "      <td>1</td>\n",
       "      <td>0.000000</td>\n",
       "      <td>0</td>\n",
       "      <td>0</td>\n",
       "      <td>1</td>\n",
       "      <td>30.461538</td>\n",
       "      <td>1</td>\n",
       "      <td>1</td>\n",
       "    </tr>\n",
       "    <tr>\n",
       "      <th>++/Gw1B9K+XOlB3hLTloeUK2QlCa2m+BJ8TrzGf7djI=</th>\n",
       "      <td>2</td>\n",
       "      <td>9</td>\n",
       "      <td>40</td>\n",
       "      <td>45.444444</td>\n",
       "      <td>409</td>\n",
       "      <td>4</td>\n",
       "      <td>215.222222</td>\n",
       "      <td>1937</td>\n",
       "      <td>3</td>\n",
       "      <td>231.777778</td>\n",
       "      <td>2086</td>\n",
       "      <td>2</td>\n",
       "      <td>16.555556</td>\n",
       "      <td>149</td>\n",
       "      <td>0</td>\n",
       "      <td>0</td>\n",
       "      <td>50.444444</td>\n",
       "      <td>0</td>\n",
       "      <td>0</td>\n",
       "    </tr>\n",
       "    <tr>\n",
       "      <th>++/TR7WI15q2ZCtOXmoap7jR+kEhbMVE5swOqsfqpqI=</th>\n",
       "      <td>1</td>\n",
       "      <td>9</td>\n",
       "      <td>11</td>\n",
       "      <td>27.000000</td>\n",
       "      <td>243</td>\n",
       "      <td>3</td>\n",
       "      <td>132.444444</td>\n",
       "      <td>1192</td>\n",
       "      <td>2</td>\n",
       "      <td>149.000000</td>\n",
       "      <td>1341</td>\n",
       "      <td>1</td>\n",
       "      <td>16.555556</td>\n",
       "      <td>149</td>\n",
       "      <td>0</td>\n",
       "      <td>1</td>\n",
       "      <td>30.555556</td>\n",
       "      <td>1</td>\n",
       "      <td>1</td>\n",
       "    </tr>\n",
       "    <tr>\n",
       "      <th>++/UDNo9DLrxT8QVGiDi1OnWfczAdEwThaVyD0fXO50=</th>\n",
       "      <td>1</td>\n",
       "      <td>21</td>\n",
       "      <td>39</td>\n",
       "      <td>28.714286</td>\n",
       "      <td>603</td>\n",
       "      <td>3</td>\n",
       "      <td>141.904762</td>\n",
       "      <td>2980</td>\n",
       "      <td>2</td>\n",
       "      <td>149.000000</td>\n",
       "      <td>3129</td>\n",
       "      <td>1</td>\n",
       "      <td>7.095238</td>\n",
       "      <td>149</td>\n",
       "      <td>0</td>\n",
       "      <td>1</td>\n",
       "      <td>53.095238</td>\n",
       "      <td>1</td>\n",
       "      <td>1</td>\n",
       "    </tr>\n",
       "    <tr>\n",
       "      <th>++/ZHqwUNa7U21Qz+zqteiXlZapxey86l6eEorrak/g=</th>\n",
       "      <td>1</td>\n",
       "      <td>23</td>\n",
       "      <td>14</td>\n",
       "      <td>22.173913</td>\n",
       "      <td>510</td>\n",
       "      <td>2</td>\n",
       "      <td>110.130435</td>\n",
       "      <td>2533</td>\n",
       "      <td>2</td>\n",
       "      <td>149.000000</td>\n",
       "      <td>3427</td>\n",
       "      <td>1</td>\n",
       "      <td>38.869565</td>\n",
       "      <td>894</td>\n",
       "      <td>0</td>\n",
       "      <td>1</td>\n",
       "      <td>33.391304</td>\n",
       "      <td>1</td>\n",
       "      <td>1</td>\n",
       "    </tr>\n",
       "  </tbody>\n",
       "</table>\n",
       "</div>"
      ],
      "text/plain": [
       "                                              change_in_payment_method  \\\n",
       "msno                                                                     \n",
       "+++FOrTS7ab3tIgIh8eWwX4FqRv8w/FoiOuyXsFvphY=                         1   \n",
       "+++IZseRRiQS9aaSkH6cMYU6bGDcxUieAi/tH67sC5s=                         2   \n",
       "+++hVY1rZox/33YtvDgmKA2Frg/2qhkz12B9ylCvh8o=                         1   \n",
       "+++l/EXNMLTijfLBa8p2TUVVVp2aFGSuUI/h7mLmthw=                         1   \n",
       "+++snpr7pmobhLKUgSHTv/mpkqgBT0tQJ0zQj6qKrqc=                         1   \n",
       "++/9R3sX37CjxbY/AaGvbwr3QkwElKBCtSvVzhCBDOk=                         1   \n",
       "++/Gw1B9K+XOlB3hLTloeUK2QlCa2m+BJ8TrzGf7djI=                         2   \n",
       "++/TR7WI15q2ZCtOXmoap7jR+kEhbMVE5swOqsfqpqI=                         1   \n",
       "++/UDNo9DLrxT8QVGiDi1OnWfczAdEwThaVyD0fXO50=                         1   \n",
       "++/ZHqwUNa7U21Qz+zqteiXlZapxey86l6eEorrak/g=                         1   \n",
       "\n",
       "                                              total_transaction  \\\n",
       "msno                                                              \n",
       "+++FOrTS7ab3tIgIh8eWwX4FqRv8w/FoiOuyXsFvphY=                  1   \n",
       "+++IZseRRiQS9aaSkH6cMYU6bGDcxUieAi/tH67sC5s=                  2   \n",
       "+++hVY1rZox/33YtvDgmKA2Frg/2qhkz12B9ylCvh8o=                  5   \n",
       "+++l/EXNMLTijfLBa8p2TUVVVp2aFGSuUI/h7mLmthw=                 21   \n",
       "+++snpr7pmobhLKUgSHTv/mpkqgBT0tQJ0zQj6qKrqc=                 27   \n",
       "++/9R3sX37CjxbY/AaGvbwr3QkwElKBCtSvVzhCBDOk=                 13   \n",
       "++/Gw1B9K+XOlB3hLTloeUK2QlCa2m+BJ8TrzGf7djI=                  9   \n",
       "++/TR7WI15q2ZCtOXmoap7jR+kEhbMVE5swOqsfqpqI=                  9   \n",
       "++/UDNo9DLrxT8QVGiDi1OnWfczAdEwThaVyD0fXO50=                 21   \n",
       "++/ZHqwUNa7U21Qz+zqteiXlZapxey86l6eEorrak/g=                 23   \n",
       "\n",
       "                                              max_payment_method  \\\n",
       "msno                                                               \n",
       "+++FOrTS7ab3tIgIh8eWwX4FqRv8w/FoiOuyXsFvphY=                  35   \n",
       "+++IZseRRiQS9aaSkH6cMYU6bGDcxUieAi/tH67sC5s=                  38   \n",
       "+++hVY1rZox/33YtvDgmKA2Frg/2qhkz12B9ylCvh8o=                  41   \n",
       "+++l/EXNMLTijfLBa8p2TUVVVp2aFGSuUI/h7mLmthw=                  39   \n",
       "+++snpr7pmobhLKUgSHTv/mpkqgBT0tQJ0zQj6qKrqc=                  41   \n",
       "++/9R3sX37CjxbY/AaGvbwr3QkwElKBCtSvVzhCBDOk=                  41   \n",
       "++/Gw1B9K+XOlB3hLTloeUK2QlCa2m+BJ8TrzGf7djI=                  40   \n",
       "++/TR7WI15q2ZCtOXmoap7jR+kEhbMVE5swOqsfqpqI=                  11   \n",
       "++/UDNo9DLrxT8QVGiDi1OnWfczAdEwThaVyD0fXO50=                  39   \n",
       "++/ZHqwUNa7U21Qz+zqteiXlZapxey86l6eEorrak/g=                  14   \n",
       "\n",
       "                                              avg_plan_days  sum_plan_days  \\\n",
       "msno                                                                         \n",
       "+++FOrTS7ab3tIgIh8eWwX4FqRv8w/FoiOuyXsFvphY=       7.000000              7   \n",
       "+++IZseRRiQS9aaSkH6cMYU6bGDcxUieAi/tH67sC5s=     402.500000            805   \n",
       "+++hVY1rZox/33YtvDgmKA2Frg/2qhkz12B9ylCvh8o=      30.000000            150   \n",
       "+++l/EXNMLTijfLBa8p2TUVVVp2aFGSuUI/h7mLmthw=      28.714286            603   \n",
       "+++snpr7pmobhLKUgSHTv/mpkqgBT0tQJ0zQj6qKrqc=      28.888889            780   \n",
       "++/9R3sX37CjxbY/AaGvbwr3QkwElKBCtSvVzhCBDOk=      30.000000            390   \n",
       "++/Gw1B9K+XOlB3hLTloeUK2QlCa2m+BJ8TrzGf7djI=      45.444444            409   \n",
       "++/TR7WI15q2ZCtOXmoap7jR+kEhbMVE5swOqsfqpqI=      27.000000            243   \n",
       "++/UDNo9DLrxT8QVGiDi1OnWfczAdEwThaVyD0fXO50=      28.714286            603   \n",
       "++/ZHqwUNa7U21Qz+zqteiXlZapxey86l6eEorrak/g=      22.173913            510   \n",
       "\n",
       "                                              change_in_plan_days  \\\n",
       "msno                                                                \n",
       "+++FOrTS7ab3tIgIh8eWwX4FqRv8w/FoiOuyXsFvphY=                    1   \n",
       "+++IZseRRiQS9aaSkH6cMYU6bGDcxUieAi/tH67sC5s=                    2   \n",
       "+++hVY1rZox/33YtvDgmKA2Frg/2qhkz12B9ylCvh8o=                    1   \n",
       "+++l/EXNMLTijfLBa8p2TUVVVp2aFGSuUI/h7mLmthw=                    3   \n",
       "+++snpr7pmobhLKUgSHTv/mpkqgBT0tQJ0zQj6qKrqc=                    2   \n",
       "++/9R3sX37CjxbY/AaGvbwr3QkwElKBCtSvVzhCBDOk=                    1   \n",
       "++/Gw1B9K+XOlB3hLTloeUK2QlCa2m+BJ8TrzGf7djI=                    4   \n",
       "++/TR7WI15q2ZCtOXmoap7jR+kEhbMVE5swOqsfqpqI=                    3   \n",
       "++/UDNo9DLrxT8QVGiDi1OnWfczAdEwThaVyD0fXO50=                    3   \n",
       "++/ZHqwUNa7U21Qz+zqteiXlZapxey86l6eEorrak/g=                    2   \n",
       "\n",
       "                                              avg_list_price  sum_list_price  \\\n",
       "msno                                                                           \n",
       "+++FOrTS7ab3tIgIh8eWwX4FqRv8w/FoiOuyXsFvphY=        0.000000               0   \n",
       "+++IZseRRiQS9aaSkH6cMYU6bGDcxUieAi/tH67sC5s=     1693.500000            3387   \n",
       "+++hVY1rZox/33YtvDgmKA2Frg/2qhkz12B9ylCvh8o=       99.000000             495   \n",
       "+++l/EXNMLTijfLBa8p2TUVVVp2aFGSuUI/h7mLmthw=      141.904762            2980   \n",
       "+++snpr7pmobhLKUgSHTv/mpkqgBT0tQJ0zQj6qKrqc=      143.481481            3874   \n",
       "++/9R3sX37CjxbY/AaGvbwr3QkwElKBCtSvVzhCBDOk=      149.000000            1937   \n",
       "++/Gw1B9K+XOlB3hLTloeUK2QlCa2m+BJ8TrzGf7djI=      215.222222            1937   \n",
       "++/TR7WI15q2ZCtOXmoap7jR+kEhbMVE5swOqsfqpqI=      132.444444            1192   \n",
       "++/UDNo9DLrxT8QVGiDi1OnWfczAdEwThaVyD0fXO50=      141.904762            2980   \n",
       "++/ZHqwUNa7U21Qz+zqteiXlZapxey86l6eEorrak/g=      110.130435            2533   \n",
       "\n",
       "                                              change_in_list_price  \\\n",
       "msno                                                                 \n",
       "+++FOrTS7ab3tIgIh8eWwX4FqRv8w/FoiOuyXsFvphY=                     1   \n",
       "+++IZseRRiQS9aaSkH6cMYU6bGDcxUieAi/tH67sC5s=                     2   \n",
       "+++hVY1rZox/33YtvDgmKA2Frg/2qhkz12B9ylCvh8o=                     1   \n",
       "+++l/EXNMLTijfLBa8p2TUVVVp2aFGSuUI/h7mLmthw=                     2   \n",
       "+++snpr7pmobhLKUgSHTv/mpkqgBT0tQJ0zQj6qKrqc=                     2   \n",
       "++/9R3sX37CjxbY/AaGvbwr3QkwElKBCtSvVzhCBDOk=                     1   \n",
       "++/Gw1B9K+XOlB3hLTloeUK2QlCa2m+BJ8TrzGf7djI=                     3   \n",
       "++/TR7WI15q2ZCtOXmoap7jR+kEhbMVE5swOqsfqpqI=                     2   \n",
       "++/UDNo9DLrxT8QVGiDi1OnWfczAdEwThaVyD0fXO50=                     2   \n",
       "++/ZHqwUNa7U21Qz+zqteiXlZapxey86l6eEorrak/g=                     2   \n",
       "\n",
       "                                              avg_amt_paid  sum_amt_paid  \\\n",
       "msno                                                                       \n",
       "+++FOrTS7ab3tIgIh8eWwX4FqRv8w/FoiOuyXsFvphY=      0.000000             0   \n",
       "+++IZseRRiQS9aaSkH6cMYU6bGDcxUieAi/tH67sC5s=   1693.500000          3387   \n",
       "+++hVY1rZox/33YtvDgmKA2Frg/2qhkz12B9ylCvh8o=     99.000000           495   \n",
       "+++l/EXNMLTijfLBa8p2TUVVVp2aFGSuUI/h7mLmthw=    149.000000          3129   \n",
       "+++snpr7pmobhLKUgSHTv/mpkqgBT0tQJ0zQj6qKrqc=    149.000000          4023   \n",
       "++/9R3sX37CjxbY/AaGvbwr3QkwElKBCtSvVzhCBDOk=    149.000000          1937   \n",
       "++/Gw1B9K+XOlB3hLTloeUK2QlCa2m+BJ8TrzGf7djI=    231.777778          2086   \n",
       "++/TR7WI15q2ZCtOXmoap7jR+kEhbMVE5swOqsfqpqI=    149.000000          1341   \n",
       "++/UDNo9DLrxT8QVGiDi1OnWfczAdEwThaVyD0fXO50=    149.000000          3129   \n",
       "++/ZHqwUNa7U21Qz+zqteiXlZapxey86l6eEorrak/g=    149.000000          3427   \n",
       "\n",
       "                                              change_in_amt_paid  \\\n",
       "msno                                                               \n",
       "+++FOrTS7ab3tIgIh8eWwX4FqRv8w/FoiOuyXsFvphY=                   1   \n",
       "+++IZseRRiQS9aaSkH6cMYU6bGDcxUieAi/tH67sC5s=                   2   \n",
       "+++hVY1rZox/33YtvDgmKA2Frg/2qhkz12B9ylCvh8o=                   1   \n",
       "+++l/EXNMLTijfLBa8p2TUVVVp2aFGSuUI/h7mLmthw=                   1   \n",
       "+++snpr7pmobhLKUgSHTv/mpkqgBT0tQJ0zQj6qKrqc=                   1   \n",
       "++/9R3sX37CjxbY/AaGvbwr3QkwElKBCtSvVzhCBDOk=                   1   \n",
       "++/Gw1B9K+XOlB3hLTloeUK2QlCa2m+BJ8TrzGf7djI=                   2   \n",
       "++/TR7WI15q2ZCtOXmoap7jR+kEhbMVE5swOqsfqpqI=                   1   \n",
       "++/UDNo9DLrxT8QVGiDi1OnWfczAdEwThaVyD0fXO50=                   1   \n",
       "++/ZHqwUNa7U21Qz+zqteiXlZapxey86l6eEorrak/g=                   1   \n",
       "\n",
       "                                              avg_discount  sum_discount  \\\n",
       "msno                                                                       \n",
       "+++FOrTS7ab3tIgIh8eWwX4FqRv8w/FoiOuyXsFvphY=      0.000000             0   \n",
       "+++IZseRRiQS9aaSkH6cMYU6bGDcxUieAi/tH67sC5s=      0.000000             0   \n",
       "+++hVY1rZox/33YtvDgmKA2Frg/2qhkz12B9ylCvh8o=      0.000000             0   \n",
       "+++l/EXNMLTijfLBa8p2TUVVVp2aFGSuUI/h7mLmthw=      7.095238           149   \n",
       "+++snpr7pmobhLKUgSHTv/mpkqgBT0tQJ0zQj6qKrqc=      5.518519           149   \n",
       "++/9R3sX37CjxbY/AaGvbwr3QkwElKBCtSvVzhCBDOk=      0.000000             0   \n",
       "++/Gw1B9K+XOlB3hLTloeUK2QlCa2m+BJ8TrzGf7djI=     16.555556           149   \n",
       "++/TR7WI15q2ZCtOXmoap7jR+kEhbMVE5swOqsfqpqI=     16.555556           149   \n",
       "++/UDNo9DLrxT8QVGiDi1OnWfczAdEwThaVyD0fXO50=      7.095238           149   \n",
       "++/ZHqwUNa7U21Qz+zqteiXlZapxey86l6eEorrak/g=     38.869565           894   \n",
       "\n",
       "                                              last_cancel_status  \\\n",
       "msno                                                               \n",
       "+++FOrTS7ab3tIgIh8eWwX4FqRv8w/FoiOuyXsFvphY=                   0   \n",
       "+++IZseRRiQS9aaSkH6cMYU6bGDcxUieAi/tH67sC5s=                   0   \n",
       "+++hVY1rZox/33YtvDgmKA2Frg/2qhkz12B9ylCvh8o=                   0   \n",
       "+++l/EXNMLTijfLBa8p2TUVVVp2aFGSuUI/h7mLmthw=                   0   \n",
       "+++snpr7pmobhLKUgSHTv/mpkqgBT0tQJ0zQj6qKrqc=                   0   \n",
       "++/9R3sX37CjxbY/AaGvbwr3QkwElKBCtSvVzhCBDOk=                   0   \n",
       "++/Gw1B9K+XOlB3hLTloeUK2QlCa2m+BJ8TrzGf7djI=                   0   \n",
       "++/TR7WI15q2ZCtOXmoap7jR+kEhbMVE5swOqsfqpqI=                   0   \n",
       "++/UDNo9DLrxT8QVGiDi1OnWfczAdEwThaVyD0fXO50=                   0   \n",
       "++/ZHqwUNa7U21Qz+zqteiXlZapxey86l6eEorrak/g=                   0   \n",
       "\n",
       "                                              last_auto_renew  \\\n",
       "msno                                                            \n",
       "+++FOrTS7ab3tIgIh8eWwX4FqRv8w/FoiOuyXsFvphY=                0   \n",
       "+++IZseRRiQS9aaSkH6cMYU6bGDcxUieAi/tH67sC5s=                0   \n",
       "+++hVY1rZox/33YtvDgmKA2Frg/2qhkz12B9ylCvh8o=                1   \n",
       "+++l/EXNMLTijfLBa8p2TUVVVp2aFGSuUI/h7mLmthw=                1   \n",
       "+++snpr7pmobhLKUgSHTv/mpkqgBT0tQJ0zQj6qKrqc=                1   \n",
       "++/9R3sX37CjxbY/AaGvbwr3QkwElKBCtSvVzhCBDOk=                1   \n",
       "++/Gw1B9K+XOlB3hLTloeUK2QlCa2m+BJ8TrzGf7djI=                0   \n",
       "++/TR7WI15q2ZCtOXmoap7jR+kEhbMVE5swOqsfqpqI=                1   \n",
       "++/UDNo9DLrxT8QVGiDi1OnWfczAdEwThaVyD0fXO50=                1   \n",
       "++/ZHqwUNa7U21Qz+zqteiXlZapxey86l6eEorrak/g=                1   \n",
       "\n",
       "                                              avg_days_diff_trans_exp  \\\n",
       "msno                                                                    \n",
       "+++FOrTS7ab3tIgIh8eWwX4FqRv8w/FoiOuyXsFvphY=                 5.000000   \n",
       "+++IZseRRiQS9aaSkH6cMYU6bGDcxUieAi/tH67sC5s=               440.500000   \n",
       "+++hVY1rZox/33YtvDgmKA2Frg/2qhkz12B9ylCvh8o=                30.000000   \n",
       "+++l/EXNMLTijfLBa8p2TUVVVp2aFGSuUI/h7mLmthw=                49.095238   \n",
       "+++snpr7pmobhLKUgSHTv/mpkqgBT0tQJ0zQj6qKrqc=                30.407407   \n",
       "++/9R3sX37CjxbY/AaGvbwr3QkwElKBCtSvVzhCBDOk=                30.461538   \n",
       "++/Gw1B9K+XOlB3hLTloeUK2QlCa2m+BJ8TrzGf7djI=                50.444444   \n",
       "++/TR7WI15q2ZCtOXmoap7jR+kEhbMVE5swOqsfqpqI=                30.555556   \n",
       "++/UDNo9DLrxT8QVGiDi1OnWfczAdEwThaVyD0fXO50=                53.095238   \n",
       "++/ZHqwUNa7U21Qz+zqteiXlZapxey86l6eEorrak/g=                33.391304   \n",
       "\n",
       "                                              autorenew_not_cancel_flag  \\\n",
       "msno                                                                      \n",
       "+++FOrTS7ab3tIgIh8eWwX4FqRv8w/FoiOuyXsFvphY=                          0   \n",
       "+++IZseRRiQS9aaSkH6cMYU6bGDcxUieAi/tH67sC5s=                          0   \n",
       "+++hVY1rZox/33YtvDgmKA2Frg/2qhkz12B9ylCvh8o=                          1   \n",
       "+++l/EXNMLTijfLBa8p2TUVVVp2aFGSuUI/h7mLmthw=                          1   \n",
       "+++snpr7pmobhLKUgSHTv/mpkqgBT0tQJ0zQj6qKrqc=                          1   \n",
       "++/9R3sX37CjxbY/AaGvbwr3QkwElKBCtSvVzhCBDOk=                          1   \n",
       "++/Gw1B9K+XOlB3hLTloeUK2QlCa2m+BJ8TrzGf7djI=                          0   \n",
       "++/TR7WI15q2ZCtOXmoap7jR+kEhbMVE5swOqsfqpqI=                          1   \n",
       "++/UDNo9DLrxT8QVGiDi1OnWfczAdEwThaVyD0fXO50=                          1   \n",
       "++/ZHqwUNa7U21Qz+zqteiXlZapxey86l6eEorrak/g=                          1   \n",
       "\n",
       "                                              not_autorenew_cancel_flag  \n",
       "msno                                                                     \n",
       "+++FOrTS7ab3tIgIh8eWwX4FqRv8w/FoiOuyXsFvphY=                          0  \n",
       "+++IZseRRiQS9aaSkH6cMYU6bGDcxUieAi/tH67sC5s=                          0  \n",
       "+++hVY1rZox/33YtvDgmKA2Frg/2qhkz12B9ylCvh8o=                          1  \n",
       "+++l/EXNMLTijfLBa8p2TUVVVp2aFGSuUI/h7mLmthw=                          1  \n",
       "+++snpr7pmobhLKUgSHTv/mpkqgBT0tQJ0zQj6qKrqc=                          1  \n",
       "++/9R3sX37CjxbY/AaGvbwr3QkwElKBCtSvVzhCBDOk=                          1  \n",
       "++/Gw1B9K+XOlB3hLTloeUK2QlCa2m+BJ8TrzGf7djI=                          0  \n",
       "++/TR7WI15q2ZCtOXmoap7jR+kEhbMVE5swOqsfqpqI=                          1  \n",
       "++/UDNo9DLrxT8QVGiDi1OnWfczAdEwThaVyD0fXO50=                          1  \n",
       "++/ZHqwUNa7U21Qz+zqteiXlZapxey86l6eEorrak/g=                          1  "
      ]
     },
     "execution_count": 185,
     "metadata": {},
     "output_type": "execute_result"
    }
   ],
   "source": [
    "transaction_feature.head(10)\n"
   ]
  },
  {
   "cell_type": "code",
   "execution_count": 186,
   "id": "5bc32aef-924f-45b3-a577-7cb18f310631",
   "metadata": {},
   "outputs": [
    {
     "data": {
      "text/plain": [
       "(2426143, 19)"
      ]
     },
     "execution_count": 186,
     "metadata": {},
     "output_type": "execute_result"
    }
   ],
   "source": [
    "transaction_feature.shape\n"
   ]
  },
  {
   "cell_type": "code",
   "execution_count": 187,
   "id": "b6444a02-7535-47a6-b2e3-d01a102eb0f7",
   "metadata": {},
   "outputs": [],
   "source": [
    "transaction_feature.to_csv('../data/processed/transaction_features_final.csv')\n"
   ]
  },
  {
   "cell_type": "code",
   "execution_count": null,
   "id": "29bec14a-c327-4a74-a2c7-b05f5433e6b8",
   "metadata": {},
   "outputs": [],
   "source": []
  }
 ],
 "metadata": {
  "kernelspec": {
   "display_name": "Python 3 (ipykernel)",
   "language": "python",
   "name": "python3"
  },
  "language_info": {
   "codemirror_mode": {
    "name": "ipython",
    "version": 3
   },
   "file_extension": ".py",
   "mimetype": "text/x-python",
   "name": "python",
   "nbconvert_exporter": "python",
   "pygments_lexer": "ipython3",
   "version": "3.11.4"
  }
 },
 "nbformat": 4,
 "nbformat_minor": 5
}
