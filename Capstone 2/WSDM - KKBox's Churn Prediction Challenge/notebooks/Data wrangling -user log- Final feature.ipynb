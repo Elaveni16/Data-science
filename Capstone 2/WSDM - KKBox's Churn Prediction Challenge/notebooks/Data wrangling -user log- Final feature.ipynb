{
 "cells": [
  {
   "cell_type": "code",
   "execution_count": 1,
   "id": "2e342f1c-ec2d-4c81-a706-bcf6886b6132",
   "metadata": {},
   "outputs": [],
   "source": [
    "import numpy as np # linear algebra\n",
    "import pandas as pd # data processing, CSV file I/O (e.g. pd.read_csv)\n",
    "import matplotlib.pyplot as plt\n",
    "import seaborn as sns\n",
    "import collections\n",
    "import os\n",
    "from pathlib import Path\n"
   ]
  },
  {
   "cell_type": "code",
   "execution_count": null,
   "id": "da96f0db-ec85-462a-848e-67e9ccdfdedc",
   "metadata": {},
   "outputs": [],
   "source": [
    "print(os.listdir(\"../data/raw\"))"
   ]
  },
  {
   "cell_type": "code",
   "execution_count": null,
   "id": "27d65596",
   "metadata": {},
   "outputs": [],
   "source": []
  },
  {
   "cell_type": "code",
   "execution_count": null,
   "id": "4a8d3c36-47ee-4c06-8f01-4167b7845597",
   "metadata": {},
   "outputs": [],
   "source": [
    "def reducedatatype(df):\n",
    "    int_col = list(df.select_dtypes(include=[int]).columns)\n",
    "    for col in int_col:\n",
    "        if((np.min(df[col]) >= -127) and (np.max(df[col]) <= 127)):\n",
    "            df[col] = df[col].astype(np.int8)\n",
    "        elif((np.min(df[col]) >= -32768) and (np.max(df[col]) <= 32768)):\n",
    "            df[col] = df[col].astype(np.int16)\n",
    "        elif((np.min(df[col]) >= -2147483647) and (np.max(df[col]) <= 2147483647)):\n",
    "            df[col] = df[col].astype(np.int32)\n",
    "        else:\n",
    "            df[col] = df[col].astype(np.int64)\n",
    "    int_float = list(df.select_dtypes(include=[float]).columns)\n",
    "    for col in int_float:\n",
    "        df[col] = df[col].astype(np.float32)"
   ]
  },
  {
   "cell_type": "code",
   "execution_count": null,
   "id": "b7a0250b-0ef5-421f-9be9-8339745247de",
   "metadata": {},
   "outputs": [],
   "source": [
    "def process_user_log1(df):\n",
    "    grouped= df.groupby('msno') # not sorting results in a minor speedup\n",
    "    func = {'date':['min','max','count'],'num_25':['sum','count'],'num_50':['sum','count'], \n",
    "            'num_75':['sum','count'],'num_985':['sum','count'],\n",
    "           'num_100':['sum','count'],'num_unq':['sum','count'],'total_secs':['sum','count']}\n",
    "    groupdf = grouped.agg(func)\n",
    "    return groupdf"
   ]
  },
  {
   "cell_type": "code",
   "execution_count": null,
   "id": "1456e347-826e-41b1-9101-aaa15b27010b",
   "metadata": {},
   "outputs": [],
   "source": [
    "def process_user_log_with_mean(df):\n",
    "    df\n",
    "    grouped = df.sort_values(['date']).groupby('msno')\n",
    "    func = {'date_min':['min'],'date_max':['max'],'date_count':['count'],'num_25_sum':['sum'],'num_25_mean':['num_25_sum'/'date_count'],'num_50_sum':['sum'],\n",
    "            'num_50_mean':['num_50_sum'/'date_count'], 'num_75_sum':['sum'],'num_75_mean':['num_75_sum'/'date_count'],'num_985_sum':['sum'],'num_985_mean':['num_985_sum'/'date_count'],\n",
    "           'num_100_sum':['sum'],'num_100_mean':['num_100_sum'/'date_count'],'num_unq_sum':['sum'],'num_unq_mean':['num_unq_sum'/'date_count'],'total_secs_sum':['sum'],'total_secs_mean':['total_secs_sum'/'date_count']}\n",
    "    groupdf = grouped.agg(func)\n",
    "    return groupdf"
   ]
  },
  {
   "cell_type": "code",
   "execution_count": 2,
   "id": "6a54dc79-4ee5-42d6-a91b-3276e1ff97bd",
   "metadata": {},
   "outputs": [],
   "source": [
    "def process_user_log(df):\n",
    "    grouped= df.sort_values(['date']).groupby('msno') \n",
    "    func = {'date':['min','max','count'],'num_25':['sum','mean'],'num_50':['sum','mean'], \n",
    "            'num_75':['sum','mean'],'num_985':['sum','mean'],\n",
    "           'num_100':['sum','mean'],'num_unq':['sum','mean'],'total_secs':['sum','mean']}\n",
    "    groupdf = grouped.agg(func)\n",
    "    return groupdf"
   ]
  },
  {
   "cell_type": "code",
   "execution_count": null,
   "id": "0a48348b-a2d2-4d47-96c7-42ad31d85891",
   "metadata": {},
   "outputs": [],
   "source": [
    "path20151st = Path('../data/raw/20151st.csv')\n",
    "path20152nd = Path('../data/raw/20152nd.csv')\n",
    "path20153rd = Path('../data/raw/20153rd.csv')\n",
    "path20154th = Path('../data/raw/20154th.csv')\n",
    "path20161st = Path('../data/raw/20161st.csv')\n",
    "path20162nd = Path('../data/raw/20162nd.csv')\n",
    "path20163rd = Path('../data/raw/20163rd.csv')\n",
    "path20164th = Path('../data/raw/20164th.csv')\n",
    "path2017 = Path('../data/raw/2017.csv')\n"
   ]
  },
  {
   "cell_type": "code",
   "execution_count": 3,
   "id": "15a2f56a",
   "metadata": {},
   "outputs": [],
   "source": [
    "dtype_cols = {'msno': object, 'date':np.int64, 'num_25': np.int32, 'num_50': np.int32, \n",
    "             'num_75': np.int32, 'num_985': np.int32, 'num_100': np.int32, \n",
    "              'num_unq': np.int32, 'total_secs': np.float32}"
   ]
  },
  {
   "cell_type": "code",
   "execution_count": null,
   "id": "c9569742",
   "metadata": {},
   "outputs": [],
   "source": [
    "chunksize = 4e7\n",
    "first_chunk = True\n",
    "for chunk in pd.read_csv('../data/raw/user_logs.csv',chunksize=chunksize,parse_dates=['date'],index_col=['msno'],dtype=dtype_cols):\n",
    "        if(len(chunk.loc[(chunk['date']>='2015-01-01') & (chunk['date']<'2015-04-01')].index) != 0):\n",
    "            if(path20151st.is_file() == False):    \n",
    "                chunk.loc[(chunk['date']>='2015-01-01') & (chunk['date']<'2015-04-01')].to_csv('../data/raw/20151st.csv',mode='a')\n",
    "            else:\n",
    "                chunk.loc[(chunk['date']>='2015-01-01') & (chunk['date']<'2015-04-01')].to_csv('../data/raw/20151st.csv',mode='a',header=False)\n",
    "        if(len(chunk.loc[(chunk['date']>='2015-04-01') & (chunk['date']<'2015-07-01')].index) != 0):\n",
    "            if(path20152nd.is_file()== False): \n",
    "                chunk.loc[(chunk['date']>='2015-04-01') & (chunk['date']<'2015-07-01')].to_csv('../data/raw/20152nd.csv',mode='a')\n",
    "            else:\n",
    "                chunk.loc[(chunk['date']>='2015-04-01') & (chunk['date']<'2015-07-01')].to_csv('../data/raw/20152nd.csv',mode='a',header=False)\n",
    "                \n",
    "                \n",
    "        if(len(chunk.loc[(chunk['date']>='2015-07-01') & (chunk['date']<'2015-10-01')].index) != 0):\n",
    "            if(path20153rd.is_file() == False):    \n",
    "                chunk.loc[(chunk['date']>='2015-07-01') & (chunk['date']<'2015-10-01')].to_csv('../data/raw/20153rd.csv',mode='a')\n",
    "            else:\n",
    "                chunk.loc[(chunk['date']>='2015-07-01') & (chunk['date']<'2015-10-01')].to_csv('../data/raw/20153rd.csv',mode='a',header=False)\n",
    "        if(len(chunk.loc[(chunk['date']>='2015-10-01') & (chunk['date']<'2016-01-01')].index) != 0):\n",
    "            if(path20154th.is_file()== False): \n",
    "                chunk.loc[(chunk['date']>='2015-10-01') & (chunk['date']<'2016-01-01')].to_csv('../data/raw/20154th.csv',mode='a')\n",
    "            else:\n",
    "                chunk.loc[(chunk['date']>='2015-10-01') & (chunk['date']<'2016-01-01')].to_csv('../data/raw/20154th.csv',mode='a',header=False)\n",
    "                \n",
    "\n",
    "        if(len(chunk.loc[(chunk['date']>='2016-01-01') & (chunk['date']<'2016-04-01')].index) != 0):\n",
    "            if(path20161st.is_file()== False): \n",
    "                chunk.loc[(chunk['date']>='2016-01-01') & (chunk['date']<'2016-04-01')].to_csv('../data/raw/20161st.csv',mode='a')\n",
    "            else:\n",
    "                chunk.loc[(chunk['date']>='2016-01-01') & (chunk['date']<'2016-04-01')].to_csv('../data/raw/20161st.csv',mode='a',header=False)\n",
    "        if(len(chunk.loc[(chunk['date']>='2016-04-01') & (chunk['date']<'2016-07-01')].index) != 0):\n",
    "            if(path20162nd.is_file()== False): \n",
    "                chunk.loc[(chunk['date']>='2016-04-01') & (chunk['date']<'2016-07-01')].to_csv('../data/raw/20162nd.csv',mode='a')\n",
    "            else:\n",
    "                chunk.loc[(chunk['date']>='2016-04-01') & (chunk['date']<'2016-07-01')].to_csv('../data/raw/20162nd.csv',mode='a',header=False)\n",
    "        if(len(chunk.loc[(chunk['date']>='2016-07-01') & (chunk['date']<'2016-10-01')].index) != 0):\n",
    "            if(path20163rd.is_file()== False): \n",
    "                chunk.loc[(chunk['date']>='2016-07-01') & (chunk['date']<'2016-10-01')].to_csv('../data/raw/20163rd.csv',mode='a')\n",
    "            else:\n",
    "                chunk.loc[(chunk['date']>='2016-07-01') & (chunk['date']<'2016-10-01')].to_csv('../data/raw/20163rd.csv',mode='a',header=False)\n",
    "        if(len(chunk.loc[(chunk['date']>='2016-10-01') & (chunk['date']<'2017-01-01')].index) != 0):\n",
    "            if(path20164th.is_file()== False): \n",
    "                chunk.loc[(chunk['date']>='2016-10-01') & (chunk['date']<'2017-01-01')].to_csv('../data/raw/20164th.csv',mode='a')\n",
    "            else:\n",
    "                chunk.loc[(chunk['date']>='2016-10-01') & (chunk['date']<'2017-01-01')].to_csv('../data/raw/20164th.csv',mode='a',header=False)  \n",
    "    \n",
    "    \n",
    "        if(len(chunk.loc[(chunk['date']>='2017-01-01')].index) != 0):\n",
    "            if(path2017.is_file()== False): \n",
    "                chunk.loc[(chunk['date']>='2017-01-01')].to_csv('../data/raw/2017.csv',mode='a')\n",
    "            else:\n",
    "                chunk.loc[(chunk['date']>='2017-01-01')].to_csv('../data/raw/2017.csv',mode='a',header=False)          "
   ]
  },
  {
   "cell_type": "code",
   "execution_count": 4,
   "id": "c60b8ed4",
   "metadata": {},
   "outputs": [],
   "source": [
    "df20151st = pd.read_csv('../data/raw/20151st.csv',parse_dates=['date'],index_col=['msno'],dtype=dtype_cols)\n",
    "df20152nd = pd.read_csv('../data/raw/20152nd.csv',parse_dates=['date'],index_col=['msno'],dtype=dtype_cols)\n",
    "df20153rd = pd.read_csv('../data/raw/20153rd.csv',parse_dates=['date'],index_col=['msno'],dtype=dtype_cols)\n",
    "df20154th = pd.read_csv('../data/raw/20154th.csv',parse_dates=['date'],index_col=['msno'],dtype=dtype_cols)\n"
   ]
  },
  {
   "cell_type": "code",
   "execution_count": 14,
   "id": "dba5cec7",
   "metadata": {},
   "outputs": [],
   "source": [
    "df20161st = pd.read_csv('../data/raw/20161st.csv',parse_dates=['date'],index_col=['msno'],dtype=dtype_cols)\n",
    "df20162nd = pd.read_csv('../data/raw/20162nd.csv',parse_dates=['date'],index_col=['msno'],dtype=dtype_cols)\n",
    "df20163rd = pd.read_csv('../data/raw/20163rd.csv',parse_dates=['date'],index_col=['msno'],dtype=dtype_cols)\n",
    "df20164th = pd.read_csv('../data/raw/20164th.csv',parse_dates=['date'],index_col=['msno'],dtype=dtype_cols)"
   ]
  },
  {
   "cell_type": "code",
   "execution_count": 5,
   "id": "6e59ff03",
   "metadata": {},
   "outputs": [],
   "source": [
    "jantojun2015 = process_user_log(df20151st.loc[(df20151st['date']>='2015-01-01') & (df20151st['date']<'2015-02-01')])\n",
    "jantojun2015 = pd.concat([jantojun2015 ,process_user_log(df20151st.loc[(df20151st['date']>='2015-02-01') & (df20151st['date']<'2015-03-01')])])\n",
    "jantojun2015 = pd.concat([jantojun2015 ,process_user_log(df20151st.loc[(df20151st['date']>='2015-03-01') & (df20151st['date']<'2015-04-01')])])\n",
    "jantojun2015 = pd.concat([jantojun2015 ,process_user_log(df20152nd.loc[(df20152nd['date']>='2015-04-01') & (df20152nd['date']<'2015-05-01')])])\n",
    "jantojun2015 = pd.concat([jantojun2015 ,process_user_log(df20152nd.loc[(df20152nd['date']>='2015-05-01') & (df20152nd['date']<'2015-06-01')])])\n",
    "jantojun2015 = pd.concat([jantojun2015 ,process_user_log(df20152nd.loc[(df20152nd['date']>='2015-06-01') & (df20152nd['date']<'2015-07-01')])])"
   ]
  },
  {
   "cell_type": "code",
   "execution_count": 6,
   "id": "0b791ff4",
   "metadata": {},
   "outputs": [],
   "source": [
    "jantojun2015.columns = ['date_min', 'date_max', 'date_count','num_25_sum','num_25_mean','num_50_sum','num_50_mean','num_75_sum',\n",
    "                     'num_75_mean','num_985_sum','num_985_mean','num_100_sum','num_100_mean','num_unq_sum','num_unq_mean','total_secs_sum','total_secs_mean']"
   ]
  },
  {
   "cell_type": "code",
   "execution_count": 11,
   "id": "3ffdf809",
   "metadata": {},
   "outputs": [],
   "source": [
    "jultodec2015 = process_user_log(df20153rd.loc[(df20153rd['date']>='2015-07-01') & (df20153rd['date']<'2015-08-01')])\n",
    "jultodec2015 = pd.concat([jultodec2015 ,process_user_log(df20153rd.loc[(df20153rd['date']>='2015-08-01') & (df20153rd['date']<'2015-09-01')])])   \n",
    "jultodec2015 = pd.concat([jultodec2015 ,process_user_log(df20153rd.loc[(df20153rd['date']>='2015-09-01') & (df20153rd['date']<'2015-10-01')])])\n",
    "jultodec2015 = pd.concat([jultodec2015 ,process_user_log(df20154th.loc[(df20154th['date']>='2015-10-01') & (df20154th['date']<'2015-11-01')])])  \n",
    "jultodec2015 = pd.concat([jultodec2015 ,process_user_log(df20154th.loc[(df20154th['date']>='2015-11-01') & (df20154th['date']<'2015-12-01')])])   \n",
    "jultodec2015 = pd.concat([jultodec2015 ,process_user_log(df20154th.loc[(df20154th['date']>='2015-12-01') & (df20154th['date']<'2016-01-01')])])"
   ]
  },
  {
   "cell_type": "code",
   "execution_count": 12,
   "id": "1e7c6422",
   "metadata": {},
   "outputs": [],
   "source": [
    "jultodec2015.columns = ['date_min', 'date_max', 'date_count','num_25_sum','num_25_mean','num_50_sum','num_50_mean','num_75_sum',\n",
    "                     'num_75_mean','num_985_sum','num_985_mean','num_100_sum','num_100_mean','num_unq_sum','num_unq_mean','total_secs_sum','total_secs_mean']"
   ]
  },
  {
   "cell_type": "code",
   "execution_count": 16,
   "id": "ed39282b",
   "metadata": {},
   "outputs": [],
   "source": [
    "jantojun2016 = process_user_log(df20161st.loc[(df20161st['date']>='2016-01-01') & (df20161st['date']<'2016-02-01')])\n",
    "jantojun2016 = pd.concat([jantojun2016 ,process_user_log(df20161st.loc[(df20161st['date']>='2016-02-01') & (df20161st['date']<'2016-03-01')])])  \n",
    "jantojun2016 = pd.concat([jantojun2016 ,process_user_log(df20161st.loc[(df20161st['date']>='2016-03-01') & (df20161st['date']<'2016-04-01')])]) \n",
    "jantojun2016 = pd.concat([jantojun2016 ,process_user_log(df20162nd.loc[(df20162nd['date']>='2016-04-01') & (df20162nd['date']<'2016-05-01')])])\n",
    "jantojun2016 = pd.concat([jantojun2016 ,process_user_log(df20162nd.loc[(df20162nd['date']>='2016-05-01') & (df20162nd['date']<'2016-06-01')])])\n",
    "jantojun2016 = pd.concat([jantojun2016 ,process_user_log(df20162nd.loc[(df20162nd['date']>='2016-06-01') & (df20162nd['date']<'2016-07-01')])])"
   ]
  },
  {
   "cell_type": "code",
   "execution_count": 17,
   "id": "c2ccb944",
   "metadata": {},
   "outputs": [],
   "source": [
    "jantojun2016.columns = ['date_min', 'date_max', 'date_count','num_25_sum','num_25_mean','num_50_sum','num_50_mean','num_75_sum',\n",
    "                     'num_75_mean','num_985_sum','num_985_mean','num_100_sum','num_100_mean','num_unq_sum','num_unq_mean','total_secs_sum','total_secs_mean']"
   ]
  },
  {
   "cell_type": "code",
   "execution_count": 18,
   "id": "0b3cffac",
   "metadata": {},
   "outputs": [],
   "source": [
    "jultodec2016 = process_user_log(df20163rd.loc[(df20163rd['date']>='2016-07-01') & (df20163rd['date']<'2016-08-01')])\n",
    "jultodec2016 = pd.concat([jultodec2016 ,process_user_log(df20163rd.loc[(df20163rd['date']>='2016-08-01') & (df20163rd['date']<'2016-09-01')])])\n",
    "jultodec2016 = pd.concat([jultodec2016 ,process_user_log(df20163rd.loc[(df20163rd['date']>='2016-09-01') & (df20163rd['date']<'2016-10-01')])])\n",
    "jultodec2016 = pd.concat([jultodec2016 ,process_user_log(df20164th.loc[(df20164th['date']>='2016-10-01') & (df20164th['date']<'2016-11-01')])])\n",
    "jultodec2016 = pd.concat([jultodec2016 ,process_user_log(df20164th.loc[(df20164th['date']>='2016-11-01') & (df20164th['date']<'2016-12-01')])])\n",
    "jultodec2016 = pd.concat([jultodec2016 ,process_user_log(df20164th.loc[(df20164th['date']>='2016-12-01') & (df20164th['date']<'2017-01-01')])])"
   ]
  },
  {
   "cell_type": "code",
   "execution_count": 19,
   "id": "6ea5d2e2",
   "metadata": {},
   "outputs": [],
   "source": [
    "jultodec2016.columns = ['date_min', 'date_max', 'date_count','num_25_sum','num_25_mean','num_50_sum','num_50_mean','num_75_sum',\n",
    "                     'num_75_mean','num_985_sum','num_985_mean','num_100_sum','num_100_mean','num_unq_sum','num_unq_mean','total_secs_sum','total_secs_mean']"
   ]
  },
  {
   "cell_type": "code",
   "execution_count": 20,
   "id": "cdeeeee5",
   "metadata": {},
   "outputs": [],
   "source": [
    "df2017 = pd.read_csv('../data/raw/2017.csv',parse_dates=['date'],index_col=['msno'],dtype=dtype_cols)"
   ]
  },
  {
   "cell_type": "code",
   "execution_count": 22,
   "id": "a7e49c57",
   "metadata": {},
   "outputs": [],
   "source": [
    "df2017V2 = pd.read_csv('../data/raw/user_logs_v2.csv',parse_dates=['date'],index_col=['msno'],dtype=dtype_cols)"
   ]
  },
  {
   "cell_type": "code",
   "execution_count": 23,
   "id": "bf31f8a4",
   "metadata": {},
   "outputs": [],
   "source": [
    "df2017 = pd.concat([df2017,df2017V2])"
   ]
  },
  {
   "cell_type": "code",
   "execution_count": 25,
   "id": "104e57e5",
   "metadata": {},
   "outputs": [],
   "source": [
    "jantomar2017 = process_user_log(df2017.loc[(df2017['date']>='2017-01-01') & (df2017['date']<'2017-02-01')])\n",
    "jantomar2017 = pd.concat([jantomar2017 ,process_user_log(df2017.loc[(df2017['date']>='2017-02-01') & (df2017['date']<'2017-03-01')])])\n",
    "jantomar2017 = pd.concat([jantomar2017 ,process_user_log(df2017.loc[(df2017['date']>='2017-03-01') & (df2017['date']<'2017-04-01')])])"
   ]
  },
  {
   "cell_type": "code",
   "execution_count": 26,
   "id": "d52a3f7b",
   "metadata": {},
   "outputs": [],
   "source": [
    "jantomar2017.columns = ['date_min', 'date_max', 'date_count','num_25_sum','num_25_mean','num_50_sum','num_50_mean','num_75_sum',\n",
    "                     'num_75_mean','num_985_sum','num_985_mean','num_100_sum','num_100_mean','num_unq_sum','num_unq_mean','total_secs_sum','total_secs_mean']"
   ]
  },
  {
   "cell_type": "code",
   "execution_count": 51,
   "id": "5f4a72ff",
   "metadata": {},
   "outputs": [],
   "source": [
    "frames = [jantojun2015,jultodec2015,jantojun2016,jultodec2016,jantomar2017]\n",
    "log_by_month = pd.concat(frames)\n"
   ]
  },
  {
   "cell_type": "code",
   "execution_count": 100,
   "id": "e5b7fc78",
   "metadata": {},
   "outputs": [],
   "source": [
    "log_by_month.reset_index(inplace=True)\n"
   ]
  },
  {
   "cell_type": "code",
   "execution_count": 72,
   "id": "b6bf1480",
   "metadata": {},
   "outputs": [
    {
     "name": "stdout",
     "output_type": "stream",
     "text": [
      "<class 'pandas.core.frame.DataFrame'>\n",
      "Index: 27862865 entries, +++IZseRRiQS9aaSkH6cMYU6bGDcxUieAi/tH67sC5s= to zzzueVTwIa5TjXnG2c77bohCVkuksqLkd5mQTP0wTwQ=\n",
      "Data columns (total 17 columns):\n",
      " #   Column           Dtype         \n",
      "---  ------           -----         \n",
      " 0   date_min         datetime64[ns]\n",
      " 1   date_max         datetime64[ns]\n",
      " 2   date_count       int64         \n",
      " 3   num_25_sum       int32         \n",
      " 4   num_25_mean      float64       \n",
      " 5   num_50_sum       int32         \n",
      " 6   num_50_mean      float64       \n",
      " 7   num_75_sum       int32         \n",
      " 8   num_75_mean      float64       \n",
      " 9   num_985_sum      int32         \n",
      " 10  num_985_mean     float64       \n",
      " 11  num_100_sum      int32         \n",
      " 12  num_100_mean     float64       \n",
      " 13  num_unq_sum      int32         \n",
      " 14  num_unq_mean     float64       \n",
      " 15  total_secs_sum   float32       \n",
      " 16  total_secs_mean  float32       \n",
      "dtypes: datetime64[ns](2), float32(2), float64(6), int32(6), int64(1)\n",
      "memory usage: 2.9+ GB\n"
     ]
    }
   ],
   "source": [
    "log_by_month.info()"
   ]
  },
  {
   "cell_type": "code",
   "execution_count": 73,
   "id": "20684ad7",
   "metadata": {},
   "outputs": [],
   "source": [
    "log_by_month.to_csv('../data/raw/Log_groupby_month.csv')"
   ]
  },
  {
   "cell_type": "code",
   "execution_count": 52,
   "id": "044e4337",
   "metadata": {},
   "outputs": [],
   "source": [
    "last_month_log = log_by_month.groupby('msno').nth(-1)\n",
    "last_2nd_month_log = log_by_month.groupby('msno').nth(-2)\n",
    "last_3rd_month_log = log_by_month.groupby('msno').nth(-3)"
   ]
  },
  {
   "cell_type": "code",
   "execution_count": 54,
   "id": "8a0ecd86",
   "metadata": {},
   "outputs": [],
   "source": [
    "last_month_log.columns =['last_month_login_min','last_month_login_max','last_month_login_count','last_month_sum_num25','last_month_mean_num25','last_month_sum_num50',\n",
    "              'last_month_mean_num50','last_month_sum_num75','last_month_mean_num75','last_month_sum_num985','last_month_mean_num985','last_month_sum_num_100','last_month_mean_num100','last_month_sum_num_unq',\n",
    "                'last_month_mean_num_unq','last_month_total_secs_sum','last_month_total_secs_mean']\n",
    "last_2nd_month_log.columns =['last_second_month_login_min','last_second_month_login_max','last_second_month_login_count','last_second_month_sum_num25','last_second_month_mean_num25','last_second_month_sum_num50',\n",
    "              'last_second_month_mean_num50','last_second_month_sum_num75','last_second_month_mean_num75','last_second_month_sum_num985','last_second_month_mean_num985','last_second_month_sum_num_100','last_second_month_mean_num100','last_second_month_sum_num_unq',\n",
    "                'last_second_month_mean_num_unq','last_month_total_secs_sum','last_month_total_secs_mean']\n",
    "last_3rd_month_log.columns =['last_third_month_login_min','last_third_month_login_max','last_third_month_login_count','last_third_month_sum_num25','last_third_month_mean_num25','last_third_month_sum_num50',\n",
    "              'last_third_month_mean_num50','last_third_month_sum_num75','last_third_month_mean_num75','last_third_month_sum_num985','last_third_month_mean_num985','last_third_month_sum_num_100','last_third_month_mean_num100','last_third_month_sum_num_unq',\n",
    "                'last_third_month_mean_num_unq','last_month_total_secs_sum','last_month_total_secs_mean']"
   ]
  },
  {
   "cell_type": "code",
   "execution_count": 59,
   "id": "a91b2a45",
   "metadata": {},
   "outputs": [],
   "source": [
    "final_log = pd.merge(last_month_log,last_2nd_month_log,on='msno')"
   ]
  },
  {
   "cell_type": "code",
   "execution_count": 60,
   "id": "45b40209",
   "metadata": {},
   "outputs": [],
   "source": [
    "final_log = pd.merge(final_log,last_3rd_month_log,on='msno')"
   ]
  },
  {
   "cell_type": "code",
   "execution_count": 92,
   "id": "3c4da76f",
   "metadata": {},
   "outputs": [],
   "source": [
    "final_log.to_csv('../data/raw/finalLog.csv')\n",
    "\n",
    "1647936"
   ]
  },
  {
   "cell_type": "markdown",
   "id": "882d1093",
   "metadata": {},
   "source": [
    "Total final log - # 1647936"
   ]
  },
  {
   "cell_type": "code",
   "execution_count": 132,
   "id": "ba2e131b",
   "metadata": {},
   "outputs": [],
   "source": [
    "final_log['diff_last2month_sum_num25'] = final_log['last_month_sum_num25']-final_log['last_second_month_sum_num25']\n",
    "final_log['diff_last2month_mean_num25'] = final_log['last_month_mean_num25']-final_log['last_second_month_mean_num25']\n",
    "final_log['diff_last2month_sum_num50'] = final_log['last_month_sum_num50']-final_log['last_second_month_sum_num50']\n",
    "final_log['diff_last2month_sum_num75'] = final_log['last_month_sum_num75']-final_log['last_second_month_sum_num75']\n",
    "final_log['diff_last2month_mean_num75'] = final_log['last_month_mean_num75']-final_log['last_second_month_mean_num75']\n",
    "final_log['diff_last2month_sum_num985'] = final_log['last_month_sum_num985']-final_log['last_second_month_sum_num985']\n",
    "final_log['diff_last2month_mean_num985'] = final_log['last_month_mean_num985']-final_log['last_second_month_mean_num985']\n",
    "final_log['diff_last2month_sum_num100'] = final_log['last_month_sum_num_100']-final_log['last_second_month_sum_num_100']\n",
    "final_log['diff_last2month_mean_num100'] = final_log['last_month_mean_num100']-final_log['last_second_month_mean_num100']\n",
    "final_log['diff_last2month_sum_num_unq'] = final_log['last_month_sum_num_unq']-final_log['last_second_month_sum_num_unq']\n",
    "final_log['diff_last2month_mean_num_unq'] = final_log['last_month_mean_num_unq']-final_log['last_second_month_mean_num_unq']"
   ]
  },
  {
   "cell_type": "code",
   "execution_count": 133,
   "id": "f0910248",
   "metadata": {},
   "outputs": [
    {
     "data": {
      "text/html": [
       "<div>\n",
       "<style scoped>\n",
       "    .dataframe tbody tr th:only-of-type {\n",
       "        vertical-align: middle;\n",
       "    }\n",
       "\n",
       "    .dataframe tbody tr th {\n",
       "        vertical-align: top;\n",
       "    }\n",
       "\n",
       "    .dataframe thead th {\n",
       "        text-align: right;\n",
       "    }\n",
       "</style>\n",
       "<table border=\"1\" class=\"dataframe\">\n",
       "  <thead>\n",
       "    <tr style=\"text-align: right;\">\n",
       "      <th></th>\n",
       "      <th>msno</th>\n",
       "      <th>last_month_login_min</th>\n",
       "      <th>last_month_login_max</th>\n",
       "      <th>last_month_login_count</th>\n",
       "      <th>last_month_sum_num25</th>\n",
       "      <th>last_month_mean_num25</th>\n",
       "      <th>last_month_sum_num50</th>\n",
       "      <th>last_month_mean_num50</th>\n",
       "      <th>last_month_sum_num75</th>\n",
       "      <th>last_month_mean_num75</th>\n",
       "      <th>...</th>\n",
       "      <th>diff_last2month_mean_num25</th>\n",
       "      <th>diff_last2month_sum_num50</th>\n",
       "      <th>diff_last2month_sum_num75</th>\n",
       "      <th>diff_last2month_mean_num75</th>\n",
       "      <th>diff_last2month_sum_num985</th>\n",
       "      <th>diff_last2month_mean_num985</th>\n",
       "      <th>diff_last2month_sum_num100</th>\n",
       "      <th>diff_last2month_mean_num100</th>\n",
       "      <th>diff_last2month_sum_num_unq</th>\n",
       "      <th>diff_last2month_mean_num_unq</th>\n",
       "    </tr>\n",
       "  </thead>\n",
       "  <tbody>\n",
       "    <tr>\n",
       "      <th>0</th>\n",
       "      <td>++5g+uqJ/SDpyqr+5IIU1KZh75PbWqQz+9buMZ1XinQ=</td>\n",
       "      <td>2015-03-13</td>\n",
       "      <td>2015-03-13</td>\n",
       "      <td>1</td>\n",
       "      <td>1</td>\n",
       "      <td>1.00</td>\n",
       "      <td>2</td>\n",
       "      <td>2.00</td>\n",
       "      <td>0</td>\n",
       "      <td>0.0</td>\n",
       "      <td>...</td>\n",
       "      <td>1.00</td>\n",
       "      <td>2</td>\n",
       "      <td>0</td>\n",
       "      <td>0.000000</td>\n",
       "      <td>0</td>\n",
       "      <td>0.000000</td>\n",
       "      <td>0</td>\n",
       "      <td>0.000000</td>\n",
       "      <td>3</td>\n",
       "      <td>3.000000</td>\n",
       "    </tr>\n",
       "    <tr>\n",
       "      <th>1</th>\n",
       "      <td>++7bkVqNKquDGydOjxc1Tn2aX2XEEPcKOYWF7BF0U+E=</td>\n",
       "      <td>2015-03-01</td>\n",
       "      <td>2015-03-23</td>\n",
       "      <td>10</td>\n",
       "      <td>74</td>\n",
       "      <td>7.40</td>\n",
       "      <td>6</td>\n",
       "      <td>0.60</td>\n",
       "      <td>11</td>\n",
       "      <td>1.1</td>\n",
       "      <td>...</td>\n",
       "      <td>3.32</td>\n",
       "      <td>-23</td>\n",
       "      <td>0</td>\n",
       "      <td>0.660000</td>\n",
       "      <td>-20</td>\n",
       "      <td>-0.260000</td>\n",
       "      <td>-247</td>\n",
       "      <td>7.220000</td>\n",
       "      <td>-352</td>\n",
       "      <td>-4.180000</td>\n",
       "    </tr>\n",
       "    <tr>\n",
       "      <th>2</th>\n",
       "      <td>++CQ1VYBzjEJxVDqxPOlj10bmTl9FfGfzs/Dc9P8X0s=</td>\n",
       "      <td>2015-03-18</td>\n",
       "      <td>2015-03-18</td>\n",
       "      <td>1</td>\n",
       "      <td>0</td>\n",
       "      <td>0.00</td>\n",
       "      <td>1</td>\n",
       "      <td>1.00</td>\n",
       "      <td>0</td>\n",
       "      <td>0.0</td>\n",
       "      <td>...</td>\n",
       "      <td>-1.00</td>\n",
       "      <td>1</td>\n",
       "      <td>-1</td>\n",
       "      <td>-0.250000</td>\n",
       "      <td>-3</td>\n",
       "      <td>-0.750000</td>\n",
       "      <td>-53</td>\n",
       "      <td>-10.250000</td>\n",
       "      <td>-4</td>\n",
       "      <td>2.750000</td>\n",
       "    </tr>\n",
       "    <tr>\n",
       "      <th>3</th>\n",
       "      <td>++D1ATRKTN+xsS3u6kIYB1oReYIEzKqVHuNrLzEJSNQ=</td>\n",
       "      <td>2015-03-01</td>\n",
       "      <td>2015-03-09</td>\n",
       "      <td>4</td>\n",
       "      <td>13</td>\n",
       "      <td>3.25</td>\n",
       "      <td>1</td>\n",
       "      <td>0.25</td>\n",
       "      <td>0</td>\n",
       "      <td>0.0</td>\n",
       "      <td>...</td>\n",
       "      <td>1.50</td>\n",
       "      <td>0</td>\n",
       "      <td>-1</td>\n",
       "      <td>-0.250000</td>\n",
       "      <td>0</td>\n",
       "      <td>0.000000</td>\n",
       "      <td>19</td>\n",
       "      <td>4.750000</td>\n",
       "      <td>25</td>\n",
       "      <td>6.250000</td>\n",
       "    </tr>\n",
       "    <tr>\n",
       "      <th>4</th>\n",
       "      <td>++DsaTvc7MKXDXSDqoE0BlgtcxfpPRCXYiNBfwIg1rk=</td>\n",
       "      <td>2015-03-13</td>\n",
       "      <td>2015-03-13</td>\n",
       "      <td>1</td>\n",
       "      <td>1</td>\n",
       "      <td>1.00</td>\n",
       "      <td>0</td>\n",
       "      <td>0.00</td>\n",
       "      <td>0</td>\n",
       "      <td>0.0</td>\n",
       "      <td>...</td>\n",
       "      <td>-6.50</td>\n",
       "      <td>-4</td>\n",
       "      <td>-8</td>\n",
       "      <td>-1.333333</td>\n",
       "      <td>-4</td>\n",
       "      <td>-0.666667</td>\n",
       "      <td>-131</td>\n",
       "      <td>-21.833333</td>\n",
       "      <td>-177</td>\n",
       "      <td>-28.666667</td>\n",
       "    </tr>\n",
       "  </tbody>\n",
       "</table>\n",
       "<p>5 rows × 63 columns</p>\n",
       "</div>"
      ],
      "text/plain": [
       "                                           msno last_month_login_min  \\\n",
       "0  ++5g+uqJ/SDpyqr+5IIU1KZh75PbWqQz+9buMZ1XinQ=           2015-03-13   \n",
       "1  ++7bkVqNKquDGydOjxc1Tn2aX2XEEPcKOYWF7BF0U+E=           2015-03-01   \n",
       "2  ++CQ1VYBzjEJxVDqxPOlj10bmTl9FfGfzs/Dc9P8X0s=           2015-03-18   \n",
       "3  ++D1ATRKTN+xsS3u6kIYB1oReYIEzKqVHuNrLzEJSNQ=           2015-03-01   \n",
       "4  ++DsaTvc7MKXDXSDqoE0BlgtcxfpPRCXYiNBfwIg1rk=           2015-03-13   \n",
       "\n",
       "  last_month_login_max  last_month_login_count  last_month_sum_num25  \\\n",
       "0           2015-03-13                       1                     1   \n",
       "1           2015-03-23                      10                    74   \n",
       "2           2015-03-18                       1                     0   \n",
       "3           2015-03-09                       4                    13   \n",
       "4           2015-03-13                       1                     1   \n",
       "\n",
       "   last_month_mean_num25  last_month_sum_num50  last_month_mean_num50  \\\n",
       "0                   1.00                     2                   2.00   \n",
       "1                   7.40                     6                   0.60   \n",
       "2                   0.00                     1                   1.00   \n",
       "3                   3.25                     1                   0.25   \n",
       "4                   1.00                     0                   0.00   \n",
       "\n",
       "   last_month_sum_num75  last_month_mean_num75  ...  \\\n",
       "0                     0                    0.0  ...   \n",
       "1                    11                    1.1  ...   \n",
       "2                     0                    0.0  ...   \n",
       "3                     0                    0.0  ...   \n",
       "4                     0                    0.0  ...   \n",
       "\n",
       "   diff_last2month_mean_num25  diff_last2month_sum_num50  \\\n",
       "0                        1.00                          2   \n",
       "1                        3.32                        -23   \n",
       "2                       -1.00                          1   \n",
       "3                        1.50                          0   \n",
       "4                       -6.50                         -4   \n",
       "\n",
       "   diff_last2month_sum_num75  diff_last2month_mean_num75  \\\n",
       "0                          0                    0.000000   \n",
       "1                          0                    0.660000   \n",
       "2                         -1                   -0.250000   \n",
       "3                         -1                   -0.250000   \n",
       "4                         -8                   -1.333333   \n",
       "\n",
       "   diff_last2month_sum_num985  diff_last2month_mean_num985  \\\n",
       "0                           0                     0.000000   \n",
       "1                         -20                    -0.260000   \n",
       "2                          -3                    -0.750000   \n",
       "3                           0                     0.000000   \n",
       "4                          -4                    -0.666667   \n",
       "\n",
       "   diff_last2month_sum_num100  diff_last2month_mean_num100  \\\n",
       "0                           0                     0.000000   \n",
       "1                        -247                     7.220000   \n",
       "2                         -53                   -10.250000   \n",
       "3                          19                     4.750000   \n",
       "4                        -131                   -21.833333   \n",
       "\n",
       "  diff_last2month_sum_num_unq diff_last2month_mean_num_unq  \n",
       "0                           3                     3.000000  \n",
       "1                        -352                    -4.180000  \n",
       "2                          -4                     2.750000  \n",
       "3                          25                     6.250000  \n",
       "4                        -177                   -28.666667  \n",
       "\n",
       "[5 rows x 63 columns]"
      ]
     },
     "execution_count": 133,
     "metadata": {},
     "output_type": "execute_result"
    }
   ],
   "source": [
    "final_log.head()"
   ]
  },
  {
   "cell_type": "code",
   "execution_count": 134,
   "id": "ef22c85e",
   "metadata": {},
   "outputs": [],
   "source": [
    "final_log.to_csv('../data/raw/finalLog.csv')"
   ]
  },
  {
   "cell_type": "code",
   "execution_count": 135,
   "id": "836447ec",
   "metadata": {},
   "outputs": [],
   "source": [
    "train = pd.read_csv('../data/raw/train_v2.csv')"
   ]
  },
  {
   "cell_type": "code",
   "execution_count": 138,
   "id": "75630070",
   "metadata": {},
   "outputs": [],
   "source": [
    "train_member = pd.read_csv('../data/processed/train_member.csv',parse_dates=['registration_init_time'])"
   ]
  },
  {
   "cell_type": "code",
   "execution_count": 139,
   "id": "0a378a09",
   "metadata": {},
   "outputs": [],
   "source": [
    "transaction = pd.read_csv('../data/processed/transaction_features_final.csv')"
   ]
  },
  {
   "cell_type": "code",
   "execution_count": 141,
   "id": "a422bfd2",
   "metadata": {},
   "outputs": [],
   "source": [
    "final_dataset = pd.merge(train_member,transaction,on='msno',how='left')\n",
    "final_dataset = pd.merge(final_dataset,final_log,on='msno',how='left')"
   ]
  },
  {
   "cell_type": "code",
   "execution_count": 151,
   "id": "e9a78545",
   "metadata": {},
   "outputs": [
    {
     "name": "stdout",
     "output_type": "stream",
     "text": [
      "<class 'pandas.core.frame.DataFrame'>\n",
      "RangeIndex: 860967 entries, 0 to 860966\n",
      "Data columns (total 88 columns):\n",
      " #   Column                          Non-Null Count   Dtype         \n",
      "---  ------                          --------------   -----         \n",
      " 0   msno                            860967 non-null  object        \n",
      " 1   is_churn                        860967 non-null  int64         \n",
      " 2   city                            860967 non-null  float64       \n",
      " 3   bd                              860967 non-null  float64       \n",
      " 4   registered_via                  860967 non-null  float64       \n",
      " 5   registration_init_time          860967 non-null  datetime64[ns]\n",
      " 6   registered_year                 860967 non-null  float64       \n",
      " 7   change_in_payment_method        860967 non-null  int64         \n",
      " 8   total_transaction               860967 non-null  int64         \n",
      " 9   max_payment_method              860967 non-null  int64         \n",
      " 10  avg_plan_days                   860967 non-null  float64       \n",
      " 11  sum_plan_days                   860967 non-null  int64         \n",
      " 12  change_in_plan_days             860967 non-null  int64         \n",
      " 13  avg_list_price                  860967 non-null  float64       \n",
      " 14  sum_list_price                  860967 non-null  int64         \n",
      " 15  change_in_list_price            860967 non-null  int64         \n",
      " 16  avg_amt_paid                    860967 non-null  float64       \n",
      " 17  sum_amt_paid                    860967 non-null  int64         \n",
      " 18  change_in_amt_paid              860967 non-null  int64         \n",
      " 19  avg_discount                    860967 non-null  float64       \n",
      " 20  sum_discount                    860967 non-null  int64         \n",
      " 21  last_cancel_status              860967 non-null  int64         \n",
      " 22  last_auto_renew                 860967 non-null  int64         \n",
      " 23  avg_days_diff_trans_exp         860967 non-null  float64       \n",
      " 24  autorenew_not_cancel_flag       860967 non-null  int64         \n",
      " 25  not_autorenew_cancel_flag       860967 non-null  int64         \n",
      " 26  last_month_login_min            800531 non-null  datetime64[ns]\n",
      " 27  last_month_login_max            800531 non-null  datetime64[ns]\n",
      " 28  last_month_login_count          800531 non-null  float64       \n",
      " 29  last_month_sum_num25            800531 non-null  float64       \n",
      " 30  last_month_mean_num25           800531 non-null  float64       \n",
      " 31  last_month_sum_num50            800531 non-null  float64       \n",
      " 32  last_month_mean_num50           800531 non-null  float64       \n",
      " 33  last_month_sum_num75            800531 non-null  float64       \n",
      " 34  last_month_mean_num75           800531 non-null  float64       \n",
      " 35  last_month_sum_num985           800531 non-null  float64       \n",
      " 36  last_month_mean_num985          800531 non-null  float64       \n",
      " 37  last_month_sum_num_100          800531 non-null  float64       \n",
      " 38  last_month_mean_num100          800531 non-null  float64       \n",
      " 39  last_month_sum_num_unq          800531 non-null  float64       \n",
      " 40  last_month_mean_num_unq         800531 non-null  float64       \n",
      " 41  last_month_total_secs_sum_x     800531 non-null  float32       \n",
      " 42  last_month_total_secs_mean_x    800531 non-null  float32       \n",
      " 43  last_second_month_login_min     800531 non-null  datetime64[ns]\n",
      " 44  last_second_month_login_max     800531 non-null  datetime64[ns]\n",
      " 45  last_second_month_login_count   800531 non-null  float64       \n",
      " 46  last_second_month_sum_num25     800531 non-null  float64       \n",
      " 47  last_second_month_mean_num25    800531 non-null  float64       \n",
      " 48  last_second_month_sum_num50     800531 non-null  float64       \n",
      " 49  last_second_month_mean_num50    800531 non-null  float64       \n",
      " 50  last_second_month_sum_num75     800531 non-null  float64       \n",
      " 51  last_second_month_mean_num75    800531 non-null  float64       \n",
      " 52  last_second_month_sum_num985    800531 non-null  float64       \n",
      " 53  last_second_month_mean_num985   800531 non-null  float64       \n",
      " 54  last_second_month_sum_num_100   800531 non-null  float64       \n",
      " 55  last_second_month_mean_num100   800531 non-null  float64       \n",
      " 56  last_second_month_sum_num_unq   800531 non-null  float64       \n",
      " 57  last_second_month_mean_num_unq  800531 non-null  float64       \n",
      " 58  last_month_total_secs_sum_y     800531 non-null  float32       \n",
      " 59  last_month_total_secs_mean_y    800531 non-null  float32       \n",
      " 60  last_third_month_login_min      800531 non-null  datetime64[ns]\n",
      " 61  last_third_month_login_max      800531 non-null  datetime64[ns]\n",
      " 62  last_third_month_login_count    800531 non-null  float64       \n",
      " 63  last_third_month_sum_num25      800531 non-null  float64       \n",
      " 64  last_third_month_mean_num25     800531 non-null  float64       \n",
      " 65  last_third_month_sum_num50      800531 non-null  float64       \n",
      " 66  last_third_month_mean_num50     800531 non-null  float64       \n",
      " 67  last_third_month_sum_num75      800531 non-null  float64       \n",
      " 68  last_third_month_mean_num75     800531 non-null  float64       \n",
      " 69  last_third_month_sum_num985     800531 non-null  float64       \n",
      " 70  last_third_month_mean_num985    800531 non-null  float64       \n",
      " 71  last_third_month_sum_num_100    800531 non-null  float64       \n",
      " 72  last_third_month_mean_num100    800531 non-null  float64       \n",
      " 73  last_third_month_sum_num_unq    800531 non-null  float64       \n",
      " 74  last_third_month_mean_num_unq   800531 non-null  float64       \n",
      " 75  last_month_total_secs_sum       800531 non-null  float32       \n",
      " 76  last_month_total_secs_mean      800531 non-null  float32       \n",
      " 77  diff_last2month_sum_num25       800531 non-null  float64       \n",
      " 78  diff_last2month_mean_num25      800531 non-null  float64       \n",
      " 79  diff_last2month_sum_num50       800531 non-null  float64       \n",
      " 80  diff_last2month_sum_num75       800531 non-null  float64       \n",
      " 81  diff_last2month_mean_num75      800531 non-null  float64       \n",
      " 82  diff_last2month_sum_num985      800531 non-null  float64       \n",
      " 83  diff_last2month_mean_num985     800531 non-null  float64       \n",
      " 84  diff_last2month_sum_num100      800531 non-null  float64       \n",
      " 85  diff_last2month_mean_num100     800531 non-null  float64       \n",
      " 86  diff_last2month_sum_num_unq     800531 non-null  float64       \n",
      " 87  diff_last2month_mean_num_unq    800531 non-null  float64       \n",
      "dtypes: datetime64[ns](7), float32(6), float64(59), int64(15), object(1)\n",
      "memory usage: 558.3+ MB\n"
     ]
    }
   ],
   "source": [
    "final_dataset.info()"
   ]
  },
  {
   "cell_type": "code",
   "execution_count": 154,
   "id": "fd427066",
   "metadata": {},
   "outputs": [],
   "source": [
    "final_dataset.dropna(inplace=True)"
   ]
  },
  {
   "cell_type": "code",
   "execution_count": 155,
   "id": "2259b876",
   "metadata": {},
   "outputs": [],
   "source": [
    "final_dataset.to_csv('../data/processed/Final_data.csv')"
   ]
  },
  {
   "cell_type": "code",
   "execution_count": null,
   "id": "b204ae76",
   "metadata": {},
   "outputs": [],
   "source": []
  }
 ],
 "metadata": {
  "kernelspec": {
   "display_name": "Python 3 (ipykernel)",
   "language": "python",
   "name": "python3"
  },
  "language_info": {
   "codemirror_mode": {
    "name": "ipython",
    "version": 3
   },
   "file_extension": ".py",
   "mimetype": "text/x-python",
   "name": "python",
   "nbconvert_exporter": "python",
   "pygments_lexer": "ipython3",
   "version": "3.11.4"
  }
 },
 "nbformat": 4,
 "nbformat_minor": 5
}
