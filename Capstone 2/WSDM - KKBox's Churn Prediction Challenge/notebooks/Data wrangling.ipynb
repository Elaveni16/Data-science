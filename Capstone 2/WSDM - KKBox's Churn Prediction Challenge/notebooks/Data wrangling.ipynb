{
 "cells": [
  {
   "cell_type": "code",
   "execution_count": 1,
   "id": "256d9ce9-9fae-4542-bd62-6fad3576086a",
   "metadata": {},
   "outputs": [],
   "source": [
    "import numpy as np # linear algebra\n",
    "import pandas as pd # data processing, CSV file I/O (e.g. pd.read_csv)\n",
    "import matplotlib.pyplot as plt\n",
    "import seaborn as sns"
   ]
  },
  {
   "cell_type": "code",
   "execution_count": 2,
   "id": "a20eab30-0484-495e-97d0-2316801c5f94",
   "metadata": {},
   "outputs": [
    {
     "name": "stdout",
     "output_type": "stream",
     "text": [
      "['.gitkeep', 'members_v3.csv', 'sample_submission_v2.csv', 'sample_submission_zero.csv', 'train.csv', 'train_v2.csv', 'transactions.csv', 'transactions_v2.csv', 'user_label_201703.csv', 'user_logs.csv', 'user_logs_v2.csv']\n"
     ]
    }
   ],
   "source": [
    "import os\n",
    "print(os.listdir(\"../data/raw\"))"
   ]
  },
  {
   "cell_type": "code",
   "execution_count": 3,
   "id": "5f8e2dcc-573e-479c-acdd-ffa57fef4352",
   "metadata": {},
   "outputs": [],
   "source": [
    "import collections"
   ]
  },
  {
   "cell_type": "code",
   "execution_count": 4,
   "id": "bd2533cf-c5f7-4567-8fda-e8478d647a71",
   "metadata": {},
   "outputs": [
    {
     "name": "stdout",
     "output_type": "stream",
     "text": [
      "<class 'pandas.core.frame.DataFrame'>\n",
      "RangeIndex: 970960 entries, 0 to 970959\n",
      "Data columns (total 2 columns):\n",
      " #   Column    Non-Null Count   Dtype \n",
      "---  ------    --------------   ----- \n",
      " 0   msno      970960 non-null  object\n",
      " 1   is_churn  970960 non-null  int64 \n",
      "dtypes: int64(1), object(1)\n",
      "memory usage: 14.8+ MB\n"
     ]
    }
   ],
   "source": [
    "train = pd.read_csv('../data/raw/train_v2.csv')\n",
    "train.info()"
   ]
  },
  {
   "cell_type": "code",
   "execution_count": 5,
   "id": "f766b406-b762-4cc9-b1c5-7fe79e48e60c",
   "metadata": {},
   "outputs": [
    {
     "data": {
      "text/plain": [
       "0    883630\n",
       "1     87330\n",
       "Name: is_churn, dtype: int64"
      ]
     },
     "execution_count": 5,
     "metadata": {},
     "output_type": "execute_result"
    }
   ],
   "source": [
    "train['is_churn'].value_counts()"
   ]
  },
  {
   "cell_type": "code",
   "execution_count": 6,
   "id": "4a3cd006-d11f-4282-b856-015269cd177a",
   "metadata": {},
   "outputs": [],
   "source": [
    "members = pd.read_csv('../data/raw/members_v3.csv', parse_dates=['registration_init_time'])\n",
    "train_member = pd.merge(train,members, on ='msno',how='left')\n"
   ]
  },
  {
   "cell_type": "code",
   "execution_count": 7,
   "id": "1fe04c32-bd09-437f-bacf-6d69fbd9b745",
   "metadata": {},
   "outputs": [
    {
     "data": {
      "text/plain": [
       "msno                           0\n",
       "is_churn                       0\n",
       "city                      109993\n",
       "bd                        109993\n",
       "gender                    582055\n",
       "registered_via            109993\n",
       "registration_init_time    109993\n",
       "dtype: int64"
      ]
     },
     "execution_count": 7,
     "metadata": {},
     "output_type": "execute_result"
    }
   ],
   "source": [
    "train_member.isnull().sum()"
   ]
  },
  {
   "cell_type": "code",
   "execution_count": 8,
   "id": "876f96aa-593c-4646-a0db-f805d65782fe",
   "metadata": {},
   "outputs": [
    {
     "name": "stdout",
     "output_type": "stream",
     "text": [
      "<class 'pandas.core.frame.DataFrame'>\n",
      "Int64Index: 970960 entries, 0 to 970959\n",
      "Data columns (total 7 columns):\n",
      " #   Column                  Non-Null Count   Dtype         \n",
      "---  ------                  --------------   -----         \n",
      " 0   msno                    970960 non-null  object        \n",
      " 1   is_churn                970960 non-null  int64         \n",
      " 2   city                    860967 non-null  float64       \n",
      " 3   bd                      860967 non-null  float64       \n",
      " 4   gender                  388905 non-null  object        \n",
      " 5   registered_via          860967 non-null  float64       \n",
      " 6   registration_init_time  860967 non-null  datetime64[ns]\n",
      "dtypes: datetime64[ns](1), float64(3), int64(1), object(2)\n",
      "memory usage: 59.3+ MB\n"
     ]
    }
   ],
   "source": [
    "train_member.info()"
   ]
  },
  {
   "cell_type": "code",
   "execution_count": 9,
   "id": "7bd07258-751f-471a-9736-97ad242bd95b",
   "metadata": {},
   "outputs": [
    {
     "data": {
      "text/html": [
       "<div>\n",
       "<style scoped>\n",
       "    .dataframe tbody tr th:only-of-type {\n",
       "        vertical-align: middle;\n",
       "    }\n",
       "\n",
       "    .dataframe tbody tr th {\n",
       "        vertical-align: top;\n",
       "    }\n",
       "\n",
       "    .dataframe thead th {\n",
       "        text-align: right;\n",
       "    }\n",
       "</style>\n",
       "<table border=\"1\" class=\"dataframe\">\n",
       "  <thead>\n",
       "    <tr style=\"text-align: right;\">\n",
       "      <th></th>\n",
       "      <th>is_churn</th>\n",
       "      <th>city</th>\n",
       "      <th>bd</th>\n",
       "      <th>registered_via</th>\n",
       "    </tr>\n",
       "  </thead>\n",
       "  <tbody>\n",
       "    <tr>\n",
       "      <th>count</th>\n",
       "      <td>970960.000000</td>\n",
       "      <td>860967.000000</td>\n",
       "      <td>860967.000000</td>\n",
       "      <td>860967.000000</td>\n",
       "    </tr>\n",
       "    <tr>\n",
       "      <th>mean</th>\n",
       "      <td>0.089942</td>\n",
       "      <td>5.937295</td>\n",
       "      <td>13.583854</td>\n",
       "      <td>6.892744</td>\n",
       "    </tr>\n",
       "    <tr>\n",
       "      <th>std</th>\n",
       "      <td>0.286099</td>\n",
       "      <td>6.441203</td>\n",
       "      <td>20.064040</td>\n",
       "      <td>1.937794</td>\n",
       "    </tr>\n",
       "    <tr>\n",
       "      <th>min</th>\n",
       "      <td>0.000000</td>\n",
       "      <td>1.000000</td>\n",
       "      <td>-3152.000000</td>\n",
       "      <td>3.000000</td>\n",
       "    </tr>\n",
       "    <tr>\n",
       "      <th>25%</th>\n",
       "      <td>0.000000</td>\n",
       "      <td>1.000000</td>\n",
       "      <td>0.000000</td>\n",
       "      <td>7.000000</td>\n",
       "    </tr>\n",
       "    <tr>\n",
       "      <th>50%</th>\n",
       "      <td>0.000000</td>\n",
       "      <td>1.000000</td>\n",
       "      <td>0.000000</td>\n",
       "      <td>7.000000</td>\n",
       "    </tr>\n",
       "    <tr>\n",
       "      <th>75%</th>\n",
       "      <td>0.000000</td>\n",
       "      <td>13.000000</td>\n",
       "      <td>27.000000</td>\n",
       "      <td>9.000000</td>\n",
       "    </tr>\n",
       "    <tr>\n",
       "      <th>max</th>\n",
       "      <td>1.000000</td>\n",
       "      <td>22.000000</td>\n",
       "      <td>2016.000000</td>\n",
       "      <td>13.000000</td>\n",
       "    </tr>\n",
       "  </tbody>\n",
       "</table>\n",
       "</div>"
      ],
      "text/plain": [
       "            is_churn           city             bd  registered_via\n",
       "count  970960.000000  860967.000000  860967.000000   860967.000000\n",
       "mean        0.089942       5.937295      13.583854        6.892744\n",
       "std         0.286099       6.441203      20.064040        1.937794\n",
       "min         0.000000       1.000000   -3152.000000        3.000000\n",
       "25%         0.000000       1.000000       0.000000        7.000000\n",
       "50%         0.000000       1.000000       0.000000        7.000000\n",
       "75%         0.000000      13.000000      27.000000        9.000000\n",
       "max         1.000000      22.000000    2016.000000       13.000000"
      ]
     },
     "execution_count": 9,
     "metadata": {},
     "output_type": "execute_result"
    }
   ],
   "source": [
    "train_member.describe()"
   ]
  },
  {
   "cell_type": "code",
   "execution_count": 10,
   "id": "53448877-299f-4890-9e87-80d6bd369ed5",
   "metadata": {},
   "outputs": [
    {
     "data": {
      "text/plain": [
       "Timestamp('2014-06-02 00:00:00')"
      ]
     },
     "execution_count": 10,
     "metadata": {},
     "output_type": "execute_result"
    }
   ],
   "source": [
    "train_member['registration_init_time'].median()"
   ]
  },
  {
   "cell_type": "code",
   "execution_count": 11,
   "id": "d5ec38a9-0036-4e51-87a9-7838773ef502",
   "metadata": {},
   "outputs": [
    {
     "data": {
      "text/html": [
       "<div>\n",
       "<style scoped>\n",
       "    .dataframe tbody tr th:only-of-type {\n",
       "        vertical-align: middle;\n",
       "    }\n",
       "\n",
       "    .dataframe tbody tr th {\n",
       "        vertical-align: top;\n",
       "    }\n",
       "\n",
       "    .dataframe thead th {\n",
       "        text-align: right;\n",
       "    }\n",
       "</style>\n",
       "<table border=\"1\" class=\"dataframe\">\n",
       "  <thead>\n",
       "    <tr style=\"text-align: right;\">\n",
       "      <th></th>\n",
       "      <th>msno</th>\n",
       "      <th>is_churn</th>\n",
       "      <th>city</th>\n",
       "      <th>bd</th>\n",
       "      <th>gender</th>\n",
       "      <th>registered_via</th>\n",
       "      <th>registration_init_time</th>\n",
       "    </tr>\n",
       "  </thead>\n",
       "  <tbody>\n",
       "    <tr>\n",
       "      <th>0</th>\n",
       "      <td>ugx0CjOMzazClkFzU2xasmDZaoIqOUAZPsH1q0teWCg=</td>\n",
       "      <td>1</td>\n",
       "      <td>5.0</td>\n",
       "      <td>28.0</td>\n",
       "      <td>male</td>\n",
       "      <td>3.0</td>\n",
       "      <td>2013-12-23</td>\n",
       "    </tr>\n",
       "    <tr>\n",
       "      <th>1</th>\n",
       "      <td>f/NmvEzHfhINFEYZTR05prUdr+E+3+oewvweYz9cCQE=</td>\n",
       "      <td>1</td>\n",
       "      <td>13.0</td>\n",
       "      <td>20.0</td>\n",
       "      <td>male</td>\n",
       "      <td>3.0</td>\n",
       "      <td>2013-12-23</td>\n",
       "    </tr>\n",
       "    <tr>\n",
       "      <th>2</th>\n",
       "      <td>zLo9f73nGGT1p21ltZC3ChiRnAVvgibMyazbCxvWPcg=</td>\n",
       "      <td>1</td>\n",
       "      <td>13.0</td>\n",
       "      <td>18.0</td>\n",
       "      <td>male</td>\n",
       "      <td>3.0</td>\n",
       "      <td>2013-12-27</td>\n",
       "    </tr>\n",
       "    <tr>\n",
       "      <th>3</th>\n",
       "      <td>8iF/+8HY8lJKFrTc7iR9ZYGCG2Ecrogbc2Vy5YhsfhQ=</td>\n",
       "      <td>1</td>\n",
       "      <td>1.0</td>\n",
       "      <td>0.0</td>\n",
       "      <td>NaN</td>\n",
       "      <td>7.0</td>\n",
       "      <td>2014-01-09</td>\n",
       "    </tr>\n",
       "    <tr>\n",
       "      <th>4</th>\n",
       "      <td>K6fja4+jmoZ5xG6BypqX80Uw/XKpMgrEMdG2edFOxnA=</td>\n",
       "      <td>1</td>\n",
       "      <td>13.0</td>\n",
       "      <td>35.0</td>\n",
       "      <td>female</td>\n",
       "      <td>7.0</td>\n",
       "      <td>2014-01-25</td>\n",
       "    </tr>\n",
       "  </tbody>\n",
       "</table>\n",
       "</div>"
      ],
      "text/plain": [
       "                                           msno  is_churn  city    bd  gender  \\\n",
       "0  ugx0CjOMzazClkFzU2xasmDZaoIqOUAZPsH1q0teWCg=         1   5.0  28.0    male   \n",
       "1  f/NmvEzHfhINFEYZTR05prUdr+E+3+oewvweYz9cCQE=         1  13.0  20.0    male   \n",
       "2  zLo9f73nGGT1p21ltZC3ChiRnAVvgibMyazbCxvWPcg=         1  13.0  18.0    male   \n",
       "3  8iF/+8HY8lJKFrTc7iR9ZYGCG2Ecrogbc2Vy5YhsfhQ=         1   1.0   0.0     NaN   \n",
       "4  K6fja4+jmoZ5xG6BypqX80Uw/XKpMgrEMdG2edFOxnA=         1  13.0  35.0  female   \n",
       "\n",
       "   registered_via registration_init_time  \n",
       "0             3.0             2013-12-23  \n",
       "1             3.0             2013-12-23  \n",
       "2             3.0             2013-12-27  \n",
       "3             7.0             2014-01-09  \n",
       "4             7.0             2014-01-25  "
      ]
     },
     "execution_count": 11,
     "metadata": {},
     "output_type": "execute_result"
    }
   ],
   "source": [
    "train_member.head()"
   ]
  },
  {
   "cell_type": "code",
   "execution_count": 12,
   "id": "3fbf9652-cbfe-4094-ac8b-0b3893a2da83",
   "metadata": {},
   "outputs": [
    {
     "data": {
      "text/html": [
       "<div>\n",
       "<style scoped>\n",
       "    .dataframe tbody tr th:only-of-type {\n",
       "        vertical-align: middle;\n",
       "    }\n",
       "\n",
       "    .dataframe tbody tr th {\n",
       "        vertical-align: top;\n",
       "    }\n",
       "\n",
       "    .dataframe thead th {\n",
       "        text-align: right;\n",
       "    }\n",
       "</style>\n",
       "<table border=\"1\" class=\"dataframe\">\n",
       "  <thead>\n",
       "    <tr style=\"text-align: right;\">\n",
       "      <th></th>\n",
       "      <th>msno</th>\n",
       "      <th>is_churn</th>\n",
       "      <th>city</th>\n",
       "      <th>bd</th>\n",
       "      <th>gender</th>\n",
       "      <th>registered_via</th>\n",
       "      <th>registration_init_time</th>\n",
       "    </tr>\n",
       "  </thead>\n",
       "  <tbody>\n",
       "    <tr>\n",
       "      <th>0</th>\n",
       "      <td>ugx0CjOMzazClkFzU2xasmDZaoIqOUAZPsH1q0teWCg=</td>\n",
       "      <td>1</td>\n",
       "      <td>5.0</td>\n",
       "      <td>28.0</td>\n",
       "      <td>1.0</td>\n",
       "      <td>3.0</td>\n",
       "      <td>2013-12-23</td>\n",
       "    </tr>\n",
       "    <tr>\n",
       "      <th>1</th>\n",
       "      <td>f/NmvEzHfhINFEYZTR05prUdr+E+3+oewvweYz9cCQE=</td>\n",
       "      <td>1</td>\n",
       "      <td>13.0</td>\n",
       "      <td>20.0</td>\n",
       "      <td>1.0</td>\n",
       "      <td>3.0</td>\n",
       "      <td>2013-12-23</td>\n",
       "    </tr>\n",
       "    <tr>\n",
       "      <th>2</th>\n",
       "      <td>zLo9f73nGGT1p21ltZC3ChiRnAVvgibMyazbCxvWPcg=</td>\n",
       "      <td>1</td>\n",
       "      <td>13.0</td>\n",
       "      <td>18.0</td>\n",
       "      <td>1.0</td>\n",
       "      <td>3.0</td>\n",
       "      <td>2013-12-27</td>\n",
       "    </tr>\n",
       "    <tr>\n",
       "      <th>3</th>\n",
       "      <td>8iF/+8HY8lJKFrTc7iR9ZYGCG2Ecrogbc2Vy5YhsfhQ=</td>\n",
       "      <td>1</td>\n",
       "      <td>1.0</td>\n",
       "      <td>0.0</td>\n",
       "      <td>NaN</td>\n",
       "      <td>7.0</td>\n",
       "      <td>2014-01-09</td>\n",
       "    </tr>\n",
       "    <tr>\n",
       "      <th>4</th>\n",
       "      <td>K6fja4+jmoZ5xG6BypqX80Uw/XKpMgrEMdG2edFOxnA=</td>\n",
       "      <td>1</td>\n",
       "      <td>13.0</td>\n",
       "      <td>35.0</td>\n",
       "      <td>2.0</td>\n",
       "      <td>7.0</td>\n",
       "      <td>2014-01-25</td>\n",
       "    </tr>\n",
       "  </tbody>\n",
       "</table>\n",
       "</div>"
      ],
      "text/plain": [
       "                                           msno  is_churn  city    bd  gender  \\\n",
       "0  ugx0CjOMzazClkFzU2xasmDZaoIqOUAZPsH1q0teWCg=         1   5.0  28.0     1.0   \n",
       "1  f/NmvEzHfhINFEYZTR05prUdr+E+3+oewvweYz9cCQE=         1  13.0  20.0     1.0   \n",
       "2  zLo9f73nGGT1p21ltZC3ChiRnAVvgibMyazbCxvWPcg=         1  13.0  18.0     1.0   \n",
       "3  8iF/+8HY8lJKFrTc7iR9ZYGCG2Ecrogbc2Vy5YhsfhQ=         1   1.0   0.0     NaN   \n",
       "4  K6fja4+jmoZ5xG6BypqX80Uw/XKpMgrEMdG2edFOxnA=         1  13.0  35.0     2.0   \n",
       "\n",
       "   registered_via registration_init_time  \n",
       "0             3.0             2013-12-23  \n",
       "1             3.0             2013-12-23  \n",
       "2             3.0             2013-12-27  \n",
       "3             7.0             2014-01-09  \n",
       "4             7.0             2014-01-25  "
      ]
     },
     "execution_count": 12,
     "metadata": {},
     "output_type": "execute_result"
    }
   ],
   "source": [
    "\n",
    "gender = {'male':1, 'female':2}\n",
    "train_member['gender'] = train_member['gender'].map(gender)\n",
    "\n",
    "train_member.head()"
   ]
  },
  {
   "cell_type": "code",
   "execution_count": 16,
   "id": "ae43e2a3-d5c6-4449-82a7-1a352c50097f",
   "metadata": {},
   "outputs": [],
   "source": [
    "\n",
    "train_member['gender'].fillna(0,inplace=True)\n"
   ]
  },
  {
   "cell_type": "code",
   "execution_count": 17,
   "id": "75d72354-fb24-4ed6-b7d8-27fb0669f629",
   "metadata": {},
   "outputs": [
    {
     "data": {
      "text/plain": [
       "0    1.0\n",
       "1    1.0\n",
       "2    1.0\n",
       "3    0.0\n",
       "4    2.0\n",
       "Name: gender, dtype: float64"
      ]
     },
     "execution_count": 17,
     "metadata": {},
     "output_type": "execute_result"
    }
   ],
   "source": [
    "\n",
    "train_member['gender'].head()"
   ]
  },
  {
   "cell_type": "markdown",
   "id": "df54dbba-9271-4dcd-b65e-90ea77e0f604",
   "metadata": {},
   "source": [
    "observation -\n",
    "Many null values - 109993, gender is missing lots of value, city as float, bd - mixed range(year, age,-ve),reg_time -float.\n",
    "\n",
    "change - bd to common age ,change reg_time to to_date"
   ]
  },
  {
   "cell_type": "code",
   "execution_count": 18,
   "id": "25056548-3138-40f3-bc79-22bb85694138",
   "metadata": {},
   "outputs": [
    {
     "data": {
      "text/html": [
       "<div>\n",
       "<style scoped>\n",
       "    .dataframe tbody tr th:only-of-type {\n",
       "        vertical-align: middle;\n",
       "    }\n",
       "\n",
       "    .dataframe tbody tr th {\n",
       "        vertical-align: top;\n",
       "    }\n",
       "\n",
       "    .dataframe thead th {\n",
       "        text-align: right;\n",
       "    }\n",
       "</style>\n",
       "<table border=\"1\" class=\"dataframe\">\n",
       "  <thead>\n",
       "    <tr style=\"text-align: right;\">\n",
       "      <th></th>\n",
       "      <th>msno</th>\n",
       "      <th>is_churn</th>\n",
       "      <th>city</th>\n",
       "      <th>bd</th>\n",
       "      <th>gender</th>\n",
       "      <th>registered_via</th>\n",
       "      <th>registration_init_time</th>\n",
       "    </tr>\n",
       "  </thead>\n",
       "  <tbody>\n",
       "    <tr>\n",
       "      <th>217142</th>\n",
       "      <td>zEV2f5hxpJ1UA0Siy0XDC3vgqamDW0neVQXS7d1p/pE=</td>\n",
       "      <td>0</td>\n",
       "      <td>4.0</td>\n",
       "      <td>2016.0</td>\n",
       "      <td>0.0</td>\n",
       "      <td>9.0</td>\n",
       "      <td>2015-03-14</td>\n",
       "    </tr>\n",
       "    <tr>\n",
       "      <th>641878</th>\n",
       "      <td>G8zP9tlnj+jjfjoT40ofzqghqQO4Ga5VGHBpzpJUKbs=</td>\n",
       "      <td>0</td>\n",
       "      <td>3.0</td>\n",
       "      <td>1970.0</td>\n",
       "      <td>2.0</td>\n",
       "      <td>3.0</td>\n",
       "      <td>2015-02-09</td>\n",
       "    </tr>\n",
       "  </tbody>\n",
       "</table>\n",
       "</div>"
      ],
      "text/plain": [
       "                                                msno  is_churn  city      bd  \\\n",
       "217142  zEV2f5hxpJ1UA0Siy0XDC3vgqamDW0neVQXS7d1p/pE=         0   4.0  2016.0   \n",
       "641878  G8zP9tlnj+jjfjoT40ofzqghqQO4Ga5VGHBpzpJUKbs=         0   3.0  1970.0   \n",
       "\n",
       "        gender  registered_via registration_init_time  \n",
       "217142     0.0             9.0             2015-03-14  \n",
       "641878     2.0             3.0             2015-02-09  "
      ]
     },
     "execution_count": 18,
     "metadata": {},
     "output_type": "execute_result"
    }
   ],
   "source": [
    "train_member[train_member.bd > 1923]"
   ]
  },
  {
   "cell_type": "code",
   "execution_count": 19,
   "id": "21bc92fe-11a2-42cf-836a-cc581924bd85",
   "metadata": {},
   "outputs": [],
   "source": [
    "# 2023 - 2016.0 \n",
    "train_member.at[217142,'bd'] = 7\n",
    "# 2023 - 1970.0 \n",
    "train_member.at[641878,'bd'] = 53"
   ]
  },
  {
   "cell_type": "code",
   "execution_count": 20,
   "id": "1199da55-a870-46d9-913d-0586e9483701",
   "metadata": {},
   "outputs": [
    {
     "data": {
      "text/html": [
       "<div>\n",
       "<style scoped>\n",
       "    .dataframe tbody tr th:only-of-type {\n",
       "        vertical-align: middle;\n",
       "    }\n",
       "\n",
       "    .dataframe tbody tr th {\n",
       "        vertical-align: top;\n",
       "    }\n",
       "\n",
       "    .dataframe thead th {\n",
       "        text-align: right;\n",
       "    }\n",
       "</style>\n",
       "<table border=\"1\" class=\"dataframe\">\n",
       "  <thead>\n",
       "    <tr style=\"text-align: right;\">\n",
       "      <th></th>\n",
       "      <th>msno</th>\n",
       "      <th>is_churn</th>\n",
       "      <th>city</th>\n",
       "      <th>bd</th>\n",
       "      <th>gender</th>\n",
       "      <th>registered_via</th>\n",
       "      <th>registration_init_time</th>\n",
       "    </tr>\n",
       "  </thead>\n",
       "  <tbody>\n",
       "    <tr>\n",
       "      <th>217142</th>\n",
       "      <td>zEV2f5hxpJ1UA0Siy0XDC3vgqamDW0neVQXS7d1p/pE=</td>\n",
       "      <td>0</td>\n",
       "      <td>4.0</td>\n",
       "      <td>7.0</td>\n",
       "      <td>0.0</td>\n",
       "      <td>9.0</td>\n",
       "      <td>2015-03-14</td>\n",
       "    </tr>\n",
       "    <tr>\n",
       "      <th>641878</th>\n",
       "      <td>G8zP9tlnj+jjfjoT40ofzqghqQO4Ga5VGHBpzpJUKbs=</td>\n",
       "      <td>0</td>\n",
       "      <td>3.0</td>\n",
       "      <td>53.0</td>\n",
       "      <td>2.0</td>\n",
       "      <td>3.0</td>\n",
       "      <td>2015-02-09</td>\n",
       "    </tr>\n",
       "  </tbody>\n",
       "</table>\n",
       "</div>"
      ],
      "text/plain": [
       "                                                msno  is_churn  city    bd  \\\n",
       "217142  zEV2f5hxpJ1UA0Siy0XDC3vgqamDW0neVQXS7d1p/pE=         0   4.0   7.0   \n",
       "641878  G8zP9tlnj+jjfjoT40ofzqghqQO4Ga5VGHBpzpJUKbs=         0   3.0  53.0   \n",
       "\n",
       "        gender  registered_via registration_init_time  \n",
       "217142     0.0             9.0             2015-03-14  \n",
       "641878     2.0             3.0             2015-02-09  "
      ]
     },
     "execution_count": 20,
     "metadata": {},
     "output_type": "execute_result"
    }
   ],
   "source": [
    "\n",
    "train_member.iloc[[217142,641878]] \n"
   ]
  },
  {
   "cell_type": "code",
   "execution_count": 21,
   "id": "e393be5a-d0ca-4f45-b622-0feab78fd266",
   "metadata": {},
   "outputs": [
    {
     "data": {
      "text/plain": [
       "count    860967.000000\n",
       "mean         13.579294\n",
       "std          19.835945\n",
       "min       -3152.000000\n",
       "25%           0.000000\n",
       "50%           0.000000\n",
       "75%          27.000000\n",
       "max        1820.000000\n",
       "Name: bd, dtype: float64"
      ]
     },
     "execution_count": 21,
     "metadata": {},
     "output_type": "execute_result"
    }
   ],
   "source": [
    "train_member['bd'].describe()"
   ]
  },
  {
   "cell_type": "code",
   "execution_count": 22,
   "id": "e21eab44-9ad7-43af-b986-966dabce40a9",
   "metadata": {},
   "outputs": [
    {
     "name": "stdout",
     "output_type": "stream",
     "text": [
      "-40.5 67.5\n"
     ]
    }
   ],
   "source": [
    "q1 = train_member['bd'].quantile(0.25)\n",
    "q2 = train_member['bd'].quantile(0.75)\n",
    "IQR = q2-q1\n",
    "print(q1-1.5*IQR,q2+1.5*IQR)\n"
   ]
  },
  {
   "cell_type": "code",
   "execution_count": 17,
   "id": "03117b66-ca45-459b-8561-dbc9917eddba",
   "metadata": {},
   "outputs": [
    {
     "data": {
      "image/png": "[encoded data removed]",
      "text/plain": [
       "<Figure size 1000x800 with 1 Axes>"
      ]
     },
     "metadata": {},
     "output_type": "display_data"
    }
   ],
   "source": [
    "train_member['age_group'] = pd.cut(train_member.bd, bins=[0,10,20,30,40,50,60,70,80,90,100],right=True)\n",
    "plt.figure(figsize=(10, 8))\n",
    "plots = sns.countplot(x='age_group', data=train_member, hue='is_churn')\n",
    "for bar in plots.patches:\n",
    "    plots.annotate(format(bar.get_height(), '.2f'),\n",
    "                   (bar.get_x() + bar.get_width() / 2,\n",
    "                    bar.get_height()), ha='center', va='center',\n",
    "                   size=6, xytext=(0, 2),\n",
    "                   textcoords='offset points')\n",
    "plt.show()"
   ]
  },
  {
   "cell_type": "markdown",
   "id": "8c92c571-19e9-4b11-b255-f399a81bee16",
   "metadata": {},
   "source": [
    "max listen in the age group 20-30. the outlier less than 0 and greater than 100 are removed. 75%  is 27 age. impute 27 for outliers"
   ]
  },
  {
   "cell_type": "code",
   "execution_count": 23,
   "id": "ec8e40f2-923a-45cd-a7a2-cdc82245bd3d",
   "metadata": {},
   "outputs": [],
   "source": [
    "train_member['bd'] = train_member['bd'].apply(lambda x: x if(x<=100.0) and (x>0) else np.nan)\n",
    "train_member['bd'] = train_member['bd'].fillna(27)"
   ]
  },
  {
   "cell_type": "code",
   "execution_count": 24,
   "id": "02b0664a-f278-40b7-b3d0-db0e690ce00c",
   "metadata": {},
   "outputs": [],
   "source": [
    "train_member['registered_year'] = train_member['registration_init_time'].dt.year"
   ]
  },
  {
   "cell_type": "code",
   "execution_count": 25,
   "id": "0b0dbd18-aae9-496f-9b94-cbc9874cfa2b",
   "metadata": {},
   "outputs": [
    {
     "data": {
      "text/plain": [
       "0    2013.0\n",
       "1    2013.0\n",
       "2    2013.0\n",
       "3    2014.0\n",
       "4    2014.0\n",
       "Name: registered_year, dtype: float64"
      ]
     },
     "execution_count": 25,
     "metadata": {},
     "output_type": "execute_result"
    }
   ],
   "source": [
    "train_member['registered_year'].head()"
   ]
  },
  {
   "cell_type": "code",
   "execution_count": 27,
   "id": "a954f2ed-34bd-4c4e-a7b8-30c6a86f36ce",
   "metadata": {},
   "outputs": [
    {
     "data": {
      "image/png": "[encoded data removed]",
      "text/plain": [
       "<Figure size 2000x800 with 1 Axes>"
      ]
     },
     "metadata": {},
     "output_type": "display_data"
    }
   ],
   "source": [
    "plt.figure(figsize=(20, 8))\n",
    "sns.countplot(x='registered_year', data=train_member, hue='is_churn')\n",
    "plt.show()"
   ]
  },
  {
   "cell_type": "markdown",
   "id": "1085f664-77a8-4830-886f-1a49bc201c8a",
   "metadata": {},
   "source": [
    "2016 has many registered user"
   ]
  },
  {
   "cell_type": "code",
   "execution_count": 19,
   "id": "f4a9a7bc-501b-4cac-a7dc-edef888c4f68",
   "metadata": {},
   "outputs": [
    {
     "data": {
      "image/png": "[encoded data removed]",
      "text/plain": [
       "<Figure size 640x480 with 1 Axes>"
      ]
     },
     "metadata": {},
     "output_type": "display_data"
    }
   ],
   "source": [
    "sns.countplot(x='registered_via', data=train_member, hue='is_churn')\n",
    "plt.show()"
   ]
  },
  {
   "cell_type": "markdown",
   "id": "813dd80c-2587-4a9f-b04a-f7d1bde5ac7b",
   "metadata": {},
   "source": [
    "7 method type is used more for registered_via"
   ]
  },
  {
   "cell_type": "code",
   "execution_count": 20,
   "id": "522f87dc-d407-4856-84b7-a292f3ac8769",
   "metadata": {},
   "outputs": [
    {
     "data": {
      "image/png": "[encoded data removed]",
      "text/plain": [
       "<Figure size 640x480 with 1 Axes>"
      ]
     },
     "metadata": {},
     "output_type": "display_data"
    }
   ],
   "source": [
    "sns.countplot(x='gender', data=train_member, hue='is_churn')\n",
    "plt.show()"
   ]
  },
  {
   "cell_type": "markdown",
   "id": "06a1c0e7-2273-4ade-8a81-2a2acc949a3d",
   "metadata": {},
   "source": [
    "male and female are equally contributed"
   ]
  },
  {
   "cell_type": "markdown",
   "id": "e112190f-668b-429e-9d73-d5c02bd176c1",
   "metadata": {},
   "source": [
    "Reduce size using reduction in datatype size"
   ]
  },
  {
   "cell_type": "code",
   "execution_count": 37,
   "id": "2b2080a7-80db-43fb-b15b-200964bc9c28",
   "metadata": {},
   "outputs": [],
   "source": [
    "def reducedatatype(df):\n",
    "    int_col = list(df.select_dtypes(include=[int]).columns)\n",
    "    for col in int_col:\n",
    "        if((np.min(df[col]) >= -127) and (np.max(df[col]) <= 127)):\n",
    "            df[col] = df[col].astype(np.int8)\n",
    "        elif((np.min(df[col]) >= -32768) and (np.max(df[col]) <= 32768)):\n",
    "            df[col] = df[col].astype(np.int16)\n",
    "        elif((np.min(df[col]) >= -2147483647) and (np.max(df[col]) <= 2147483647)):\n",
    "            df[col] = df[col].astype(np.int32)\n",
    "        else:\n",
    "            df[col] = df[col].astype(np.int64)\n",
    "    int_float = list(df.select_dtypes(include=[float]).columns)\n",
    "    for col in int_float:\n",
    "        df[col] = df[col].astype(np.float32)\n",
    "\n",
    "           "
   ]
  },
  {
   "cell_type": "code",
   "execution_count": 22,
   "id": "0020e6d1-b5ad-4d30-9fa0-24f3d3aa2241",
   "metadata": {},
   "outputs": [],
   "source": [
    "reducedatatype(train_member)"
   ]
  },
  {
   "cell_type": "code",
   "execution_count": 29,
   "id": "11b0f357-8595-4f0d-b4e4-05c875c08179",
   "metadata": {},
   "outputs": [],
   "source": [
    "train_member.dropna(inplace=True)"
   ]
  },
  {
   "cell_type": "code",
   "execution_count": 30,
   "id": "39e5f476-9a7c-4168-b033-1aaa8100dd11",
   "metadata": {},
   "outputs": [
    {
     "data": {
      "text/plain": [
       "msno                      0\n",
       "is_churn                  0\n",
       "city                      0\n",
       "bd                        0\n",
       "gender                    0\n",
       "registered_via            0\n",
       "registration_init_time    0\n",
       "registered_year           0\n",
       "dtype: int64"
      ]
     },
     "execution_count": 30,
     "metadata": {},
     "output_type": "execute_result"
    }
   ],
   "source": [
    "train_member.isnull().sum()"
   ]
  },
  {
   "cell_type": "code",
   "execution_count": 32,
   "id": "3123a9e2-a388-449c-aaed-02128b0bea1c",
   "metadata": {},
   "outputs": [],
   "source": [
    "train_member.to_csv('../data/processed/train_member.csv',index=False)"
   ]
  },
  {
   "cell_type": "code",
   "execution_count": 35,
   "id": "3b9cc0d5-b18d-4dfe-9dc9-42c45c1bf0d2",
   "metadata": {},
   "outputs": [],
   "source": [
    "trans = pd.read_csv('../data/raw/transactions.csv')\n",
    "trans1 = pd.read_csv('../data/raw/transactions_v2.csv')"
   ]
  },
  {
   "cell_type": "code",
   "execution_count": 36,
   "id": "b53db33d-d7d5-44c6-a68b-714b37284e41",
   "metadata": {},
   "outputs": [
    {
     "data": {
      "text/html": [
       "<div>\n",
       "<style scoped>\n",
       "    .dataframe tbody tr th:only-of-type {\n",
       "        vertical-align: middle;\n",
       "    }\n",
       "\n",
       "    .dataframe tbody tr th {\n",
       "        vertical-align: top;\n",
       "    }\n",
       "\n",
       "    .dataframe thead th {\n",
       "        text-align: right;\n",
       "    }\n",
       "</style>\n",
       "<table border=\"1\" class=\"dataframe\">\n",
       "  <thead>\n",
       "    <tr style=\"text-align: right;\">\n",
       "      <th></th>\n",
       "      <th>msno</th>\n",
       "      <th>payment_method_id</th>\n",
       "      <th>payment_plan_days</th>\n",
       "      <th>plan_list_price</th>\n",
       "      <th>actual_amount_paid</th>\n",
       "      <th>is_auto_renew</th>\n",
       "      <th>transaction_date</th>\n",
       "      <th>membership_expire_date</th>\n",
       "      <th>is_cancel</th>\n",
       "    </tr>\n",
       "  </thead>\n",
       "  <tbody>\n",
       "    <tr>\n",
       "      <th>0</th>\n",
       "      <td>YyO+tlZtAXYXoZhNr3Vg3+dfVQvrBVGO8j1mfqe4ZHc=</td>\n",
       "      <td>41</td>\n",
       "      <td>30</td>\n",
       "      <td>129</td>\n",
       "      <td>129</td>\n",
       "      <td>1</td>\n",
       "      <td>20150930</td>\n",
       "      <td>20151101</td>\n",
       "      <td>0</td>\n",
       "    </tr>\n",
       "    <tr>\n",
       "      <th>1</th>\n",
       "      <td>AZtu6Wl0gPojrEQYB8Q3vBSmE2wnZ3hi1FbK1rQQ0A4=</td>\n",
       "      <td>41</td>\n",
       "      <td>30</td>\n",
       "      <td>149</td>\n",
       "      <td>149</td>\n",
       "      <td>1</td>\n",
       "      <td>20150930</td>\n",
       "      <td>20151031</td>\n",
       "      <td>0</td>\n",
       "    </tr>\n",
       "    <tr>\n",
       "      <th>2</th>\n",
       "      <td>UkDFI97Qb6+s2LWcijVVv4rMAsORbVDT2wNXF0aVbns=</td>\n",
       "      <td>41</td>\n",
       "      <td>30</td>\n",
       "      <td>129</td>\n",
       "      <td>129</td>\n",
       "      <td>1</td>\n",
       "      <td>20150930</td>\n",
       "      <td>20160427</td>\n",
       "      <td>0</td>\n",
       "    </tr>\n",
       "    <tr>\n",
       "      <th>3</th>\n",
       "      <td>M1C56ijxozNaGD0t2h68PnH2xtx5iO5iR2MVYQB6nBI=</td>\n",
       "      <td>39</td>\n",
       "      <td>30</td>\n",
       "      <td>149</td>\n",
       "      <td>149</td>\n",
       "      <td>1</td>\n",
       "      <td>20150930</td>\n",
       "      <td>20151128</td>\n",
       "      <td>0</td>\n",
       "    </tr>\n",
       "    <tr>\n",
       "      <th>4</th>\n",
       "      <td>yvj6zyBUaqdbUQSrKsrZ+xNDVM62knauSZJzakS9OW4=</td>\n",
       "      <td>39</td>\n",
       "      <td>30</td>\n",
       "      <td>149</td>\n",
       "      <td>149</td>\n",
       "      <td>1</td>\n",
       "      <td>20150930</td>\n",
       "      <td>20151121</td>\n",
       "      <td>0</td>\n",
       "    </tr>\n",
       "  </tbody>\n",
       "</table>\n",
       "</div>"
      ],
      "text/plain": [
       "                                           msno  payment_method_id  \\\n",
       "0  YyO+tlZtAXYXoZhNr3Vg3+dfVQvrBVGO8j1mfqe4ZHc=                 41   \n",
       "1  AZtu6Wl0gPojrEQYB8Q3vBSmE2wnZ3hi1FbK1rQQ0A4=                 41   \n",
       "2  UkDFI97Qb6+s2LWcijVVv4rMAsORbVDT2wNXF0aVbns=                 41   \n",
       "3  M1C56ijxozNaGD0t2h68PnH2xtx5iO5iR2MVYQB6nBI=                 39   \n",
       "4  yvj6zyBUaqdbUQSrKsrZ+xNDVM62knauSZJzakS9OW4=                 39   \n",
       "\n",
       "   payment_plan_days  plan_list_price  actual_amount_paid  is_auto_renew  \\\n",
       "0                 30              129                 129              1   \n",
       "1                 30              149                 149              1   \n",
       "2                 30              129                 129              1   \n",
       "3                 30              149                 149              1   \n",
       "4                 30              149                 149              1   \n",
       "\n",
       "   transaction_date  membership_expire_date  is_cancel  \n",
       "0          20150930                20151101          0  \n",
       "1          20150930                20151031          0  \n",
       "2          20150930                20160427          0  \n",
       "3          20150930                20151128          0  \n",
       "4          20150930                20151121          0  "
      ]
     },
     "execution_count": 36,
     "metadata": {},
     "output_type": "execute_result"
    }
   ],
   "source": [
    "trans.head()"
   ]
  },
  {
   "cell_type": "code",
   "execution_count": 38,
   "id": "eab5ac7c-9581-4a09-8d2b-2ee7a46afd95",
   "metadata": {},
   "outputs": [],
   "source": [
    "\n",
    "reducedatatype(trans)\n",
    "\n",
    "reducedatatype(trans1)"
   ]
  },
  {
   "cell_type": "code",
   "execution_count": 39,
   "id": "c4f6030d-e23a-402e-9f4b-47a699c24014",
   "metadata": {},
   "outputs": [
    {
     "name": "stdout",
     "output_type": "stream",
     "text": [
      "<class 'pandas.core.frame.DataFrame'>\n",
      "RangeIndex: 1431009 entries, 0 to 1431008\n",
      "Data columns (total 9 columns):\n",
      " #   Column                  Non-Null Count    Dtype \n",
      "---  ------                  --------------    ----- \n",
      " 0   msno                    1431009 non-null  object\n",
      " 1   payment_method_id       1431009 non-null  int8  \n",
      " 2   payment_plan_days       1431009 non-null  int16 \n",
      " 3   plan_list_price         1431009 non-null  int16 \n",
      " 4   actual_amount_paid      1431009 non-null  int16 \n",
      " 5   is_auto_renew           1431009 non-null  int8  \n",
      " 6   transaction_date        1431009 non-null  int32 \n",
      " 7   membership_expire_date  1431009 non-null  int32 \n",
      " 8   is_cancel               1431009 non-null  int8  \n",
      "dtypes: int16(3), int32(2), int8(3), object(1)\n",
      "memory usage: 34.1+ MB\n"
     ]
    }
   ],
   "source": [
    "trans1.info()"
   ]
  },
  {
   "cell_type": "code",
   "execution_count": 40,
   "id": "b4001f04-2de3-49f6-80df-11c18805a2b5",
   "metadata": {},
   "outputs": [
    {
     "data": {
      "text/html": [
       "<div>\n",
       "<style scoped>\n",
       "    .dataframe tbody tr th:only-of-type {\n",
       "        vertical-align: middle;\n",
       "    }\n",
       "\n",
       "    .dataframe tbody tr th {\n",
       "        vertical-align: top;\n",
       "    }\n",
       "\n",
       "    .dataframe thead th {\n",
       "        text-align: right;\n",
       "    }\n",
       "</style>\n",
       "<table border=\"1\" class=\"dataframe\">\n",
       "  <thead>\n",
       "    <tr style=\"text-align: right;\">\n",
       "      <th></th>\n",
       "      <th>msno</th>\n",
       "      <th>payment_method_id</th>\n",
       "      <th>payment_plan_days</th>\n",
       "      <th>plan_list_price</th>\n",
       "      <th>actual_amount_paid</th>\n",
       "      <th>is_auto_renew</th>\n",
       "      <th>transaction_date</th>\n",
       "      <th>membership_expire_date</th>\n",
       "      <th>is_cancel</th>\n",
       "    </tr>\n",
       "  </thead>\n",
       "  <tbody>\n",
       "    <tr>\n",
       "      <th>0</th>\n",
       "      <td>YyO+tlZtAXYXoZhNr3Vg3+dfVQvrBVGO8j1mfqe4ZHc=</td>\n",
       "      <td>41</td>\n",
       "      <td>30</td>\n",
       "      <td>129</td>\n",
       "      <td>129</td>\n",
       "      <td>1</td>\n",
       "      <td>20150930</td>\n",
       "      <td>20151101</td>\n",
       "      <td>0</td>\n",
       "    </tr>\n",
       "    <tr>\n",
       "      <th>1</th>\n",
       "      <td>AZtu6Wl0gPojrEQYB8Q3vBSmE2wnZ3hi1FbK1rQQ0A4=</td>\n",
       "      <td>41</td>\n",
       "      <td>30</td>\n",
       "      <td>149</td>\n",
       "      <td>149</td>\n",
       "      <td>1</td>\n",
       "      <td>20150930</td>\n",
       "      <td>20151031</td>\n",
       "      <td>0</td>\n",
       "    </tr>\n",
       "    <tr>\n",
       "      <th>2</th>\n",
       "      <td>UkDFI97Qb6+s2LWcijVVv4rMAsORbVDT2wNXF0aVbns=</td>\n",
       "      <td>41</td>\n",
       "      <td>30</td>\n",
       "      <td>129</td>\n",
       "      <td>129</td>\n",
       "      <td>1</td>\n",
       "      <td>20150930</td>\n",
       "      <td>20160427</td>\n",
       "      <td>0</td>\n",
       "    </tr>\n",
       "    <tr>\n",
       "      <th>3</th>\n",
       "      <td>M1C56ijxozNaGD0t2h68PnH2xtx5iO5iR2MVYQB6nBI=</td>\n",
       "      <td>39</td>\n",
       "      <td>30</td>\n",
       "      <td>149</td>\n",
       "      <td>149</td>\n",
       "      <td>1</td>\n",
       "      <td>20150930</td>\n",
       "      <td>20151128</td>\n",
       "      <td>0</td>\n",
       "    </tr>\n",
       "    <tr>\n",
       "      <th>4</th>\n",
       "      <td>yvj6zyBUaqdbUQSrKsrZ+xNDVM62knauSZJzakS9OW4=</td>\n",
       "      <td>39</td>\n",
       "      <td>30</td>\n",
       "      <td>149</td>\n",
       "      <td>149</td>\n",
       "      <td>1</td>\n",
       "      <td>20150930</td>\n",
       "      <td>20151121</td>\n",
       "      <td>0</td>\n",
       "    </tr>\n",
       "  </tbody>\n",
       "</table>\n",
       "</div>"
      ],
      "text/plain": [
       "                                           msno  payment_method_id  \\\n",
       "0  YyO+tlZtAXYXoZhNr3Vg3+dfVQvrBVGO8j1mfqe4ZHc=                 41   \n",
       "1  AZtu6Wl0gPojrEQYB8Q3vBSmE2wnZ3hi1FbK1rQQ0A4=                 41   \n",
       "2  UkDFI97Qb6+s2LWcijVVv4rMAsORbVDT2wNXF0aVbns=                 41   \n",
       "3  M1C56ijxozNaGD0t2h68PnH2xtx5iO5iR2MVYQB6nBI=                 39   \n",
       "4  yvj6zyBUaqdbUQSrKsrZ+xNDVM62knauSZJzakS9OW4=                 39   \n",
       "\n",
       "   payment_plan_days  plan_list_price  actual_amount_paid  is_auto_renew  \\\n",
       "0                 30              129                 129              1   \n",
       "1                 30              149                 149              1   \n",
       "2                 30              129                 129              1   \n",
       "3                 30              149                 149              1   \n",
       "4                 30              149                 149              1   \n",
       "\n",
       "   transaction_date  membership_expire_date  is_cancel  \n",
       "0          20150930                20151101          0  \n",
       "1          20150930                20151031          0  \n",
       "2          20150930                20160427          0  \n",
       "3          20150930                20151128          0  \n",
       "4          20150930                20151121          0  "
      ]
     },
     "execution_count": 40,
     "metadata": {},
     "output_type": "execute_result"
    }
   ],
   "source": [
    "trans.head()"
   ]
  },
  {
   "cell_type": "code",
   "execution_count": 41,
   "id": "a8f96d5d-fc75-4677-b505-cb7cac0835fb",
   "metadata": {},
   "outputs": [],
   "source": [
    "trans_merge = pd.concat([trans,trans1],ignore_index=True)"
   ]
  },
  {
   "cell_type": "code",
   "execution_count": 42,
   "id": "aebf03f0-000f-4929-a49e-4c8342fe5cef",
   "metadata": {},
   "outputs": [],
   "source": [
    "trans_merge.to_csv('../data/processed/transaction_merged.csv',index=False)"
   ]
  },
  {
   "cell_type": "code",
   "execution_count": 43,
   "id": "e81522bc-f9c4-4024-8a20-0844907254f4",
   "metadata": {},
   "outputs": [],
   "source": [
    "transaction=pd.read_csv('../data/processed/transaction_merged.csv',parse_dates=['transaction_date','membership_expire_date'])\n",
    "\n",
    "\n",
    "\n"
   ]
  },
  {
   "cell_type": "code",
   "execution_count": 44,
   "id": "a4969dc9-ca7a-413b-81e3-bad72db7a5cf",
   "metadata": {},
   "outputs": [],
   "source": [
    "transaction=transaction.drop_duplicates()\n"
   ]
  },
  {
   "cell_type": "code",
   "execution_count": 45,
   "id": "985d38ac-2cb4-4866-aa14-c4e8f7cddac9",
   "metadata": {},
   "outputs": [],
   "source": [
    "reducedatatype(transaction)\n"
   ]
  },
  {
   "cell_type": "code",
   "execution_count": 46,
   "id": "47f2c131-b5f0-4b0d-ab94-90a5588d83bd",
   "metadata": {},
   "outputs": [
    {
     "name": "stdout",
     "output_type": "stream",
     "text": [
      "<class 'pandas.core.frame.DataFrame'>\n",
      "Int64Index: 22975416 entries, 0 to 22978754\n",
      "Data columns (total 9 columns):\n",
      " #   Column                  Dtype         \n",
      "---  ------                  -----         \n",
      " 0   msno                    object        \n",
      " 1   payment_method_id       int8          \n",
      " 2   payment_plan_days       int16         \n",
      " 3   plan_list_price         int16         \n",
      " 4   actual_amount_paid      int16         \n",
      " 5   is_auto_renew           int8          \n",
      " 6   transaction_date        datetime64[ns]\n",
      " 7   membership_expire_date  datetime64[ns]\n",
      " 8   is_cancel               int8          \n",
      "dtypes: datetime64[ns](2), int16(3), int8(3), object(1)\n",
      "memory usage: 898.4+ MB\n"
     ]
    }
   ],
   "source": [
    "transaction.info()\n"
   ]
  },
  {
   "cell_type": "code",
   "execution_count": 47,
   "id": "3fae53f5-b75f-452e-979c-8849a315c7c1",
   "metadata": {},
   "outputs": [
    {
     "data": {
      "text/plain": [
       "msno                      0\n",
       "payment_method_id         0\n",
       "payment_plan_days         0\n",
       "plan_list_price           0\n",
       "actual_amount_paid        0\n",
       "is_auto_renew             0\n",
       "transaction_date          0\n",
       "membership_expire_date    0\n",
       "is_cancel                 0\n",
       "dtype: int64"
      ]
     },
     "execution_count": 47,
     "metadata": {},
     "output_type": "execute_result"
    }
   ],
   "source": [
    "transaction.isnull().sum()"
   ]
  },
  {
   "cell_type": "markdown",
   "id": "e5e6d3f2-2342-4906-b400-72e310a26cc1",
   "metadata": {},
   "source": [
    "0- null values"
   ]
  },
  {
   "cell_type": "code",
   "execution_count": 50,
   "id": "0d8c4d6e-266e-4fd7-9afb-fc66fd050b3d",
   "metadata": {},
   "outputs": [
    {
     "data": {
      "image/png": "[encoded data removed]",
      "text/plain": [
       "<Figure size 2000x800 with 1 Axes>"
      ]
     },
     "metadata": {},
     "output_type": "display_data"
    }
   ],
   "source": [
    "plt.figure(figsize=(20, 8))\n",
    "sns.countplot(x='payment_method_id',data=transaction)\n",
    "plt.show()"
   ]
  },
  {
   "cell_type": "markdown",
   "id": "6d077467-4906-4b39-906b-99c7832306c8",
   "metadata": {},
   "source": [
    "41 payment method is used offen"
   ]
  },
  {
   "cell_type": "code",
   "execution_count": 52,
   "id": "720d4010-018f-4aa9-8156-60a637f3b455",
   "metadata": {},
   "outputs": [
    {
     "data": {
      "image/png": "[encoded data removed]",
      "text/plain": [
       "<Figure size 2000x800 with 1 Axes>"
      ]
     },
     "metadata": {},
     "output_type": "display_data"
    }
   ],
   "source": [
    "plt.figure(figsize=(20, 8))\n",
    "sns.countplot(x='payment_plan_days',data=transaction)\n",
    "plt.show()"
   ]
  },
  {
   "cell_type": "markdown",
   "id": "908788d5-187d-4ad4-b777-17938c70466f",
   "metadata": {},
   "source": [
    "mostly 30 days"
   ]
  },
  {
   "cell_type": "code",
   "execution_count": 53,
   "id": "60068c55-03bd-44fa-a3cf-0aea66f5a552",
   "metadata": {},
   "outputs": [
    {
     "data": {
      "image/png": "[encoded data removed]",
      "text/plain": [
       "<Figure size 2000x800 with 1 Axes>"
      ]
     },
     "metadata": {},
     "output_type": "display_data"
    }
   ],
   "source": [
    "plt.figure(figsize=(20, 8))\n",
    "sns.countplot(x='plan_list_price',data=transaction)\n",
    "plt.show()"
   ]
  },
  {
   "cell_type": "markdown",
   "id": "7a019e2d-3a0f-4985-a484-48f7473db7d2",
   "metadata": {},
   "source": [
    "price plan is mostly - 99,129,149,180"
   ]
  },
  {
   "cell_type": "code",
   "execution_count": 54,
   "id": "2ee356b6-b140-48ba-a8ff-bd21c801b36d",
   "metadata": {},
   "outputs": [
    {
     "data": {
      "image/png": "[encoded data removed]",
      "text/plain": [
       "<Figure size 2000x800 with 1 Axes>"
      ]
     },
     "metadata": {},
     "output_type": "display_data"
    }
   ],
   "source": [
    "plt.figure(figsize=(20, 8))\n",
    "sns.countplot(x='actual_amount_paid',data=transaction)\n",
    "plt.show()"
   ]
  },
  {
   "cell_type": "markdown",
   "id": "67f5baf3-af09-4e76-b35a-6704c7ad5f05",
   "metadata": {},
   "source": [
    "price plan and actual amt seems same for most of the values except very few. 149 being the max."
   ]
  },
  {
   "cell_type": "code",
   "execution_count": 55,
   "id": "63bbb89b-3308-41ad-8963-d7a3f71eb369",
   "metadata": {},
   "outputs": [
    {
     "data": {
      "image/png": "[encoded data removed]",
      "text/plain": [
       "<Figure size 2000x800 with 1 Axes>"
      ]
     },
     "metadata": {},
     "output_type": "display_data"
    }
   ],
   "source": [
    "plt.figure(figsize=(20, 8))\n",
    "sns.countplot(x='is_auto_renew',data=transaction)\n",
    "plt.show()"
   ]
  },
  {
   "cell_type": "markdown",
   "id": "eb573adf-ef08-4d62-817d-59759fc51016",
   "metadata": {},
   "source": [
    "many are auto renew users"
   ]
  },
  {
   "cell_type": "code",
   "execution_count": 56,
   "id": "9f9c8269-b7ae-4991-bf7b-4cee20261581",
   "metadata": {},
   "outputs": [
    {
     "data": {
      "image/png": "[encoded data removed]",
      "text/plain": [
       "<Figure size 2000x800 with 1 Axes>"
      ]
     },
     "metadata": {},
     "output_type": "display_data"
    }
   ],
   "source": [
    "plt.figure(figsize=(20, 8))\n",
    "sns.countplot(x='is_cancel',data=transaction)\n",
    "plt.show()"
   ]
  },
  {
   "cell_type": "markdown",
   "id": "18fb412e-7342-4d2d-a7ad-eed2cf8d0ea1",
   "metadata": {},
   "source": [
    "is_cancel is low"
   ]
  },
  {
   "cell_type": "code",
   "execution_count": 58,
   "id": "f6083ec0-04a1-473e-bcec-b258a4dd8e78",
   "metadata": {},
   "outputs": [
    {
     "data": {
      "text/plain": [
       "Timestamp('2017-03-31 00:00:00')"
      ]
     },
     "execution_count": 58,
     "metadata": {},
     "output_type": "execute_result"
    }
   ],
   "source": [
    "transaction['transaction_date'].max() "
   ]
  },
  {
   "cell_type": "code",
   "execution_count": 59,
   "id": "a17dc1a0-6a46-45b4-a78b-c87b876dc8cc",
   "metadata": {},
   "outputs": [
    {
     "data": {
      "text/plain": [
       "Timestamp('2015-01-01 00:00:00')"
      ]
     },
     "execution_count": 59,
     "metadata": {},
     "output_type": "execute_result"
    }
   ],
   "source": [
    "transaction['transaction_date'].min() "
   ]
  }
 ],
 "metadata": {
  "kernelspec": {
   "display_name": "Python 3 (ipykernel)",
   "language": "python",
   "name": "python3"
  },
  "language_info": {
   "codemirror_mode": {
    "name": "ipython",
    "version": 3
   },
   "file_extension": ".py",
   "mimetype": "text/x-python",
   "name": "python",
   "nbconvert_exporter": "python",
   "pygments_lexer": "ipython3",
   "version": "3.11.4"
  }
 },
 "nbformat": 4,
 "nbformat_minor": 5
}
