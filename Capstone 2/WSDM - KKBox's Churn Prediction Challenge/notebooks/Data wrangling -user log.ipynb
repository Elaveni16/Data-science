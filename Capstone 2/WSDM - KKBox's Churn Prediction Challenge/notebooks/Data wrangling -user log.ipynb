{
 "cells": [
  {
   "cell_type": "code",
   "execution_count": 1,
   "id": "80439f01-de36-48ce-ae09-4a5b25d04e28",
   "metadata": {},
   "outputs": [],
   "source": [
    "import numpy as np # linear algebra\n",
    "import pandas as pd # data processing, CSV file I/O (e.g. pd.read_csv)\n",
    "import matplotlib.pyplot as plt\n",
    "import seaborn as sns"
   ]
  },
  {
   "cell_type": "code",
   "execution_count": 2,
   "id": "7751635e-cee3-4f28-8b9c-0eda71b99753",
   "metadata": {},
   "outputs": [],
   "source": [
    "import collections"
   ]
  },
  {
   "cell_type": "code",
   "execution_count": 3,
   "id": "6bdf2efc-7355-4d6f-bdae-71e84bd970e5",
   "metadata": {},
   "outputs": [
    {
     "name": "stdout",
     "output_type": "stream",
     "text": [
      "['.gitkeep', 'members_v3.csv', 'sample_submission_v2.csv', 'sample_submission_zero.csv', 'train.csv', 'train_v2.csv', 'transactions.csv', 'transactions_v2.csv', 'user_label_201703.csv', 'user_logs.csv', 'user_logs_v2.csv']\n"
     ]
    }
   ],
   "source": [
    "import os\n",
    "print(os.listdir(\"../data/raw\"))"
   ]
  },
  {
   "cell_type": "code",
   "execution_count": 4,
   "id": "4a8d3c36-47ee-4c06-8f01-4167b7845597",
   "metadata": {},
   "outputs": [],
   "source": [
    "def reducedatatype(df):\n",
    "    int_col = list(df.select_dtypes(include=[int]).columns)\n",
    "    for col in int_col:\n",
    "        if((np.min(df[col]) >= -127) and (np.max(df[col]) <= 127)):\n",
    "            df[col] = df[col].astype(np.int8)\n",
    "        elif((np.min(df[col]) >= -32768) and (np.max(df[col]) <= 32768)):\n",
    "            df[col] = df[col].astype(np.int16)\n",
    "        elif((np.min(df[col]) >= -2147483647) and (np.max(df[col]) <= 2147483647)):\n",
    "            df[col] = df[col].astype(np.int32)\n",
    "        else:\n",
    "            df[col] = df[col].astype(np.int64)\n",
    "    int_float = list(df.select_dtypes(include=[float]).columns)\n",
    "    for col in int_float:\n",
    "        df[col] = df[col].astype(np.float32)"
   ]
  },
  {
   "cell_type": "code",
   "execution_count": 5,
   "id": "69e1a6de-3d00-473f-8323-7d75e66258b1",
   "metadata": {},
   "outputs": [],
   "source": [
    "user_log_mar = pd.read_csv('../data/raw/user_logs_v2.csv',parse_dates=['date'])"
   ]
  },
  {
   "cell_type": "code",
   "execution_count": null,
   "id": "e37ef1ca-ef21-4218-b6d8-d8c2dbd4dbd4",
   "metadata": {},
   "outputs": [],
   "source": [
    "chunksize = 10**6\n",
    "first_chunk = True\n",
    "for chunk in pd.read_csv('../data/raw/user_logs.csv',chunksize=chunksize,parse_dates=['date']):\n",
    "    chunk_feb = chunk[(chunk['date']>='2017-02-01') & (chunk['date']<='2017-02-28')]\n",
    "    chunk_jan = chunk[(chunk['date']>='2017-01-01') & (chunk['date']<='2017-01-31')]\n",
    "    if(first_chunk == True):\n",
    "        chunk_feb.to_csv('../data/processed/feb_log.csv', mode='a',index=False)\n",
    "        chunk_jan.to_csv('../data/processed/jan_log.csv', mode='a',index=False)\n",
    "        first_chunk = False\n",
    "    else:\n",
    "        chunk_feb.to_csv('../data/processed/feb_log.csv', mode='a', header=False,index=False)\n",
    "        chunk_jan.to_csv('../data/processed/jan_log.csv', mode='a', header=False,index=False)"
   ]
  },
  {
   "cell_type": "code",
   "execution_count": 6,
   "id": "1bbf01ec-cfe1-4fd3-8db1-f7299dc594c2",
   "metadata": {},
   "outputs": [],
   "source": [
    "user_log_jan = pd.read_csv('../data/processed/jan_log.csv',parse_dates=['date'])"
   ]
  },
  {
   "cell_type": "code",
   "execution_count": 7,
   "id": "7fe974f1-12ff-4ce2-935a-5448f974c96c",
   "metadata": {},
   "outputs": [],
   "source": [
    "user_log_feb = pd.read_csv('../data/processed/feb_log.csv',parse_dates=['date'])"
   ]
  },
  {
   "cell_type": "code",
   "execution_count": 8,
   "id": "df3d4323-50d2-4126-933f-21fa2acf3299",
   "metadata": {},
   "outputs": [],
   "source": [
    "user_log_merge = pd.concat([user_log_jan,user_log_feb,user_log_mar],ignore_index=True)"
   ]
  },
  {
   "cell_type": "code",
   "execution_count": 10,
   "id": "5d6e5aee-a51a-4cd4-85e5-94b253b5de2b",
   "metadata": {},
   "outputs": [
    {
     "data": {
      "text/html": [
       "<div>\n",
       "<style scoped>\n",
       "    .dataframe tbody tr th:only-of-type {\n",
       "        vertical-align: middle;\n",
       "    }\n",
       "\n",
       "    .dataframe tbody tr th {\n",
       "        vertical-align: top;\n",
       "    }\n",
       "\n",
       "    .dataframe thead th {\n",
       "        text-align: right;\n",
       "    }\n",
       "</style>\n",
       "<table border=\"1\" class=\"dataframe\">\n",
       "  <thead>\n",
       "    <tr style=\"text-align: right;\">\n",
       "      <th></th>\n",
       "      <th>num_25</th>\n",
       "      <th>num_50</th>\n",
       "      <th>num_75</th>\n",
       "      <th>num_985</th>\n",
       "      <th>num_100</th>\n",
       "      <th>num_unq</th>\n",
       "      <th>total_secs</th>\n",
       "    </tr>\n",
       "  </thead>\n",
       "  <tbody>\n",
       "    <tr>\n",
       "      <th>count</th>\n",
       "      <td>1.790809e+07</td>\n",
       "      <td>1.790809e+07</td>\n",
       "      <td>1.790809e+07</td>\n",
       "      <td>1.790809e+07</td>\n",
       "      <td>1.790809e+07</td>\n",
       "      <td>1.790809e+07</td>\n",
       "      <td>1.790809e+07</td>\n",
       "    </tr>\n",
       "    <tr>\n",
       "      <th>mean</th>\n",
       "      <td>6.512863e+00</td>\n",
       "      <td>1.581655e+00</td>\n",
       "      <td>1.008753e+00</td>\n",
       "      <td>1.143718e+00</td>\n",
       "      <td>3.067074e+01</td>\n",
       "      <td>2.975982e+01</td>\n",
       "      <td>8.035903e+03</td>\n",
       "    </tr>\n",
       "    <tr>\n",
       "      <th>std</th>\n",
       "      <td>1.343888e+01</td>\n",
       "      <td>3.804299e+00</td>\n",
       "      <td>1.942348e+00</td>\n",
       "      <td>2.907919e+00</td>\n",
       "      <td>4.207879e+01</td>\n",
       "      <td>3.251800e+01</td>\n",
       "      <td>1.014903e+04</td>\n",
       "    </tr>\n",
       "    <tr>\n",
       "      <th>min</th>\n",
       "      <td>0.000000e+00</td>\n",
       "      <td>0.000000e+00</td>\n",
       "      <td>0.000000e+00</td>\n",
       "      <td>0.000000e+00</td>\n",
       "      <td>0.000000e+00</td>\n",
       "      <td>1.000000e+00</td>\n",
       "      <td>1.000000e-03</td>\n",
       "    </tr>\n",
       "    <tr>\n",
       "      <th>25%</th>\n",
       "      <td>0.000000e+00</td>\n",
       "      <td>0.000000e+00</td>\n",
       "      <td>0.000000e+00</td>\n",
       "      <td>0.000000e+00</td>\n",
       "      <td>7.000000e+00</td>\n",
       "      <td>8.000000e+00</td>\n",
       "      <td>1.963600e+03</td>\n",
       "    </tr>\n",
       "    <tr>\n",
       "      <th>50%</th>\n",
       "      <td>2.000000e+00</td>\n",
       "      <td>1.000000e+00</td>\n",
       "      <td>0.000000e+00</td>\n",
       "      <td>0.000000e+00</td>\n",
       "      <td>1.700000e+01</td>\n",
       "      <td>1.900000e+01</td>\n",
       "      <td>4.698940e+03</td>\n",
       "    </tr>\n",
       "    <tr>\n",
       "      <th>75%</th>\n",
       "      <td>7.000000e+00</td>\n",
       "      <td>2.000000e+00</td>\n",
       "      <td>1.000000e+00</td>\n",
       "      <td>1.000000e+00</td>\n",
       "      <td>3.800000e+01</td>\n",
       "      <td>3.900000e+01</td>\n",
       "      <td>1.018407e+04</td>\n",
       "    </tr>\n",
       "    <tr>\n",
       "      <th>max</th>\n",
       "      <td>6.437000e+03</td>\n",
       "      <td>1.077000e+03</td>\n",
       "      <td>7.470000e+02</td>\n",
       "      <td>1.125000e+03</td>\n",
       "      <td>1.524800e+04</td>\n",
       "      <td>1.887000e+03</td>\n",
       "      <td>3.743671e+06</td>\n",
       "    </tr>\n",
       "  </tbody>\n",
       "</table>\n",
       "</div>"
      ],
      "text/plain": [
       "             num_25        num_50        num_75       num_985       num_100  \\\n",
       "count  1.790809e+07  1.790809e+07  1.790809e+07  1.790809e+07  1.790809e+07   \n",
       "mean   6.512863e+00  1.581655e+00  1.008753e+00  1.143718e+00  3.067074e+01   \n",
       "std    1.343888e+01  3.804299e+00  1.942348e+00  2.907919e+00  4.207879e+01   \n",
       "min    0.000000e+00  0.000000e+00  0.000000e+00  0.000000e+00  0.000000e+00   \n",
       "25%    0.000000e+00  0.000000e+00  0.000000e+00  0.000000e+00  7.000000e+00   \n",
       "50%    2.000000e+00  1.000000e+00  0.000000e+00  0.000000e+00  1.700000e+01   \n",
       "75%    7.000000e+00  2.000000e+00  1.000000e+00  1.000000e+00  3.800000e+01   \n",
       "max    6.437000e+03  1.077000e+03  7.470000e+02  1.125000e+03  1.524800e+04   \n",
       "\n",
       "            num_unq    total_secs  \n",
       "count  1.790809e+07  1.790809e+07  \n",
       "mean   2.975982e+01  8.035903e+03  \n",
       "std    3.251800e+01  1.014903e+04  \n",
       "min    1.000000e+00  1.000000e-03  \n",
       "25%    8.000000e+00  1.963600e+03  \n",
       "50%    1.900000e+01  4.698940e+03  \n",
       "75%    3.900000e+01  1.018407e+04  \n",
       "max    1.887000e+03  3.743671e+06  "
      ]
     },
     "execution_count": 10,
     "metadata": {},
     "output_type": "execute_result"
    }
   ],
   "source": [
    "user_log_jan.describe()"
   ]
  },
  {
   "cell_type": "code",
   "execution_count": null,
   "id": "860ad464-bddc-44de-8cda-bd4a1f2f6cc5",
   "metadata": {},
   "outputs": [],
   "source": []
  }
 ],
 "metadata": {
  "kernelspec": {
   "display_name": "Python 3 (ipykernel)",
   "language": "python",
   "name": "python3"
  },
  "language_info": {
   "codemirror_mode": {
    "name": "ipython",
    "version": 3
   },
   "file_extension": ".py",
   "mimetype": "text/x-python",
   "name": "python",
   "nbconvert_exporter": "python",
   "pygments_lexer": "ipython3",
   "version": "3.11.4"
  }
 },
 "nbformat": 4,
 "nbformat_minor": 5
}
