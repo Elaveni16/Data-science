{
 "cells": [
  {
   "cell_type": "code",
   "execution_count": 2,
   "id": "9ee6ec67-ebf9-400c-a5b8-e08ed4fa5a4b",
   "metadata": {},
   "outputs": [],
   "source": [
    "import numpy as np \n",
    "import pandas as pd \n",
    "import matplotlib.pyplot as plt\n",
    "import seaborn as sns\n",
    "import collections\n",
    "from functools import reduce"
   ]
  },
  {
   "cell_type": "markdown",
   "id": "746222cc-6521-4df5-bfff-349440186c12",
   "metadata": {},
   "source": [
    "# Read march log files"
   ]
  },
  {
   "cell_type": "code",
   "execution_count": 4,
   "id": "4164e4a5-3f86-454e-a556-c498f9fed5e9",
   "metadata": {},
   "outputs": [],
   "source": [
    "log_mar=pd.read_csv('../data/raw/user_logs_v2.csv',parse_dates=['date'])\n"
   ]
  },
  {
   "cell_type": "code",
   "execution_count": 5,
   "id": "db91e201-4f2a-4bcb-9b8b-9d22a381363e",
   "metadata": {},
   "outputs": [],
   "source": [
    "def reducedatatype(df):\n",
    "    int_col = list(df.select_dtypes(include=[int]).columns)\n",
    "    for col in int_col:\n",
    "        if((np.min(df[col]) >= -127) and (np.max(df[col]) <= 127)):\n",
    "            df[col] = df[col].astype(np.int8)\n",
    "        elif((np.min(df[col]) >= -32768) and (np.max(df[col]) <= 32768)):\n",
    "            df[col] = df[col].astype(np.int16)\n",
    "        elif((np.min(df[col]) >= -2147483647) and (np.max(df[col]) <= 2147483647)):\n",
    "            df[col] = df[col].astype(np.int32)\n",
    "        else:\n",
    "            df[col] = df[col].astype(np.int64)\n",
    "    int_float = list(df.select_dtypes(include=[float]).columns)\n",
    "    for col in int_float:\n",
    "        df[col] = df[col].astype(np.float32)\n"
   ]
  },
  {
   "cell_type": "code",
   "execution_count": 7,
   "id": "72cfc255-961c-4c14-bbf9-ff8c1b112bbd",
   "metadata": {},
   "outputs": [],
   "source": [
    "reducedatatype(log_mar)\n"
   ]
  },
  {
   "cell_type": "code",
   "execution_count": 10,
   "id": "702f131a-c20a-46d9-ab4e-dac3d02f6a13",
   "metadata": {},
   "outputs": [
    {
     "data": {
      "text/html": [
       "<div>\n",
       "<style scoped>\n",
       "    .dataframe tbody tr th:only-of-type {\n",
       "        vertical-align: middle;\n",
       "    }\n",
       "\n",
       "    .dataframe tbody tr th {\n",
       "        vertical-align: top;\n",
       "    }\n",
       "\n",
       "    .dataframe thead th {\n",
       "        text-align: right;\n",
       "    }\n",
       "</style>\n",
       "<table border=\"1\" class=\"dataframe\">\n",
       "  <thead>\n",
       "    <tr style=\"text-align: right;\">\n",
       "      <th></th>\n",
       "      <th>msno</th>\n",
       "      <th>date</th>\n",
       "      <th>num_25</th>\n",
       "      <th>num_50</th>\n",
       "      <th>num_75</th>\n",
       "      <th>num_985</th>\n",
       "      <th>num_100</th>\n",
       "      <th>num_unq</th>\n",
       "      <th>total_secs</th>\n",
       "    </tr>\n",
       "  </thead>\n",
       "  <tbody>\n",
       "    <tr>\n",
       "      <th>0</th>\n",
       "      <td>u9E91QDTvHLq6NXjEaWv8u4QIqhrHk72kE+w31Gnhdg=</td>\n",
       "      <td>2017-03-31</td>\n",
       "      <td>8</td>\n",
       "      <td>4</td>\n",
       "      <td>0</td>\n",
       "      <td>1</td>\n",
       "      <td>21</td>\n",
       "      <td>18</td>\n",
       "      <td>6309.272949</td>\n",
       "    </tr>\n",
       "    <tr>\n",
       "      <th>1</th>\n",
       "      <td>nTeWW/eOZA/UHKdD5L7DEqKKFTjaAj3ALLPoAWsU8n0=</td>\n",
       "      <td>2017-03-30</td>\n",
       "      <td>2</td>\n",
       "      <td>2</td>\n",
       "      <td>1</td>\n",
       "      <td>0</td>\n",
       "      <td>9</td>\n",
       "      <td>11</td>\n",
       "      <td>2390.698975</td>\n",
       "    </tr>\n",
       "  </tbody>\n",
       "</table>\n",
       "</div>"
      ],
      "text/plain": [
       "                                           msno       date  num_25  num_50  \\\n",
       "0  u9E91QDTvHLq6NXjEaWv8u4QIqhrHk72kE+w31Gnhdg= 2017-03-31       8       4   \n",
       "1  nTeWW/eOZA/UHKdD5L7DEqKKFTjaAj3ALLPoAWsU8n0= 2017-03-30       2       2   \n",
       "\n",
       "   num_75  num_985  num_100  num_unq   total_secs  \n",
       "0       0        1       21       18  6309.272949  \n",
       "1       1        0        9       11  2390.698975  "
      ]
     },
     "execution_count": 10,
     "metadata": {},
     "output_type": "execute_result"
    }
   ],
   "source": [
    "log_mar.head(2)"
   ]
  },
  {
   "cell_type": "code",
   "execution_count": 12,
   "id": "d0ae80f5-8f32-416f-909e-87eb62751a8e",
   "metadata": {},
   "outputs": [],
   "source": [
    "# feature number of log in march\n",
    "mar_login_count = log_mar.groupby('msno')['date'].count()"
   ]
  },
  {
   "cell_type": "code",
   "execution_count": 13,
   "id": "559ef941-317a-48ba-ac0d-44102a39fd77",
   "metadata": {},
   "outputs": [],
   "source": [
    "# feature last login in date\n",
    "mar_last_login = log_mar.groupby('msno')['date'].max()"
   ]
  },
  {
   "cell_type": "code",
   "execution_count": 14,
   "id": "3d2a4ec9-c4c6-413c-b0cd-cf2d42bbb9ba",
   "metadata": {},
   "outputs": [],
   "source": [
    "# feature active days in march\n",
    "mar_active_days = log_mar.groupby('msno')['date'].nunique()"
   ]
  },
  {
   "cell_type": "code",
   "execution_count": 53,
   "id": "ca53c4c0-296a-40f9-b1de-e9befee9e599",
   "metadata": {},
   "outputs": [
    {
     "data": {
      "text/plain": [
       "msno\n",
       "+++IZseRRiQS9aaSkH6cMYU6bGDcxUieAi/tH67sC5s=     5\n",
       "+++hVY1rZox/33YtvDgmKA2Frg/2qhkz12B9ylCvh8o=     0\n",
       "+++l/EXNMLTijfLBa8p2TUVVVp2aFGSuUI/h7mLmthw=     3\n",
       "+++snpr7pmobhLKUgSHTv/mpkqgBT0tQJ0zQj6qKrqc=    10\n",
       "++/9R3sX37CjxbY/AaGvbwr3QkwElKBCtSvVzhCBDOk=     2\n",
       "                                                ..\n",
       "zzy7iqSpfcRq7R4hmKKuhI+CJRs79a6pteqEggpiNO0=     0\n",
       "zzyHq6TK2+cBkeGFUHvh12Z7UxFZiSM7dOOSllSBPDw=    15\n",
       "zzz1Dc3P9s53HAowRTrm3fNsWju5yeN4YBfNDq7Z99Q=    11\n",
       "zzzF1KsGfHH3qI6qiSNSXC35UXmVKMVFdxkp7xmDMc0=    20\n",
       "zzzueVTwIa5TjXnG2c77bohCVkuksqLkd5mQTP0wTwQ=    30\n",
       "Name: mar_inactive_days, Length: 1103894, dtype: int64"
      ]
     },
     "execution_count": 53,
     "metadata": {},
     "output_type": "execute_result"
    }
   ],
   "source": [
    "# feature inactive days in march (total 31 days in march 2017)\n",
    "mar_inactive_days = 31 - mar_active_days\n",
    "mar_inactive_days.rename('mar_inactive_days',inplace=True)"
   ]
  },
  {
   "cell_type": "code",
   "execution_count": 16,
   "id": "2ea7fc60-4eb6-4f65-a6d9-039ab6a83a1e",
   "metadata": {},
   "outputs": [],
   "source": [
    "# feature sum of num_25\n",
    "mar_sum_num25 = log_mar.groupby('msno')['num_25'].sum()"
   ]
  },
  {
   "cell_type": "code",
   "execution_count": 17,
   "id": "77131afc-cba8-491d-abb6-dd88a82f12db",
   "metadata": {},
   "outputs": [],
   "source": [
    "# feature mean of num_25\n",
    "mar_mean_num25 = log_mar.groupby('msno')['num_25'].mean()"
   ]
  },
  {
   "cell_type": "code",
   "execution_count": 18,
   "id": "513086e9-874d-4344-af16-09e5cda0b5d6",
   "metadata": {},
   "outputs": [],
   "source": [
    "# feature sum of num_50\n",
    "mar_sum_num50 = log_mar.groupby('msno')['num_50'].sum()"
   ]
  },
  {
   "cell_type": "code",
   "execution_count": 19,
   "id": "dd6c448b-2251-47a7-888a-0a7cc3985ef2",
   "metadata": {},
   "outputs": [],
   "source": [
    "# feature mean of num_50\n",
    "mar_mean_num50 = log_mar.groupby('msno')['num_50'].mean()"
   ]
  },
  {
   "cell_type": "code",
   "execution_count": 20,
   "id": "3bfb5cdd-b97a-450b-a200-225a88cbb097",
   "metadata": {},
   "outputs": [],
   "source": [
    "# feature sum of num_75\n",
    "mar_sum_num75 = log_mar.groupby('msno')['num_75'].sum()"
   ]
  },
  {
   "cell_type": "code",
   "execution_count": 21,
   "id": "3c44e5e2-abbb-43aa-8804-a308bf80d5fd",
   "metadata": {},
   "outputs": [],
   "source": [
    "# feature mean of num_75\n",
    "mar_mean_num75 = log_mar.groupby('msno')['num_75'].mean()"
   ]
  },
  {
   "cell_type": "code",
   "execution_count": 22,
   "id": "a5e8a168-59cc-43b6-a503-6a060286a3d0",
   "metadata": {},
   "outputs": [],
   "source": [
    "# feature sum of num_985\n",
    "mar_sum_num985 = log_mar.groupby('msno')['num_985'].sum()"
   ]
  },
  {
   "cell_type": "code",
   "execution_count": 23,
   "id": "dbd99522-188b-431d-874d-797059a2026c",
   "metadata": {},
   "outputs": [],
   "source": [
    "# feature mean of num_985\n",
    "mar_mean_num985 = log_mar.groupby('msno')['num_985'].mean()"
   ]
  },
  {
   "cell_type": "code",
   "execution_count": 24,
   "id": "7936743d-5541-486f-82e6-d93ee7db1a7f",
   "metadata": {},
   "outputs": [],
   "source": [
    "# feature sum of num_100\n",
    "mar_sum_num_100 = log_mar.groupby('msno')['num_100'].sum()"
   ]
  },
  {
   "cell_type": "code",
   "execution_count": 25,
   "id": "fb8bf251-8e80-4206-9d80-bc3565e776e2",
   "metadata": {},
   "outputs": [],
   "source": [
    "# feature mean of num_100\n",
    "mar_mean_num100 = log_mar.groupby('msno')['num_100'].mean()"
   ]
  },
  {
   "cell_type": "code",
   "execution_count": 26,
   "id": "2bea35c8-95ff-4187-8088-27115c3aeff8",
   "metadata": {},
   "outputs": [],
   "source": [
    "# feature sum of num_unq\n",
    "mar_sum_num_unq = log_mar.groupby('msno')['num_unq'].sum()"
   ]
  },
  {
   "cell_type": "code",
   "execution_count": 27,
   "id": "09b5429a-872e-4c1d-b199-86a3ffc57c08",
   "metadata": {},
   "outputs": [],
   "source": [
    "# feature mean of num_unq\n",
    "mar_mean_num_unq = log_mar.groupby('msno')['num_unq'].mean()"
   ]
  },
  {
   "cell_type": "code",
   "execution_count": 72,
   "id": "3bd10be0-1b5c-4051-afe5-6bb1101920ad",
   "metadata": {},
   "outputs": [],
   "source": [
    "mar_feature = [mar_login_count,mar_last_login,mar_active_days,mar_inactive_days,mar_sum_num25,mar_mean_num25,mar_sum_num50,\n",
    "              mar_mean_num50,mar_sum_num75,mar_mean_num75,mar_sum_num985,mar_mean_num985,mar_sum_num_100,mar_mean_num100,mar_sum_num_unq,\n",
    "                mar_mean_num_unq]"
   ]
  },
  {
   "cell_type": "code",
   "execution_count": 73,
   "id": "560cdc45-806f-4499-b021-b4095d6b95de",
   "metadata": {},
   "outputs": [],
   "source": [
    "user_mar_feature = reduce(lambda left,right: pd.merge(left,right,on='msno'),mar_feature)"
   ]
  },
  {
   "cell_type": "code",
   "execution_count": 74,
   "id": "b4eabdb5-6c09-4886-bd33-b707e1112468",
   "metadata": {},
   "outputs": [],
   "source": [
    "user_mar_feature.columns = ['mar_login_count','mar_last_login','mar_active_days','mar_inactive_days','mar_sum_num25','mar_mean_num25','mar_sum_num50',\n",
    "              'mar_mean_num50','mar_sum_num75','mar_mean_num75','mar_sum_num985','mar_mean_num985','mar_sum_num_100','mar_mean_num100','mar_sum_num_unq',\n",
    "                'mar_mean_num_unq']"
   ]
  },
  {
   "cell_type": "code",
   "execution_count": 82,
   "id": "dfce4248-acb1-42b3-acd9-235945bcc74b",
   "metadata": {},
   "outputs": [],
   "source": [
    "user_mar_feature.to_csv('../data/processed/user_features_mar.csv')"
   ]
  },
  {
   "cell_type": "code",
   "execution_count": 116,
   "id": "c379728f-6bad-4c51-8e4f-566e0ed9fee4",
   "metadata": {},
   "outputs": [
    {
     "data": {
      "text/html": [
       "<div>\n",
       "<style scoped>\n",
       "    .dataframe tbody tr th:only-of-type {\n",
       "        vertical-align: middle;\n",
       "    }\n",
       "\n",
       "    .dataframe tbody tr th {\n",
       "        vertical-align: top;\n",
       "    }\n",
       "\n",
       "    .dataframe thead th {\n",
       "        text-align: right;\n",
       "    }\n",
       "</style>\n",
       "<table border=\"1\" class=\"dataframe\">\n",
       "  <thead>\n",
       "    <tr style=\"text-align: right;\">\n",
       "      <th></th>\n",
       "      <th>mar_login_count</th>\n",
       "      <th>mar_last_login</th>\n",
       "      <th>mar_active_days</th>\n",
       "      <th>mar_inactive_days</th>\n",
       "      <th>mar_sum_num25</th>\n",
       "      <th>mar_mean_num25</th>\n",
       "      <th>mar_sum_num50</th>\n",
       "      <th>mar_mean_num50</th>\n",
       "      <th>mar_sum_num75</th>\n",
       "      <th>mar_mean_num75</th>\n",
       "      <th>mar_sum_num985</th>\n",
       "      <th>mar_mean_num985</th>\n",
       "      <th>mar_sum_num_100</th>\n",
       "      <th>mar_mean_num100</th>\n",
       "      <th>mar_sum_num_unq</th>\n",
       "      <th>mar_mean_num_unq</th>\n",
       "    </tr>\n",
       "    <tr>\n",
       "      <th>msno</th>\n",
       "      <th></th>\n",
       "      <th></th>\n",
       "      <th></th>\n",
       "      <th></th>\n",
       "      <th></th>\n",
       "      <th></th>\n",
       "      <th></th>\n",
       "      <th></th>\n",
       "      <th></th>\n",
       "      <th></th>\n",
       "      <th></th>\n",
       "      <th></th>\n",
       "      <th></th>\n",
       "      <th></th>\n",
       "      <th></th>\n",
       "      <th></th>\n",
       "    </tr>\n",
       "  </thead>\n",
       "  <tbody>\n",
       "    <tr>\n",
       "      <th>+++IZseRRiQS9aaSkH6cMYU6bGDcxUieAi/tH67sC5s=</th>\n",
       "      <td>26</td>\n",
       "      <td>2017-03-31</td>\n",
       "      <td>26</td>\n",
       "      <td>5</td>\n",
       "      <td>86</td>\n",
       "      <td>3.307692</td>\n",
       "      <td>11</td>\n",
       "      <td>0.423077</td>\n",
       "      <td>10</td>\n",
       "      <td>0.384615</td>\n",
       "      <td>5</td>\n",
       "      <td>0.192308</td>\n",
       "      <td>472</td>\n",
       "      <td>18.153846</td>\n",
       "      <td>530</td>\n",
       "      <td>20.384615</td>\n",
       "    </tr>\n",
       "    <tr>\n",
       "      <th>+++hVY1rZox/33YtvDgmKA2Frg/2qhkz12B9ylCvh8o=</th>\n",
       "      <td>31</td>\n",
       "      <td>2017-03-31</td>\n",
       "      <td>31</td>\n",
       "      <td>0</td>\n",
       "      <td>191</td>\n",
       "      <td>6.161290</td>\n",
       "      <td>90</td>\n",
       "      <td>2.903226</td>\n",
       "      <td>75</td>\n",
       "      <td>2.419355</td>\n",
       "      <td>144</td>\n",
       "      <td>4.645161</td>\n",
       "      <td>589</td>\n",
       "      <td>19.000000</td>\n",
       "      <td>885</td>\n",
       "      <td>28.548387</td>\n",
       "    </tr>\n",
       "    <tr>\n",
       "      <th>+++l/EXNMLTijfLBa8p2TUVVVp2aFGSuUI/h7mLmthw=</th>\n",
       "      <td>28</td>\n",
       "      <td>2017-03-31</td>\n",
       "      <td>28</td>\n",
       "      <td>3</td>\n",
       "      <td>43</td>\n",
       "      <td>1.535714</td>\n",
       "      <td>12</td>\n",
       "      <td>0.428571</td>\n",
       "      <td>15</td>\n",
       "      <td>0.535714</td>\n",
       "      <td>12</td>\n",
       "      <td>0.428571</td>\n",
       "      <td>485</td>\n",
       "      <td>17.321429</td>\n",
       "      <td>468</td>\n",
       "      <td>16.714286</td>\n",
       "    </tr>\n",
       "    <tr>\n",
       "      <th>+++snpr7pmobhLKUgSHTv/mpkqgBT0tQJ0zQj6qKrqc=</th>\n",
       "      <td>21</td>\n",
       "      <td>2017-03-30</td>\n",
       "      <td>21</td>\n",
       "      <td>10</td>\n",
       "      <td>207</td>\n",
       "      <td>9.857143</td>\n",
       "      <td>163</td>\n",
       "      <td>7.761905</td>\n",
       "      <td>100</td>\n",
       "      <td>4.761905</td>\n",
       "      <td>64</td>\n",
       "      <td>3.047619</td>\n",
       "      <td>436</td>\n",
       "      <td>20.761905</td>\n",
       "      <td>828</td>\n",
       "      <td>39.428571</td>\n",
       "    </tr>\n",
       "    <tr>\n",
       "      <th>++/9R3sX37CjxbY/AaGvbwr3QkwElKBCtSvVzhCBDOk=</th>\n",
       "      <td>29</td>\n",
       "      <td>2017-03-31</td>\n",
       "      <td>29</td>\n",
       "      <td>2</td>\n",
       "      <td>105</td>\n",
       "      <td>3.620690</td>\n",
       "      <td>24</td>\n",
       "      <td>0.827586</td>\n",
       "      <td>39</td>\n",
       "      <td>1.344828</td>\n",
       "      <td>35</td>\n",
       "      <td>1.206897</td>\n",
       "      <td>479</td>\n",
       "      <td>16.517241</td>\n",
       "      <td>230</td>\n",
       "      <td>7.931034</td>\n",
       "    </tr>\n",
       "  </tbody>\n",
       "</table>\n",
       "</div>"
      ],
      "text/plain": [
       "                                              mar_login_count mar_last_login  \\\n",
       "msno                                                                           \n",
       "+++IZseRRiQS9aaSkH6cMYU6bGDcxUieAi/tH67sC5s=               26     2017-03-31   \n",
       "+++hVY1rZox/33YtvDgmKA2Frg/2qhkz12B9ylCvh8o=               31     2017-03-31   \n",
       "+++l/EXNMLTijfLBa8p2TUVVVp2aFGSuUI/h7mLmthw=               28     2017-03-31   \n",
       "+++snpr7pmobhLKUgSHTv/mpkqgBT0tQJ0zQj6qKrqc=               21     2017-03-30   \n",
       "++/9R3sX37CjxbY/AaGvbwr3QkwElKBCtSvVzhCBDOk=               29     2017-03-31   \n",
       "\n",
       "                                              mar_active_days  \\\n",
       "msno                                                            \n",
       "+++IZseRRiQS9aaSkH6cMYU6bGDcxUieAi/tH67sC5s=               26   \n",
       "+++hVY1rZox/33YtvDgmKA2Frg/2qhkz12B9ylCvh8o=               31   \n",
       "+++l/EXNMLTijfLBa8p2TUVVVp2aFGSuUI/h7mLmthw=               28   \n",
       "+++snpr7pmobhLKUgSHTv/mpkqgBT0tQJ0zQj6qKrqc=               21   \n",
       "++/9R3sX37CjxbY/AaGvbwr3QkwElKBCtSvVzhCBDOk=               29   \n",
       "\n",
       "                                              mar_inactive_days  \\\n",
       "msno                                                              \n",
       "+++IZseRRiQS9aaSkH6cMYU6bGDcxUieAi/tH67sC5s=                  5   \n",
       "+++hVY1rZox/33YtvDgmKA2Frg/2qhkz12B9ylCvh8o=                  0   \n",
       "+++l/EXNMLTijfLBa8p2TUVVVp2aFGSuUI/h7mLmthw=                  3   \n",
       "+++snpr7pmobhLKUgSHTv/mpkqgBT0tQJ0zQj6qKrqc=                 10   \n",
       "++/9R3sX37CjxbY/AaGvbwr3QkwElKBCtSvVzhCBDOk=                  2   \n",
       "\n",
       "                                              mar_sum_num25  mar_mean_num25  \\\n",
       "msno                                                                          \n",
       "+++IZseRRiQS9aaSkH6cMYU6bGDcxUieAi/tH67sC5s=             86        3.307692   \n",
       "+++hVY1rZox/33YtvDgmKA2Frg/2qhkz12B9ylCvh8o=            191        6.161290   \n",
       "+++l/EXNMLTijfLBa8p2TUVVVp2aFGSuUI/h7mLmthw=             43        1.535714   \n",
       "+++snpr7pmobhLKUgSHTv/mpkqgBT0tQJ0zQj6qKrqc=            207        9.857143   \n",
       "++/9R3sX37CjxbY/AaGvbwr3QkwElKBCtSvVzhCBDOk=            105        3.620690   \n",
       "\n",
       "                                              mar_sum_num50  mar_mean_num50  \\\n",
       "msno                                                                          \n",
       "+++IZseRRiQS9aaSkH6cMYU6bGDcxUieAi/tH67sC5s=             11        0.423077   \n",
       "+++hVY1rZox/33YtvDgmKA2Frg/2qhkz12B9ylCvh8o=             90        2.903226   \n",
       "+++l/EXNMLTijfLBa8p2TUVVVp2aFGSuUI/h7mLmthw=             12        0.428571   \n",
       "+++snpr7pmobhLKUgSHTv/mpkqgBT0tQJ0zQj6qKrqc=            163        7.761905   \n",
       "++/9R3sX37CjxbY/AaGvbwr3QkwElKBCtSvVzhCBDOk=             24        0.827586   \n",
       "\n",
       "                                              mar_sum_num75  mar_mean_num75  \\\n",
       "msno                                                                          \n",
       "+++IZseRRiQS9aaSkH6cMYU6bGDcxUieAi/tH67sC5s=             10        0.384615   \n",
       "+++hVY1rZox/33YtvDgmKA2Frg/2qhkz12B9ylCvh8o=             75        2.419355   \n",
       "+++l/EXNMLTijfLBa8p2TUVVVp2aFGSuUI/h7mLmthw=             15        0.535714   \n",
       "+++snpr7pmobhLKUgSHTv/mpkqgBT0tQJ0zQj6qKrqc=            100        4.761905   \n",
       "++/9R3sX37CjxbY/AaGvbwr3QkwElKBCtSvVzhCBDOk=             39        1.344828   \n",
       "\n",
       "                                              mar_sum_num985  mar_mean_num985  \\\n",
       "msno                                                                            \n",
       "+++IZseRRiQS9aaSkH6cMYU6bGDcxUieAi/tH67sC5s=               5         0.192308   \n",
       "+++hVY1rZox/33YtvDgmKA2Frg/2qhkz12B9ylCvh8o=             144         4.645161   \n",
       "+++l/EXNMLTijfLBa8p2TUVVVp2aFGSuUI/h7mLmthw=              12         0.428571   \n",
       "+++snpr7pmobhLKUgSHTv/mpkqgBT0tQJ0zQj6qKrqc=              64         3.047619   \n",
       "++/9R3sX37CjxbY/AaGvbwr3QkwElKBCtSvVzhCBDOk=              35         1.206897   \n",
       "\n",
       "                                              mar_sum_num_100  \\\n",
       "msno                                                            \n",
       "+++IZseRRiQS9aaSkH6cMYU6bGDcxUieAi/tH67sC5s=              472   \n",
       "+++hVY1rZox/33YtvDgmKA2Frg/2qhkz12B9ylCvh8o=              589   \n",
       "+++l/EXNMLTijfLBa8p2TUVVVp2aFGSuUI/h7mLmthw=              485   \n",
       "+++snpr7pmobhLKUgSHTv/mpkqgBT0tQJ0zQj6qKrqc=              436   \n",
       "++/9R3sX37CjxbY/AaGvbwr3QkwElKBCtSvVzhCBDOk=              479   \n",
       "\n",
       "                                              mar_mean_num100  \\\n",
       "msno                                                            \n",
       "+++IZseRRiQS9aaSkH6cMYU6bGDcxUieAi/tH67sC5s=        18.153846   \n",
       "+++hVY1rZox/33YtvDgmKA2Frg/2qhkz12B9ylCvh8o=        19.000000   \n",
       "+++l/EXNMLTijfLBa8p2TUVVVp2aFGSuUI/h7mLmthw=        17.321429   \n",
       "+++snpr7pmobhLKUgSHTv/mpkqgBT0tQJ0zQj6qKrqc=        20.761905   \n",
       "++/9R3sX37CjxbY/AaGvbwr3QkwElKBCtSvVzhCBDOk=        16.517241   \n",
       "\n",
       "                                              mar_sum_num_unq  \\\n",
       "msno                                                            \n",
       "+++IZseRRiQS9aaSkH6cMYU6bGDcxUieAi/tH67sC5s=              530   \n",
       "+++hVY1rZox/33YtvDgmKA2Frg/2qhkz12B9ylCvh8o=              885   \n",
       "+++l/EXNMLTijfLBa8p2TUVVVp2aFGSuUI/h7mLmthw=              468   \n",
       "+++snpr7pmobhLKUgSHTv/mpkqgBT0tQJ0zQj6qKrqc=              828   \n",
       "++/9R3sX37CjxbY/AaGvbwr3QkwElKBCtSvVzhCBDOk=              230   \n",
       "\n",
       "                                              mar_mean_num_unq  \n",
       "msno                                                            \n",
       "+++IZseRRiQS9aaSkH6cMYU6bGDcxUieAi/tH67sC5s=         20.384615  \n",
       "+++hVY1rZox/33YtvDgmKA2Frg/2qhkz12B9ylCvh8o=         28.548387  \n",
       "+++l/EXNMLTijfLBa8p2TUVVVp2aFGSuUI/h7mLmthw=         16.714286  \n",
       "+++snpr7pmobhLKUgSHTv/mpkqgBT0tQJ0zQj6qKrqc=         39.428571  \n",
       "++/9R3sX37CjxbY/AaGvbwr3QkwElKBCtSvVzhCBDOk=          7.931034  "
      ]
     },
     "execution_count": 116,
     "metadata": {},
     "output_type": "execute_result"
    }
   ],
   "source": [
    "user_mar_feature.head()"
   ]
  },
  {
   "cell_type": "markdown",
   "id": "3c10e7d9-7252-4ae5-a527-4df2659f8a81",
   "metadata": {},
   "source": [
    "# Read feb log files"
   ]
  },
  {
   "cell_type": "code",
   "execution_count": 8,
   "id": "f7c63812-63a2-472e-958e-34c8933f30c2",
   "metadata": {},
   "outputs": [],
   "source": [
    "log_feb=pd.read_csv('../data/processed/feb_log.csv',parse_dates=['date'])\n"
   ]
  },
  {
   "cell_type": "code",
   "execution_count": 9,
   "id": "e28f4c8e-bbc3-4808-9814-866112dcf0f1",
   "metadata": {},
   "outputs": [],
   "source": [
    "reducedatatype(log_feb)\n"
   ]
  },
  {
   "cell_type": "code",
   "execution_count": 44,
   "id": "2eb4475e-de15-45f0-bebc-ed087f2d9175",
   "metadata": {},
   "outputs": [],
   "source": [
    "# feature number of log in feb\n",
    "feb_login_count = log_feb.groupby('msno')['date'].count()"
   ]
  },
  {
   "cell_type": "code",
   "execution_count": 45,
   "id": "146d3bda-e7da-4524-84c6-4bcec1a304f3",
   "metadata": {},
   "outputs": [],
   "source": [
    "# feature last login in date\n",
    "feb_last_login = log_feb.groupby('msno')['date'].max()"
   ]
  },
  {
   "cell_type": "code",
   "execution_count": 46,
   "id": "4234aba6-3c3c-411e-bab8-dc094acbc62a",
   "metadata": {},
   "outputs": [],
   "source": [
    "# feature active days in feb\n",
    "feb_active_days = log_feb.groupby('msno')['date'].nunique()"
   ]
  },
  {
   "cell_type": "code",
   "execution_count": 52,
   "id": "10594f2a-4991-4e5f-abd6-4ce22aed711d",
   "metadata": {},
   "outputs": [
    {
     "data": {
      "text/plain": [
       "msno\n",
       "+++IZseRRiQS9aaSkH6cMYU6bGDcxUieAi/tH67sC5s=    11\n",
       "+++hVY1rZox/33YtvDgmKA2Frg/2qhkz12B9ylCvh8o=     1\n",
       "+++l/EXNMLTijfLBa8p2TUVVVp2aFGSuUI/h7mLmthw=     0\n",
       "+++snpr7pmobhLKUgSHTv/mpkqgBT0tQJ0zQj6qKrqc=     8\n",
       "++/9R3sX37CjxbY/AaGvbwr3QkwElKBCtSvVzhCBDOk=     3\n",
       "                                                ..\n",
       "zzxqpgPX1epGyR3SVRKb3XitWdt+JqDURxV5ea1D7Cg=     3\n",
       "zzy0oyiTnRTo5Mbg23oKbBkf9eoaS7+eU4V+d14bzfY=    19\n",
       "zzy7iqSpfcRq7R4hmKKuhI+CJRs79a6pteqEggpiNO0=     2\n",
       "zzz1Dc3P9s53HAowRTrm3fNsWju5yeN4YBfNDq7Z99Q=    11\n",
       "zzzF1KsGfHH3qI6qiSNSXC35UXmVKMVFdxkp7xmDMc0=    15\n",
       "Name: feb_inactive_days, Length: 1114164, dtype: int64"
      ]
     },
     "execution_count": 52,
     "metadata": {},
     "output_type": "execute_result"
    }
   ],
   "source": [
    "# feature inactive days in feb (total 28 days in feb 2017)\n",
    "feb_inactive_days = 28 - feb_active_days\n",
    "feb_inactive_days.rename('feb_inactive_days',inplace=True)"
   ]
  },
  {
   "cell_type": "code",
   "execution_count": 32,
   "id": "8c829d20-a095-41d5-91bf-32c020570bfd",
   "metadata": {},
   "outputs": [],
   "source": [
    "# feature sum of num_25\n",
    "feb_sum_num25 = log_feb.groupby('msno')['num_25'].sum()"
   ]
  },
  {
   "cell_type": "code",
   "execution_count": 33,
   "id": "7f34b396-9702-4bcc-8b9d-aad1273aa20e",
   "metadata": {},
   "outputs": [],
   "source": [
    "# feature mean of num_25\n",
    "feb_mean_num25 = log_feb.groupby('msno')['num_25'].mean()"
   ]
  },
  {
   "cell_type": "code",
   "execution_count": 34,
   "id": "49abd97d-5742-4683-b598-fb592d7f952d",
   "metadata": {},
   "outputs": [],
   "source": [
    "# feature sum of num_50\n",
    "feb_sum_num50 = log_feb.groupby('msno')['num_50'].sum()"
   ]
  },
  {
   "cell_type": "code",
   "execution_count": 35,
   "id": "f4103b50-e7d1-4fc3-858d-fdb65fa01227",
   "metadata": {},
   "outputs": [],
   "source": [
    "# feature mean of num_50\n",
    "feb_mean_num50 = log_feb.groupby('msno')['num_50'].mean()"
   ]
  },
  {
   "cell_type": "code",
   "execution_count": 36,
   "id": "d48231d8-8858-43af-8400-adf4fc251bb0",
   "metadata": {},
   "outputs": [],
   "source": [
    "# feature sum of num_75\n",
    "feb_sum_num75 = log_feb.groupby('msno')['num_75'].sum()"
   ]
  },
  {
   "cell_type": "code",
   "execution_count": 37,
   "id": "82235bee-fc95-4a3f-ad01-277898d13a77",
   "metadata": {},
   "outputs": [],
   "source": [
    "# feature mean of num_75\n",
    "feb_mean_num75 = log_feb.groupby('msno')['num_75'].mean()"
   ]
  },
  {
   "cell_type": "code",
   "execution_count": 38,
   "id": "0511d87d-1d0f-43c9-8938-6fc2dbce77e1",
   "metadata": {},
   "outputs": [],
   "source": [
    "# feature sum of num_985\n",
    "feb_sum_num985 = log_feb.groupby('msno')['num_985'].sum()"
   ]
  },
  {
   "cell_type": "code",
   "execution_count": 39,
   "id": "afaa4889-26d7-40f2-8c08-ee247d7077a1",
   "metadata": {},
   "outputs": [],
   "source": [
    "# feature mean of num_985\n",
    "feb_mean_num985 = log_feb.groupby('msno')['num_985'].mean()"
   ]
  },
  {
   "cell_type": "code",
   "execution_count": 40,
   "id": "dc7e7054-4329-4da8-960c-7ce146ebccb1",
   "metadata": {},
   "outputs": [],
   "source": [
    "# feature sum of num_100\n",
    "feb_sum_num_100 = log_feb.groupby('msno')['num_100'].sum()"
   ]
  },
  {
   "cell_type": "code",
   "execution_count": 41,
   "id": "3f28f422-26ca-48b3-a851-bb172abc999a",
   "metadata": {},
   "outputs": [],
   "source": [
    "# feature mean of num_100\n",
    "feb_mean_num100 = log_feb.groupby('msno')['num_100'].mean()"
   ]
  },
  {
   "cell_type": "code",
   "execution_count": 42,
   "id": "85adbeea-c334-407a-97ce-222d697977a7",
   "metadata": {},
   "outputs": [],
   "source": [
    "# feature sum of num_unq\n",
    "feb_sum_num_unq = log_feb.groupby('msno')['num_unq'].sum()"
   ]
  },
  {
   "cell_type": "code",
   "execution_count": 43,
   "id": "18feec9e-450b-478c-855c-7c051bfd2749",
   "metadata": {},
   "outputs": [],
   "source": [
    "# feature mean of num_unq\n",
    "feb_mean_num_unq = log_feb.groupby('msno')['num_unq'].mean()"
   ]
  },
  {
   "cell_type": "code",
   "execution_count": 75,
   "id": "1808b7ba-9ba3-48ab-a5c5-d4662e01daf8",
   "metadata": {},
   "outputs": [],
   "source": [
    "feb_feature = [feb_login_count,feb_last_login,feb_active_days,feb_inactive_days,feb_sum_num25,feb_mean_num25,feb_sum_num50,\n",
    "              feb_mean_num50,feb_sum_num75,feb_mean_num75,feb_sum_num985,feb_mean_num985,feb_sum_num_100,feb_mean_num100,feb_sum_num_unq,\n",
    "                feb_mean_num_unq]"
   ]
  },
  {
   "cell_type": "code",
   "execution_count": 76,
   "id": "55540ca8-18ce-43a6-a961-caa5a7183d11",
   "metadata": {},
   "outputs": [],
   "source": [
    "user_feb_feature = reduce(lambda left,right: pd.merge(left,right,on='msno'),feb_feature)"
   ]
  },
  {
   "cell_type": "code",
   "execution_count": 77,
   "id": "f7f44465-c063-4e1d-9a49-9815a838d193",
   "metadata": {},
   "outputs": [],
   "source": [
    "user_feb_feature.columns = ['feb_login_count','feb_last_login','feb_active_days','feb_inactive_days','feb_sum_num25','feb_mean_num25','feb_sum_num50',\n",
    "              'feb_mean_num50','feb_sum_num75','feb_mean_num75','feb_sum_num985','feb_mean_num985','feb_sum_num_100','feb_mean_num100','feb_sum_num_unq',\n",
    "                'feb_mean_num_unq']"
   ]
  },
  {
   "cell_type": "code",
   "execution_count": 83,
   "id": "3c50d30a-2ed5-4ad4-8d1f-b7de880c44bb",
   "metadata": {},
   "outputs": [],
   "source": [
    "user_feb_feature.to_csv('../data/processed/user_features_feb.csv')"
   ]
  },
  {
   "cell_type": "markdown",
   "id": "b787296e-056e-4e5f-812f-fb322c4b0225",
   "metadata": {},
   "source": [
    "# Read Jan log file"
   ]
  },
  {
   "cell_type": "code",
   "execution_count": 10,
   "id": "be7707e2-f1c0-4ab8-b972-0e4d7a03d132",
   "metadata": {},
   "outputs": [],
   "source": [
    "log_jan=pd.read_csv('../data/processed/jan_log.csv',parse_dates=['date'])\n"
   ]
  },
  {
   "cell_type": "code",
   "execution_count": 11,
   "id": "566544ab-fb6d-4e9b-9a9b-4661e0605858",
   "metadata": {},
   "outputs": [],
   "source": [
    "reducedatatype(log_jan)\n"
   ]
  },
  {
   "cell_type": "code",
   "execution_count": 54,
   "id": "3ca52a23-ea37-478d-86e8-57d592f9a8fc",
   "metadata": {},
   "outputs": [],
   "source": [
    "# feature number of log in feb\n",
    "jan_login_count = log_jan.groupby('msno')['date'].count()"
   ]
  },
  {
   "cell_type": "code",
   "execution_count": 55,
   "id": "61e6e49f-1311-46f6-9aa4-e3d2447d3c5a",
   "metadata": {},
   "outputs": [],
   "source": [
    "# feature last login in date\n",
    "jan_last_login = log_jan.groupby('msno')['date'].max()"
   ]
  },
  {
   "cell_type": "code",
   "execution_count": 56,
   "id": "0a308457-027e-4d65-9032-05a04c43c110",
   "metadata": {},
   "outputs": [],
   "source": [
    "# feature active days in feb\n",
    "jan_active_days = log_jan.groupby('msno')['date'].nunique()"
   ]
  },
  {
   "cell_type": "code",
   "execution_count": 57,
   "id": "f44fcc90-7d07-4994-b3b1-76f96def1a9d",
   "metadata": {},
   "outputs": [
    {
     "data": {
      "text/plain": [
       "msno\n",
       "+++IZseRRiQS9aaSkH6cMYU6bGDcxUieAi/tH67sC5s=     8\n",
       "+++hVY1rZox/33YtvDgmKA2Frg/2qhkz12B9ylCvh8o=     1\n",
       "+++l/EXNMLTijfLBa8p2TUVVVp2aFGSuUI/h7mLmthw=     0\n",
       "+++snpr7pmobhLKUgSHTv/mpkqgBT0tQJ0zQj6qKrqc=     4\n",
       "++/9R3sX37CjxbY/AaGvbwr3QkwElKBCtSvVzhCBDOk=     4\n",
       "                                                ..\n",
       "zzy7iqSpfcRq7R4hmKKuhI+CJRs79a6pteqEggpiNO0=     1\n",
       "zzyHq6TK2+cBkeGFUHvh12Z7UxFZiSM7dOOSllSBPDw=    23\n",
       "zzz1Dc3P9s53HAowRTrm3fNsWju5yeN4YBfNDq7Z99Q=    27\n",
       "zzz4xr5LLzoxUqD6LfKiieCt8Or4dUWFQ0RA5gmkx8I=    21\n",
       "zzzF1KsGfHH3qI6qiSNSXC35UXmVKMVFdxkp7xmDMc0=    30\n",
       "Name: jan_inactive_days, Length: 1136003, dtype: int64"
      ]
     },
     "execution_count": 57,
     "metadata": {},
     "output_type": "execute_result"
    }
   ],
   "source": [
    "# feature inactive days in jan (total 31 days in jan 2017)\n",
    "jan_inactive_days = 31 - jan_active_days\n",
    "jan_inactive_days.rename('jan_inactive_days',inplace=True)"
   ]
  },
  {
   "cell_type": "code",
   "execution_count": 58,
   "id": "7918d2eb-14bf-42da-a7b4-1577d9d069a4",
   "metadata": {},
   "outputs": [],
   "source": [
    "# feature sum of num_25\n",
    "jan_sum_num25 = log_jan.groupby('msno')['num_25'].sum()"
   ]
  },
  {
   "cell_type": "code",
   "execution_count": 59,
   "id": "3d563ecb-4daa-4b92-9e93-4e8d7021cc88",
   "metadata": {},
   "outputs": [],
   "source": [
    "# feature mean of num_25\n",
    "jan_mean_num25 = log_jan.groupby('msno')['num_25'].mean()"
   ]
  },
  {
   "cell_type": "code",
   "execution_count": 60,
   "id": "546c115e-55cd-499f-aa8e-2a42e6e6cebb",
   "metadata": {},
   "outputs": [],
   "source": [
    "# feature sum of num_50\n",
    "jan_sum_num50 = log_jan.groupby('msno')['num_50'].sum()"
   ]
  },
  {
   "cell_type": "code",
   "execution_count": 61,
   "id": "db7c8b72-5aba-4c42-8597-976de8eddc66",
   "metadata": {},
   "outputs": [],
   "source": [
    "# feature mean of num_50\n",
    "jan_mean_num50 = log_jan.groupby('msno')['num_50'].mean()"
   ]
  },
  {
   "cell_type": "code",
   "execution_count": 62,
   "id": "3db48b13-fbdc-415d-95ed-053218e62438",
   "metadata": {},
   "outputs": [],
   "source": [
    "# feature sum of num_75\n",
    "jan_sum_num75 = log_jan.groupby('msno')['num_75'].sum()"
   ]
  },
  {
   "cell_type": "code",
   "execution_count": 63,
   "id": "cf4ea1dd-a735-41f9-9c9a-eec1d7c0c05a",
   "metadata": {},
   "outputs": [],
   "source": [
    "# feature mean of num_75\n",
    "jan_mean_num75 = log_jan.groupby('msno')['num_75'].mean()"
   ]
  },
  {
   "cell_type": "code",
   "execution_count": 64,
   "id": "f53ce976-09ab-44ae-a782-0e250f10c97a",
   "metadata": {},
   "outputs": [],
   "source": [
    "# feature sum of num_985\n",
    "jan_sum_num985 = log_jan.groupby('msno')['num_985'].sum()"
   ]
  },
  {
   "cell_type": "code",
   "execution_count": 65,
   "id": "43b78dca-71c0-4243-b2b0-bd076a3f1876",
   "metadata": {},
   "outputs": [],
   "source": [
    "# feature mean of num_985\n",
    "jan_mean_num985 = log_jan.groupby('msno')['num_985'].mean()"
   ]
  },
  {
   "cell_type": "code",
   "execution_count": 66,
   "id": "159bffe6-bac2-47dd-9861-07f748de86f1",
   "metadata": {},
   "outputs": [],
   "source": [
    "# feature sum of num_100\n",
    "jan_sum_num_100 = log_jan.groupby('msno')['num_100'].sum()"
   ]
  },
  {
   "cell_type": "code",
   "execution_count": 67,
   "id": "315c5ea1-6adf-4a5b-96e0-184414bcf381",
   "metadata": {},
   "outputs": [],
   "source": [
    "# feature mean of num_100\n",
    "jan_mean_num100 = log_jan.groupby('msno')['num_100'].mean()"
   ]
  },
  {
   "cell_type": "code",
   "execution_count": 68,
   "id": "3337e1da-add1-41da-afb1-10b7a64c28e6",
   "metadata": {},
   "outputs": [],
   "source": [
    "# feature sum of num_unq\n",
    "jan_sum_num_unq = log_jan.groupby('msno')['num_unq'].sum()"
   ]
  },
  {
   "cell_type": "code",
   "execution_count": 69,
   "id": "8e28510f-c960-4421-9aa2-6bd20aeea8b8",
   "metadata": {},
   "outputs": [],
   "source": [
    "# feature mean of num_unq\n",
    "jan_mean_num_unq = log_jan.groupby('msno')['num_unq'].mean()"
   ]
  },
  {
   "cell_type": "code",
   "execution_count": 78,
   "id": "b999654c-23a8-4fb1-80f3-4e439a1842f4",
   "metadata": {},
   "outputs": [],
   "source": [
    "jan_feature = [jan_login_count,jan_last_login,jan_active_days,jan_inactive_days,jan_sum_num25,jan_mean_num25,jan_sum_num50,\n",
    "              jan_mean_num50,jan_sum_num75,jan_mean_num75,jan_sum_num985,jan_mean_num985,jan_sum_num_100,jan_mean_num100,jan_sum_num_unq,\n",
    "                jan_mean_num_unq]"
   ]
  },
  {
   "cell_type": "code",
   "execution_count": 79,
   "id": "4afafb02-eb7b-4d28-917b-c71df3c93ba5",
   "metadata": {},
   "outputs": [],
   "source": [
    "user_jan_feature = reduce(lambda left,right: pd.merge(left,right,on='msno'),jan_feature)"
   ]
  },
  {
   "cell_type": "code",
   "execution_count": 80,
   "id": "6b0e4ad8-a0bb-4a89-abe1-676a6a930eeb",
   "metadata": {},
   "outputs": [],
   "source": [
    "user_jan_feature.columns = ['jan_login_count','jan_last_login','jan_active_days','jan_inactive_days','jan_sum_num25','jan_mean_num25','jan_sum_num50',\n",
    "              'jan_mean_num50','jan_sum_num75','jan_mean_num75','jan_sum_num985','jan_mean_num985','jan_sum_num_100','jan_mean_num100','jan_sum_num_unq',\n",
    "                'jan_mean_num_unq']"
   ]
  },
  {
   "cell_type": "code",
   "execution_count": 84,
   "id": "a6daaf27-152e-480d-bdcb-025e0699baa2",
   "metadata": {},
   "outputs": [],
   "source": [
    "user_jan_feature.to_csv('../data/processed/user_features_jan.csv')"
   ]
  },
  {
   "cell_type": "markdown",
   "id": "6668f38d-61b2-47f8-bf26-f72eebf76bab",
   "metadata": {},
   "source": [
    "# find last active month for the user and renaming above created feature as their last month"
   ]
  },
  {
   "cell_type": "code",
   "execution_count": 12,
   "id": "e2eb5c91-4c50-4f1c-a3d0-9920d6f1b8e4",
   "metadata": {},
   "outputs": [],
   "source": [
    "grouped_log = pd.concat([log_jan,log_feb,log_mar])"
   ]
  },
  {
   "cell_type": "code",
   "execution_count": 98,
   "id": "9e919910-e212-41de-aea2-31f3bd7993f7",
   "metadata": {},
   "outputs": [
    {
     "data": {
      "text/html": [
       "<div>\n",
       "<style scoped>\n",
       "    .dataframe tbody tr th:only-of-type {\n",
       "        vertical-align: middle;\n",
       "    }\n",
       "\n",
       "    .dataframe tbody tr th {\n",
       "        vertical-align: top;\n",
       "    }\n",
       "\n",
       "    .dataframe thead th {\n",
       "        text-align: right;\n",
       "    }\n",
       "</style>\n",
       "<table border=\"1\" class=\"dataframe\">\n",
       "  <thead>\n",
       "    <tr style=\"text-align: right;\">\n",
       "      <th></th>\n",
       "      <th>msno</th>\n",
       "      <th>date</th>\n",
       "      <th>num_25</th>\n",
       "      <th>num_50</th>\n",
       "      <th>num_75</th>\n",
       "      <th>num_985</th>\n",
       "      <th>num_100</th>\n",
       "      <th>num_unq</th>\n",
       "      <th>total_secs</th>\n",
       "    </tr>\n",
       "  </thead>\n",
       "  <tbody>\n",
       "    <tr>\n",
       "      <th>11</th>\n",
       "      <td>MtHMXW0wUxm8EySrwOudouUT84MahwTz/wYJVmvwPgs=</td>\n",
       "      <td>2017-01-18</td>\n",
       "      <td>4</td>\n",
       "      <td>0</td>\n",
       "      <td>1</td>\n",
       "      <td>0</td>\n",
       "      <td>5</td>\n",
       "      <td>8</td>\n",
       "      <td>1281.170044</td>\n",
       "    </tr>\n",
       "    <tr>\n",
       "      <th>655951</th>\n",
       "      <td>MtHMXW0wUxm8EySrwOudouUT84MahwTz/wYJVmvwPgs=</td>\n",
       "      <td>2017-01-19</td>\n",
       "      <td>0</td>\n",
       "      <td>0</td>\n",
       "      <td>1</td>\n",
       "      <td>0</td>\n",
       "      <td>6</td>\n",
       "      <td>7</td>\n",
       "      <td>1396.958984</td>\n",
       "    </tr>\n",
       "    <tr>\n",
       "      <th>1020694</th>\n",
       "      <td>MtHMXW0wUxm8EySrwOudouUT84MahwTz/wYJVmvwPgs=</td>\n",
       "      <td>2017-01-21</td>\n",
       "      <td>224</td>\n",
       "      <td>7</td>\n",
       "      <td>3</td>\n",
       "      <td>3</td>\n",
       "      <td>149</td>\n",
       "      <td>227</td>\n",
       "      <td>29254.851562</td>\n",
       "    </tr>\n",
       "    <tr>\n",
       "      <th>1099854</th>\n",
       "      <td>MtHMXW0wUxm8EySrwOudouUT84MahwTz/wYJVmvwPgs=</td>\n",
       "      <td>2017-01-22</td>\n",
       "      <td>12</td>\n",
       "      <td>0</td>\n",
       "      <td>0</td>\n",
       "      <td>0</td>\n",
       "      <td>38</td>\n",
       "      <td>12</td>\n",
       "      <td>7987.675781</td>\n",
       "    </tr>\n",
       "    <tr>\n",
       "      <th>1726828</th>\n",
       "      <td>MtHMXW0wUxm8EySrwOudouUT84MahwTz/wYJVmvwPgs=</td>\n",
       "      <td>2017-01-23</td>\n",
       "      <td>0</td>\n",
       "      <td>0</td>\n",
       "      <td>0</td>\n",
       "      <td>0</td>\n",
       "      <td>4</td>\n",
       "      <td>1</td>\n",
       "      <td>1109.260010</td>\n",
       "    </tr>\n",
       "    <tr>\n",
       "      <th>...</th>\n",
       "      <td>...</td>\n",
       "      <td>...</td>\n",
       "      <td>...</td>\n",
       "      <td>...</td>\n",
       "      <td>...</td>\n",
       "      <td>...</td>\n",
       "      <td>...</td>\n",
       "      <td>...</td>\n",
       "      <td>...</td>\n",
       "    </tr>\n",
       "    <tr>\n",
       "      <th>10262595</th>\n",
       "      <td>MtHMXW0wUxm8EySrwOudouUT84MahwTz/wYJVmvwPgs=</td>\n",
       "      <td>2017-02-24</td>\n",
       "      <td>1</td>\n",
       "      <td>1</td>\n",
       "      <td>0</td>\n",
       "      <td>1</td>\n",
       "      <td>21</td>\n",
       "      <td>19</td>\n",
       "      <td>5887.774902</td>\n",
       "    </tr>\n",
       "    <tr>\n",
       "      <th>10381088</th>\n",
       "      <td>MtHMXW0wUxm8EySrwOudouUT84MahwTz/wYJVmvwPgs=</td>\n",
       "      <td>2017-02-25</td>\n",
       "      <td>19</td>\n",
       "      <td>6</td>\n",
       "      <td>6</td>\n",
       "      <td>4</td>\n",
       "      <td>43</td>\n",
       "      <td>51</td>\n",
       "      <td>14592.582031</td>\n",
       "    </tr>\n",
       "    <tr>\n",
       "      <th>10869399</th>\n",
       "      <td>MtHMXW0wUxm8EySrwOudouUT84MahwTz/wYJVmvwPgs=</td>\n",
       "      <td>2017-02-26</td>\n",
       "      <td>7</td>\n",
       "      <td>6</td>\n",
       "      <td>6</td>\n",
       "      <td>2</td>\n",
       "      <td>65</td>\n",
       "      <td>39</td>\n",
       "      <td>18022.314453</td>\n",
       "    </tr>\n",
       "    <tr>\n",
       "      <th>11099195</th>\n",
       "      <td>MtHMXW0wUxm8EySrwOudouUT84MahwTz/wYJVmvwPgs=</td>\n",
       "      <td>2017-02-27</td>\n",
       "      <td>1</td>\n",
       "      <td>0</td>\n",
       "      <td>0</td>\n",
       "      <td>2</td>\n",
       "      <td>170</td>\n",
       "      <td>7</td>\n",
       "      <td>41623.835938</td>\n",
       "    </tr>\n",
       "    <tr>\n",
       "      <th>11415765</th>\n",
       "      <td>MtHMXW0wUxm8EySrwOudouUT84MahwTz/wYJVmvwPgs=</td>\n",
       "      <td>2017-02-28</td>\n",
       "      <td>4</td>\n",
       "      <td>4</td>\n",
       "      <td>3</td>\n",
       "      <td>0</td>\n",
       "      <td>206</td>\n",
       "      <td>37</td>\n",
       "      <td>50667.792969</td>\n",
       "    </tr>\n",
       "  </tbody>\n",
       "</table>\n",
       "<p>75 rows × 9 columns</p>\n",
       "</div>"
      ],
      "text/plain": [
       "                                                  msno       date  num_25  \\\n",
       "11        MtHMXW0wUxm8EySrwOudouUT84MahwTz/wYJVmvwPgs= 2017-01-18       4   \n",
       "655951    MtHMXW0wUxm8EySrwOudouUT84MahwTz/wYJVmvwPgs= 2017-01-19       0   \n",
       "1020694   MtHMXW0wUxm8EySrwOudouUT84MahwTz/wYJVmvwPgs= 2017-01-21     224   \n",
       "1099854   MtHMXW0wUxm8EySrwOudouUT84MahwTz/wYJVmvwPgs= 2017-01-22      12   \n",
       "1726828   MtHMXW0wUxm8EySrwOudouUT84MahwTz/wYJVmvwPgs= 2017-01-23       0   \n",
       "...                                                ...        ...     ...   \n",
       "10262595  MtHMXW0wUxm8EySrwOudouUT84MahwTz/wYJVmvwPgs= 2017-02-24       1   \n",
       "10381088  MtHMXW0wUxm8EySrwOudouUT84MahwTz/wYJVmvwPgs= 2017-02-25      19   \n",
       "10869399  MtHMXW0wUxm8EySrwOudouUT84MahwTz/wYJVmvwPgs= 2017-02-26       7   \n",
       "11099195  MtHMXW0wUxm8EySrwOudouUT84MahwTz/wYJVmvwPgs= 2017-02-27       1   \n",
       "11415765  MtHMXW0wUxm8EySrwOudouUT84MahwTz/wYJVmvwPgs= 2017-02-28       4   \n",
       "\n",
       "          num_50  num_75  num_985  num_100  num_unq    total_secs  \n",
       "11             0       1        0        5        8   1281.170044  \n",
       "655951         0       1        0        6        7   1396.958984  \n",
       "1020694        7       3        3      149      227  29254.851562  \n",
       "1099854        0       0        0       38       12   7987.675781  \n",
       "1726828        0       0        0        4        1   1109.260010  \n",
       "...          ...     ...      ...      ...      ...           ...  \n",
       "10262595       1       0        1       21       19   5887.774902  \n",
       "10381088       6       6        4       43       51  14592.582031  \n",
       "10869399       6       6        2       65       39  18022.314453  \n",
       "11099195       0       0        2      170        7  41623.835938  \n",
       "11415765       4       3        0      206       37  50667.792969  \n",
       "\n",
       "[75 rows x 9 columns]"
      ]
     },
     "execution_count": 98,
     "metadata": {},
     "output_type": "execute_result"
    }
   ],
   "source": [
    "[grouped_log['msno'] == 'MtHMXW0wUxm8EySrwOudouUT84MahwTz/wYJVmvwPgs=']"
   ]
  },
  {
   "cell_type": "code",
   "execution_count": 13,
   "id": "b792fa28-000e-4050-8ca4-e9b3eb5afaec",
   "metadata": {},
   "outputs": [],
   "source": [
    "min_date_2weeks = grouped_log.groupby('msno')['date'].transform('max')-pd.DateOffset(days=14)"
   ]
  },
  {
   "cell_type": "code",
   "execution_count": 14,
   "id": "4692355f-5d01-4b5c-9e96-29fef269f5d6",
   "metadata": {},
   "outputs": [],
   "source": [
    "last_2weeks_active = grouped_log[grouped_log['date'] > min_date_2weeks]"
   ]
  },
  {
   "cell_type": "code",
   "execution_count": 18,
   "id": "55ad6d35-e94f-412e-abb7-84b05eddc8d5",
   "metadata": {},
   "outputs": [],
   "source": [
    "# feature last login in date\n",
    "week2_last_login = last_2weeks_active.groupby('msno')['date'].max()"
   ]
  },
  {
   "cell_type": "code",
   "execution_count": 19,
   "id": "58a36c6e-22b4-4e1e-9ff5-758ade995706",
   "metadata": {},
   "outputs": [],
   "source": [
    "# feature active days \n",
    "week2_active_days = last_2weeks_active.groupby('msno')['date'].nunique()"
   ]
  },
  {
   "cell_type": "code",
   "execution_count": 20,
   "id": "b25fa93d-b049-4f4b-8c0e-bed347018622",
   "metadata": {},
   "outputs": [],
   "source": [
    "# feature sum of num_25\n",
    "week2_sum_num25 = last_2weeks_active.groupby('msno')['num_25'].sum()"
   ]
  },
  {
   "cell_type": "code",
   "execution_count": 21,
   "id": "4db14487-e18e-46a9-a302-6587d5f3c8c6",
   "metadata": {},
   "outputs": [],
   "source": [
    "# feature mean of num_25\n",
    "week2_mean_num25 = last_2weeks_active.groupby('msno')['num_25'].mean()"
   ]
  },
  {
   "cell_type": "code",
   "execution_count": 22,
   "id": "026afd7c-904d-4ed8-8f35-68ae8b0077d5",
   "metadata": {},
   "outputs": [],
   "source": [
    "# feature sum of num_50\n",
    "week2_sum_num50 = last_2weeks_active.groupby('msno')['num_50'].sum()"
   ]
  },
  {
   "cell_type": "code",
   "execution_count": 23,
   "id": "c59c7223-1cdd-4dfd-96e6-bcf8775a6db3",
   "metadata": {},
   "outputs": [],
   "source": [
    "# feature mean of num_50\n",
    "week2_mean_num50 = last_2weeks_active.groupby('msno')['num_50'].mean()"
   ]
  },
  {
   "cell_type": "code",
   "execution_count": 24,
   "id": "9e1249bd-3962-4d6e-be51-7bb226c68ee3",
   "metadata": {},
   "outputs": [],
   "source": [
    "# feature sum of num_75\n",
    "week2_sum_num75 = last_2weeks_active.groupby('msno')['num_75'].sum()"
   ]
  },
  {
   "cell_type": "code",
   "execution_count": 25,
   "id": "01b795ad-7c1e-45f3-8fc4-df8e885f1a93",
   "metadata": {},
   "outputs": [],
   "source": [
    "# feature mean of num_75\n",
    "week2_mean_num75 = last_2weeks_active.groupby('msno')['num_75'].mean()"
   ]
  },
  {
   "cell_type": "code",
   "execution_count": 26,
   "id": "ad4f2834-53a6-4e1b-b516-34e3ee83e066",
   "metadata": {},
   "outputs": [],
   "source": [
    "# feature sum of num_985\n",
    "week2_sum_num985 = last_2weeks_active.groupby('msno')['num_985'].sum()"
   ]
  },
  {
   "cell_type": "code",
   "execution_count": 27,
   "id": "58d69d1e-9f90-4b92-9986-d2cf0436193b",
   "metadata": {},
   "outputs": [],
   "source": [
    "# feature mean of num_985\n",
    "week2_mean_num985 = last_2weeks_active.groupby('msno')['num_985'].mean()"
   ]
  },
  {
   "cell_type": "code",
   "execution_count": 28,
   "id": "c7591b4f-4e5d-4daf-8b2c-75e8e60abfe4",
   "metadata": {},
   "outputs": [],
   "source": [
    "# feature sum of num_100\n",
    "week2_sum_num_100 = last_2weeks_active.groupby('msno')['num_100'].sum()"
   ]
  },
  {
   "cell_type": "code",
   "execution_count": 29,
   "id": "892ed481-b2c9-4192-9b37-07d6a587e827",
   "metadata": {},
   "outputs": [],
   "source": [
    "# feature mean of num_100\n",
    "week2_mean_num100 = last_2weeks_active.groupby('msno')['num_100'].mean()"
   ]
  },
  {
   "cell_type": "code",
   "execution_count": 30,
   "id": "e4c36922-fde2-4ee5-be7e-2b6e0477e554",
   "metadata": {},
   "outputs": [],
   "source": [
    "# feature sum of num_unq\n",
    "week2_sum_num_unq = last_2weeks_active.groupby('msno')['num_unq'].sum()"
   ]
  },
  {
   "cell_type": "code",
   "execution_count": 31,
   "id": "58fe095f-3f98-4ebe-b788-d7163cbabd81",
   "metadata": {},
   "outputs": [],
   "source": [
    "# feature mean of num_unq\n",
    "week2_mean_num_unq = last_2weeks_active.groupby('msno')['num_unq'].mean()"
   ]
  },
  {
   "cell_type": "code",
   "execution_count": 33,
   "id": "0b44742d-4ea8-4088-9d81-768588d93333",
   "metadata": {},
   "outputs": [],
   "source": [
    "week2_feature = [week2_last_login,week2_active_days,week2_sum_num25,week2_mean_num25,week2_sum_num50,\n",
    "              week2_mean_num50,week2_sum_num75,week2_mean_num75,week2_sum_num985,week2_mean_num985,week2_sum_num_100,week2_mean_num100,week2_sum_num_unq,\n",
    "                week2_mean_num_unq]"
   ]
  },
  {
   "cell_type": "code",
   "execution_count": 34,
   "id": "c33e6d23-b85b-43bf-b37b-896aba5d7899",
   "metadata": {},
   "outputs": [],
   "source": [
    "user_log_2week_feature = reduce(lambda left,right: pd.merge(left,right,on='msno'),week2_feature)"
   ]
  },
  {
   "cell_type": "code",
   "execution_count": 35,
   "id": "1aa5dbdf-52b9-4d1e-9ac8-2205206a332a",
   "metadata": {},
   "outputs": [],
   "source": [
    "user_log_2week_feature.columns = ['2week_last_login','2week_active_days','2week_sum_num25','2week_mean_num25','2week_sum_num50',\n",
    "              '2week_mean_num50','2week_sum_num75','2week_mean_num75','2week_sum_num985','2week_mean_num985','2week_sum_num_100','2week_mean_num100','2week_sum_num_unq',\n",
    "                '2week_mean_num_unq']"
   ]
  },
  {
   "cell_type": "code",
   "execution_count": 37,
   "id": "7c6d7159-b120-4831-867a-706acd4b5302",
   "metadata": {},
   "outputs": [],
   "source": [
    "user_log_2week_feature.to_csv('../data/processed/user_log_2week_feature.csv')"
   ]
  },
  {
   "cell_type": "code",
   "execution_count": 7,
   "id": "3251f78b-cb05-40a3-bcc8-95d466cdd7f1",
   "metadata": {},
   "outputs": [],
   "source": [
    "log_active_2week = pd.read_csv('../data/processed/user_log_2week_feature.csv',parse_dates=['2week_last_login'])\n",
    "log_last_month = pd.read_csv('../data/processed/user_features_mar.csv',parse_dates=['mar_last_login'])\n",
    "log_last_second_month = pd.read_csv('../data/processed/user_features_feb.csv',parse_dates=['feb_last_login'])\n",
    "log_last_third_month = pd.read_csv('../data/processed/user_features_jan.csv',parse_dates=['jan_last_login'])"
   ]
  },
  {
   "cell_type": "code",
   "execution_count": 9,
   "id": "41d757fa-7a13-47fc-bb83-b8f8bf3ca345",
   "metadata": {},
   "outputs": [],
   "source": [
    "log_last_month.columns =['msno','last_month_login_count','last_month_last_login','last_month_active_days','last_month_inactive_days','last_month_sum_num25','last_month_mean_num25','last_month_sum_num50',\n",
    "              'last_month_mean_num50','last_month_sum_num75','last_month_mean_num75','last_month_sum_num985','last_month_mean_num985','last_month_sum_num_100','last_month_mean_num100','last_month_sum_num_unq',\n",
    "                'last_month_mean_num_unq']"
   ]
  },
  {
   "cell_type": "code",
   "execution_count": 10,
   "id": "86a38506-41c7-47be-9326-7f00dd712683",
   "metadata": {},
   "outputs": [
    {
     "data": {
      "text/html": [
       "<div>\n",
       "<style scoped>\n",
       "    .dataframe tbody tr th:only-of-type {\n",
       "        vertical-align: middle;\n",
       "    }\n",
       "\n",
       "    .dataframe tbody tr th {\n",
       "        vertical-align: top;\n",
       "    }\n",
       "\n",
       "    .dataframe thead th {\n",
       "        text-align: right;\n",
       "    }\n",
       "</style>\n",
       "<table border=\"1\" class=\"dataframe\">\n",
       "  <thead>\n",
       "    <tr style=\"text-align: right;\">\n",
       "      <th></th>\n",
       "      <th>msno</th>\n",
       "      <th>last_month_login_count</th>\n",
       "      <th>last_month_last_login</th>\n",
       "      <th>last_month_active_days</th>\n",
       "      <th>last_month_inactive_days</th>\n",
       "      <th>last_month_sum_num25</th>\n",
       "      <th>last_month_mean_num25</th>\n",
       "      <th>last_month_sum_num50</th>\n",
       "      <th>last_month_mean_num50</th>\n",
       "      <th>last_month_sum_num75</th>\n",
       "      <th>last_month_mean_num75</th>\n",
       "      <th>last_month_sum_num985</th>\n",
       "      <th>last_month_mean_num985</th>\n",
       "      <th>last_month_sum_num_100</th>\n",
       "      <th>last_month_mean_num100</th>\n",
       "      <th>last_month_sum_num_unq</th>\n",
       "      <th>last_month_mean_num_unq</th>\n",
       "    </tr>\n",
       "  </thead>\n",
       "  <tbody>\n",
       "    <tr>\n",
       "      <th>0</th>\n",
       "      <td>+++IZseRRiQS9aaSkH6cMYU6bGDcxUieAi/tH67sC5s=</td>\n",
       "      <td>26</td>\n",
       "      <td>2017-03-31</td>\n",
       "      <td>26</td>\n",
       "      <td>5</td>\n",
       "      <td>86</td>\n",
       "      <td>3.307692</td>\n",
       "      <td>11</td>\n",
       "      <td>0.423077</td>\n",
       "      <td>10</td>\n",
       "      <td>0.384615</td>\n",
       "      <td>5</td>\n",
       "      <td>0.192308</td>\n",
       "      <td>472</td>\n",
       "      <td>18.153846</td>\n",
       "      <td>530</td>\n",
       "      <td>20.384615</td>\n",
       "    </tr>\n",
       "  </tbody>\n",
       "</table>\n",
       "</div>"
      ],
      "text/plain": [
       "                                           msno  last_month_login_count  \\\n",
       "0  +++IZseRRiQS9aaSkH6cMYU6bGDcxUieAi/tH67sC5s=                      26   \n",
       "\n",
       "  last_month_last_login  last_month_active_days  last_month_inactive_days  \\\n",
       "0            2017-03-31                      26                         5   \n",
       "\n",
       "   last_month_sum_num25  last_month_mean_num25  last_month_sum_num50  \\\n",
       "0                    86               3.307692                    11   \n",
       "\n",
       "   last_month_mean_num50  last_month_sum_num75  last_month_mean_num75  \\\n",
       "0               0.423077                    10               0.384615   \n",
       "\n",
       "   last_month_sum_num985  last_month_mean_num985  last_month_sum_num_100  \\\n",
       "0                      5                0.192308                     472   \n",
       "\n",
       "   last_month_mean_num100  last_month_sum_num_unq  last_month_mean_num_unq  \n",
       "0               18.153846                     530                20.384615  "
      ]
     },
     "execution_count": 10,
     "metadata": {},
     "output_type": "execute_result"
    }
   ],
   "source": [
    "log_last_month.head(1)"
   ]
  },
  {
   "cell_type": "code",
   "execution_count": 18,
   "id": "9fa5e69c-45aa-4799-be4e-b4ed993e8198",
   "metadata": {},
   "outputs": [],
   "source": [
    "log_last_second_month.columns =['msno','last_second_month_login_count','last_second_month_last_login','last_second_month_active_days','last_second_month_inactive_days','last_second_month_sum_num25','last_second_month_mean_num25','last_second_month_sum_num50',\n",
    "              'last_second_month_mean_num50','last_second_month_sum_num75','last_second_month_mean_num75','last_second_month_sum_num985','last_second_month_mean_num985','last_second_month_sum_num_100','last_second_month_mean_num100','last_second_month_sum_num_unq',\n",
    "                'last_second_month_mean_num_unq']"
   ]
  },
  {
   "cell_type": "code",
   "execution_count": 20,
   "id": "1fb40976-ab7e-4df9-b580-1f79bdf7a3f6",
   "metadata": {},
   "outputs": [],
   "source": [
    "log_last_third_month.columns =['msno','last_third_month_login_count','last_third_month_last_login','last_third_month_active_days','last_third_month_inactive_days','last_third_month_sum_num25','last_third_month_mean_num25','last_third_month_sum_num50',\n",
    "              'last_third_month_mean_num50','last_third_month_sum_num75','last_third_month_mean_num75','last_third_month_sum_num985','last_third_month_mean_num985','last_third_month_sum_num_100','last_third_month_mean_num100','last_third_month_sum_num_unq',\n",
    "                'last_third_month_mean_num_unq']"
   ]
  },
  {
   "cell_type": "markdown",
   "id": "44e7045e-6eff-40de-907e-33f04b4c6a10",
   "metadata": {},
   "source": [
    "login_count and active_days are same feature, so dropping one"
   ]
  },
  {
   "cell_type": "code",
   "execution_count": 13,
   "id": "19916cd8-1b28-4500-b27e-debfa0e70df7",
   "metadata": {},
   "outputs": [],
   "source": [
    "log_last_month.drop('last_month_login_count',axis=1,inplace=True)\n",
    "log_last_second_month.drop('last_second_month_login_count',axis=1,inplace=True)\n",
    "log_last_third_month.drop('last_third_month_login_count',axis=1,inplace=True)"
   ]
  },
  {
   "cell_type": "code",
   "execution_count": 21,
   "id": "07ec1da9-e720-45fe-a0b2-74283c4670a4",
   "metadata": {},
   "outputs": [],
   "source": [
    "combined_user_log = pd.merge(log_last_month,log_last_second_month,on='msno',how='left')\n",
    "combined_user_log = pd.merge(combined_user_log,log_last_third_month,on='msno',how='left')\n",
    "combined_user_log = pd.merge(combined_user_log,log_active_2week,on='msno',how='left')"
   ]
  },
  {
   "cell_type": "markdown",
   "id": "fdb57d46-e4a7-4cb5-ba21-c8c2f56bf15f",
   "metadata": {},
   "source": [
    "drop inactive column since they active and inactive are NA is some months. it might confuse"
   ]
  },
  {
   "cell_type": "code",
   "execution_count": 22,
   "id": "c69bc7c9-badf-44cb-9bf4-e5c9fc7cd628",
   "metadata": {},
   "outputs": [],
   "source": [
    "log_last_month.drop('last_month_inactive_days',axis=1,inplace=True)\n",
    "log_last_second_month.drop('last_second_month_inactive_days',axis=1,inplace=True)\n",
    "log_last_third_month.drop('last_third_month_inactive_days',axis=1,inplace=True)"
   ]
  },
  {
   "cell_type": "code",
   "execution_count": 26,
   "id": "60ba3c5a-c950-4072-8c7e-1550b0954c08",
   "metadata": {},
   "outputs": [],
   "source": [
    "combined_user_log.fillna(0,inplace=True)"
   ]
  },
  {
   "cell_type": "markdown",
   "id": "e085d325-e2b3-40fa-b099-07472ff6a5fa",
   "metadata": {},
   "source": [
    "difference between last 2 months"
   ]
  },
  {
   "cell_type": "code",
   "execution_count": 27,
   "id": "9eedf496-1172-4ed8-8d53-22599290c654",
   "metadata": {},
   "outputs": [],
   "source": [
    "combined_user_log['diff_last2month_active_days'] = combined_user_log['last_month_active_days']-combined_user_log['last_second_month_active_days']\n",
    "combined_user_log['diff_last2month_sum_num25'] = combined_user_log['last_month_sum_num25']-combined_user_log['last_second_month_sum_num25']\n",
    "combined_user_log['diff_last2month_mean_num25'] = combined_user_log['last_month_mean_num25']-combined_user_log['last_second_month_mean_num25']\n",
    "combined_user_log['diff_last2month_sum_num50'] = combined_user_log['last_month_sum_num50']-combined_user_log['last_second_month_sum_num50']\n",
    "combined_user_log['diff_last2month_sum_num75'] = combined_user_log['last_month_sum_num75']-combined_user_log['last_second_month_sum_num75']\n",
    "combined_user_log['diff_last2month_mean_num75'] = combined_user_log['last_month_mean_num75']-combined_user_log['last_second_month_mean_num75']\n",
    "combined_user_log['diff_last2month_sum_num985'] = combined_user_log['last_month_sum_num985']-combined_user_log['last_second_month_sum_num985']\n",
    "combined_user_log['diff_last2month_mean_num985'] = combined_user_log['last_month_mean_num985']-combined_user_log['last_second_month_mean_num985']\n",
    "combined_user_log['diff_last2month_sum_num100'] = combined_user_log['last_month_sum_num_100']-combined_user_log['last_second_month_sum_num_100']\n",
    "combined_user_log['diff_last2month_mean_num100'] = combined_user_log['last_month_mean_num100']-combined_user_log['last_second_month_mean_num100']\n",
    "combined_user_log['diff_last2month_sum_num_unq'] = combined_user_log['last_month_sum_num_unq']-combined_user_log['last_second_month_sum_num_unq']\n",
    "combined_user_log['diff_last2month_mean_num_unq'] = combined_user_log['last_month_mean_num_unq']-combined_user_log['last_second_month_mean_num_unq']"
   ]
  },
  {
   "cell_type": "code",
   "execution_count": 28,
   "id": "38cf9e75-11d6-4397-a90c-6d84ab6e190a",
   "metadata": {},
   "outputs": [
    {
     "data": {
      "text/plain": [
       "msno                            0\n",
       "last_month_last_login           0\n",
       "last_month_active_days          0\n",
       "last_month_inactive_days        0\n",
       "last_month_sum_num25            0\n",
       "                               ..\n",
       "diff_last2month_mean_num985     0\n",
       "diff_last2month_sum_num100      0\n",
       "diff_last2month_mean_num100     0\n",
       "diff_last2month_sum_num_unq     0\n",
       "diff_last2month_mean_num_unq    0\n",
       "Length: 72, dtype: int64"
      ]
     },
     "execution_count": 28,
     "metadata": {},
     "output_type": "execute_result"
    }
   ],
   "source": [
    "combined_user_log.isnull().sum()"
   ]
  },
  {
   "cell_type": "code",
   "execution_count": 29,
   "id": "ad0a5464-a76e-499b-a227-d50a6fa3511d",
   "metadata": {},
   "outputs": [
    {
     "data": {
      "text/html": [
       "<div>\n",
       "<style scoped>\n",
       "    .dataframe tbody tr th:only-of-type {\n",
       "        vertical-align: middle;\n",
       "    }\n",
       "\n",
       "    .dataframe tbody tr th {\n",
       "        vertical-align: top;\n",
       "    }\n",
       "\n",
       "    .dataframe thead th {\n",
       "        text-align: right;\n",
       "    }\n",
       "</style>\n",
       "<table border=\"1\" class=\"dataframe\">\n",
       "  <thead>\n",
       "    <tr style=\"text-align: right;\">\n",
       "      <th></th>\n",
       "      <th>msno</th>\n",
       "      <th>last_month_last_login</th>\n",
       "      <th>last_month_active_days</th>\n",
       "      <th>last_month_inactive_days</th>\n",
       "      <th>last_month_sum_num25</th>\n",
       "      <th>last_month_mean_num25</th>\n",
       "      <th>last_month_sum_num50</th>\n",
       "      <th>last_month_mean_num50</th>\n",
       "      <th>last_month_sum_num75</th>\n",
       "      <th>last_month_mean_num75</th>\n",
       "      <th>...</th>\n",
       "      <th>diff_last2month_mean_num25</th>\n",
       "      <th>diff_last2month_sum_num50</th>\n",
       "      <th>diff_last2month_sum_num75</th>\n",
       "      <th>diff_last2month_mean_num75</th>\n",
       "      <th>diff_last2month_sum_num985</th>\n",
       "      <th>diff_last2month_mean_num985</th>\n",
       "      <th>diff_last2month_sum_num100</th>\n",
       "      <th>diff_last2month_mean_num100</th>\n",
       "      <th>diff_last2month_sum_num_unq</th>\n",
       "      <th>diff_last2month_mean_num_unq</th>\n",
       "    </tr>\n",
       "  </thead>\n",
       "  <tbody>\n",
       "    <tr>\n",
       "      <th>0</th>\n",
       "      <td>+++IZseRRiQS9aaSkH6cMYU6bGDcxUieAi/tH67sC5s=</td>\n",
       "      <td>2017-03-31</td>\n",
       "      <td>26</td>\n",
       "      <td>5</td>\n",
       "      <td>86</td>\n",
       "      <td>3.307692</td>\n",
       "      <td>11</td>\n",
       "      <td>0.423077</td>\n",
       "      <td>10</td>\n",
       "      <td>0.384615</td>\n",
       "      <td>...</td>\n",
       "      <td>2.190045</td>\n",
       "      <td>5.0</td>\n",
       "      <td>6.0</td>\n",
       "      <td>0.149321</td>\n",
       "      <td>-8.0</td>\n",
       "      <td>-0.572398</td>\n",
       "      <td>-416.0</td>\n",
       "      <td>-34.081448</td>\n",
       "      <td>-216.0</td>\n",
       "      <td>-23.497738</td>\n",
       "    </tr>\n",
       "    <tr>\n",
       "      <th>1</th>\n",
       "      <td>+++hVY1rZox/33YtvDgmKA2Frg/2qhkz12B9ylCvh8o=</td>\n",
       "      <td>2017-03-31</td>\n",
       "      <td>31</td>\n",
       "      <td>0</td>\n",
       "      <td>191</td>\n",
       "      <td>6.161290</td>\n",
       "      <td>90</td>\n",
       "      <td>2.903226</td>\n",
       "      <td>75</td>\n",
       "      <td>2.419355</td>\n",
       "      <td>...</td>\n",
       "      <td>1.864994</td>\n",
       "      <td>29.0</td>\n",
       "      <td>17.0</td>\n",
       "      <td>0.271207</td>\n",
       "      <td>30.0</td>\n",
       "      <td>0.422939</td>\n",
       "      <td>121.0</td>\n",
       "      <td>1.666667</td>\n",
       "      <td>243.0</td>\n",
       "      <td>4.770609</td>\n",
       "    </tr>\n",
       "    <tr>\n",
       "      <th>2</th>\n",
       "      <td>+++l/EXNMLTijfLBa8p2TUVVVp2aFGSuUI/h7mLmthw=</td>\n",
       "      <td>2017-03-31</td>\n",
       "      <td>28</td>\n",
       "      <td>3</td>\n",
       "      <td>43</td>\n",
       "      <td>1.535714</td>\n",
       "      <td>12</td>\n",
       "      <td>0.428571</td>\n",
       "      <td>15</td>\n",
       "      <td>0.535714</td>\n",
       "      <td>...</td>\n",
       "      <td>0.500000</td>\n",
       "      <td>-5.0</td>\n",
       "      <td>0.0</td>\n",
       "      <td>0.000000</td>\n",
       "      <td>-10.0</td>\n",
       "      <td>-0.357143</td>\n",
       "      <td>-277.0</td>\n",
       "      <td>-9.892857</td>\n",
       "      <td>-254.0</td>\n",
       "      <td>-9.071429</td>\n",
       "    </tr>\n",
       "    <tr>\n",
       "      <th>3</th>\n",
       "      <td>+++snpr7pmobhLKUgSHTv/mpkqgBT0tQJ0zQj6qKrqc=</td>\n",
       "      <td>2017-03-30</td>\n",
       "      <td>21</td>\n",
       "      <td>10</td>\n",
       "      <td>207</td>\n",
       "      <td>9.857143</td>\n",
       "      <td>163</td>\n",
       "      <td>7.761905</td>\n",
       "      <td>100</td>\n",
       "      <td>4.761905</td>\n",
       "      <td>...</td>\n",
       "      <td>0.457143</td>\n",
       "      <td>83.0</td>\n",
       "      <td>54.0</td>\n",
       "      <td>2.461905</td>\n",
       "      <td>18.0</td>\n",
       "      <td>0.747619</td>\n",
       "      <td>53.0</td>\n",
       "      <td>1.611905</td>\n",
       "      <td>277.0</td>\n",
       "      <td>11.878571</td>\n",
       "    </tr>\n",
       "    <tr>\n",
       "      <th>4</th>\n",
       "      <td>++/9R3sX37CjxbY/AaGvbwr3QkwElKBCtSvVzhCBDOk=</td>\n",
       "      <td>2017-03-31</td>\n",
       "      <td>29</td>\n",
       "      <td>2</td>\n",
       "      <td>105</td>\n",
       "      <td>3.620690</td>\n",
       "      <td>24</td>\n",
       "      <td>0.827586</td>\n",
       "      <td>39</td>\n",
       "      <td>1.344828</td>\n",
       "      <td>...</td>\n",
       "      <td>-0.499310</td>\n",
       "      <td>-23.0</td>\n",
       "      <td>12.0</td>\n",
       "      <td>0.264828</td>\n",
       "      <td>3.0</td>\n",
       "      <td>-0.073103</td>\n",
       "      <td>221.0</td>\n",
       "      <td>6.197241</td>\n",
       "      <td>36.0</td>\n",
       "      <td>0.171034</td>\n",
       "    </tr>\n",
       "  </tbody>\n",
       "</table>\n",
       "<p>5 rows × 72 columns</p>\n",
       "</div>"
      ],
      "text/plain": [
       "                                           msno last_month_last_login  \\\n",
       "0  +++IZseRRiQS9aaSkH6cMYU6bGDcxUieAi/tH67sC5s=            2017-03-31   \n",
       "1  +++hVY1rZox/33YtvDgmKA2Frg/2qhkz12B9ylCvh8o=            2017-03-31   \n",
       "2  +++l/EXNMLTijfLBa8p2TUVVVp2aFGSuUI/h7mLmthw=            2017-03-31   \n",
       "3  +++snpr7pmobhLKUgSHTv/mpkqgBT0tQJ0zQj6qKrqc=            2017-03-30   \n",
       "4  ++/9R3sX37CjxbY/AaGvbwr3QkwElKBCtSvVzhCBDOk=            2017-03-31   \n",
       "\n",
       "   last_month_active_days  last_month_inactive_days  last_month_sum_num25  \\\n",
       "0                      26                         5                    86   \n",
       "1                      31                         0                   191   \n",
       "2                      28                         3                    43   \n",
       "3                      21                        10                   207   \n",
       "4                      29                         2                   105   \n",
       "\n",
       "   last_month_mean_num25  last_month_sum_num50  last_month_mean_num50  \\\n",
       "0               3.307692                    11               0.423077   \n",
       "1               6.161290                    90               2.903226   \n",
       "2               1.535714                    12               0.428571   \n",
       "3               9.857143                   163               7.761905   \n",
       "4               3.620690                    24               0.827586   \n",
       "\n",
       "   last_month_sum_num75  last_month_mean_num75  ...  \\\n",
       "0                    10               0.384615  ...   \n",
       "1                    75               2.419355  ...   \n",
       "2                    15               0.535714  ...   \n",
       "3                   100               4.761905  ...   \n",
       "4                    39               1.344828  ...   \n",
       "\n",
       "   diff_last2month_mean_num25  diff_last2month_sum_num50  \\\n",
       "0                    2.190045                        5.0   \n",
       "1                    1.864994                       29.0   \n",
       "2                    0.500000                       -5.0   \n",
       "3                    0.457143                       83.0   \n",
       "4                   -0.499310                      -23.0   \n",
       "\n",
       "   diff_last2month_sum_num75  diff_last2month_mean_num75  \\\n",
       "0                        6.0                    0.149321   \n",
       "1                       17.0                    0.271207   \n",
       "2                        0.0                    0.000000   \n",
       "3                       54.0                    2.461905   \n",
       "4                       12.0                    0.264828   \n",
       "\n",
       "   diff_last2month_sum_num985  diff_last2month_mean_num985  \\\n",
       "0                        -8.0                    -0.572398   \n",
       "1                        30.0                     0.422939   \n",
       "2                       -10.0                    -0.357143   \n",
       "3                        18.0                     0.747619   \n",
       "4                         3.0                    -0.073103   \n",
       "\n",
       "  diff_last2month_sum_num100  diff_last2month_mean_num100  \\\n",
       "0                     -416.0                   -34.081448   \n",
       "1                      121.0                     1.666667   \n",
       "2                     -277.0                    -9.892857   \n",
       "3                       53.0                     1.611905   \n",
       "4                      221.0                     6.197241   \n",
       "\n",
       "   diff_last2month_sum_num_unq  diff_last2month_mean_num_unq  \n",
       "0                       -216.0                    -23.497738  \n",
       "1                        243.0                      4.770609  \n",
       "2                       -254.0                     -9.071429  \n",
       "3                        277.0                     11.878571  \n",
       "4                         36.0                      0.171034  \n",
       "\n",
       "[5 rows x 72 columns]"
      ]
     },
     "execution_count": 29,
     "metadata": {},
     "output_type": "execute_result"
    }
   ],
   "source": [
    "combined_user_log.head(5)"
   ]
  },
  {
   "cell_type": "code",
   "execution_count": 30,
   "id": "a6fb003d-8585-42e6-b426-a4c03ae2f7e4",
   "metadata": {},
   "outputs": [],
   "source": [
    "combined_user_log.to_csv('../data/processed/final_user_log.csv')"
   ]
  },
  {
   "cell_type": "markdown",
   "id": "aa9bb5c4-783d-4f66-b1ea-61d0378c4ce0",
   "metadata": {},
   "source": [
    "Combine member,transaction and final log"
   ]
  },
  {
   "cell_type": "code",
   "execution_count": 31,
   "id": "f937de71-9c91-4af5-9da3-097c6ce65651",
   "metadata": {},
   "outputs": [],
   "source": [
    "member_train = pd.read_csv('../data/processed/train_member.csv',parse_dates=['registration_init_time'])"
   ]
  },
  {
   "cell_type": "code",
   "execution_count": 32,
   "id": "982552b7-9338-456a-a946-8ac380636e6c",
   "metadata": {},
   "outputs": [],
   "source": [
    "transaction = pd.read_csv('../data/processed/transaction_features_final.csv')"
   ]
  },
  {
   "cell_type": "code",
   "execution_count": 33,
   "id": "84464fdb-2716-4d3c-9ad9-937ee4e68148",
   "metadata": {},
   "outputs": [
    {
     "data": {
      "text/plain": [
       "msno                         0\n",
       "change_in_payment_method     0\n",
       "total_transaction            0\n",
       "max_payment_method           0\n",
       "avg_plan_days                0\n",
       "sum_plan_days                0\n",
       "change_in_plan_days          0\n",
       "avg_list_price               0\n",
       "sum_list_price               0\n",
       "change_in_list_price         0\n",
       "avg_amt_paid                 0\n",
       "sum_amt_paid                 0\n",
       "change_in_amt_paid           0\n",
       "avg_discount                 0\n",
       "sum_discount                 0\n",
       "last_cancel_status           0\n",
       "last_auto_renew              0\n",
       "avg_days_diff_trans_exp      0\n",
       "autorenew_not_cancel_flag    0\n",
       "not_autorenew_cancel_flag    0\n",
       "dtype: int64"
      ]
     },
     "execution_count": 33,
     "metadata": {},
     "output_type": "execute_result"
    }
   ],
   "source": [
    "transaction.isnull().sum()"
   ]
  },
  {
   "cell_type": "code",
   "execution_count": 34,
   "id": "20f650df-a0a3-4f9a-ac66-91ad3e4c20a8",
   "metadata": {},
   "outputs": [
    {
     "data": {
      "text/plain": [
       "msno                      0\n",
       "is_churn                  0\n",
       "city                      0\n",
       "bd                        0\n",
       "registered_via            0\n",
       "registration_init_time    0\n",
       "registered_year           0\n",
       "dtype: int64"
      ]
     },
     "execution_count": 34,
     "metadata": {},
     "output_type": "execute_result"
    }
   ],
   "source": [
    "member_train.isnull().sum()"
   ]
  },
  {
   "cell_type": "code",
   "execution_count": 35,
   "id": "77fed597-dc74-4139-a023-b6c99c79ebf5",
   "metadata": {},
   "outputs": [],
   "source": [
    "final_dataset = pd.merge(member_train,transaction,on='msno',how='left')\n",
    "final_dataset = pd.merge(final_dataset,combined_user_log,on='msno',how='left')"
   ]
  },
  {
   "cell_type": "markdown",
   "id": "035202c7-f190-4f5c-bbbf-9d32f53889d9",
   "metadata": {},
   "source": [
    "last login date may not be useful after extracting other details - we can drop it. also we have extracted year from registration time, we can drop it"
   ]
  },
  {
   "cell_type": "code",
   "execution_count": 38,
   "id": "6c09073d-0050-4135-8853-84f58c9081bb",
   "metadata": {},
   "outputs": [],
   "source": [
    "final_dataset.drop(['last_month_last_login','last_second_month_last_login','last_third_month_last_login','2week_last_login','registration_init_time'],axis=1,inplace=True)"
   ]
  },
  {
   "cell_type": "code",
   "execution_count": 39,
   "id": "1f4cf39d-fbe2-4e35-9b34-fff8a9207810",
   "metadata": {
    "scrolled": true
   },
   "outputs": [
    {
     "name": "stdout",
     "output_type": "stream",
     "text": [
      "<class 'pandas.core.frame.DataFrame'>\n",
      "Int64Index: 860967 entries, 0 to 860966\n",
      "Data columns (total 92 columns):\n",
      " #   Column                           Non-Null Count   Dtype  \n",
      "---  ------                           --------------   -----  \n",
      " 0   msno                             860967 non-null  object \n",
      " 1   is_churn                         860967 non-null  int64  \n",
      " 2   city                             860967 non-null  float64\n",
      " 3   bd                               860967 non-null  float64\n",
      " 4   registered_via                   860967 non-null  float64\n",
      " 5   registered_year                  860967 non-null  float64\n",
      " 6   change_in_payment_method         860967 non-null  int64  \n",
      " 7   total_transaction                860967 non-null  int64  \n",
      " 8   max_payment_method               860967 non-null  int64  \n",
      " 9   avg_plan_days                    860967 non-null  float64\n",
      " 10  sum_plan_days                    860967 non-null  int64  \n",
      " 11  change_in_plan_days              860967 non-null  int64  \n",
      " 12  avg_list_price                   860967 non-null  float64\n",
      " 13  sum_list_price                   860967 non-null  int64  \n",
      " 14  change_in_list_price             860967 non-null  int64  \n",
      " 15  avg_amt_paid                     860967 non-null  float64\n",
      " 16  sum_amt_paid                     860967 non-null  int64  \n",
      " 17  change_in_amt_paid               860967 non-null  int64  \n",
      " 18  avg_discount                     860967 non-null  float64\n",
      " 19  sum_discount                     860967 non-null  int64  \n",
      " 20  last_cancel_status               860967 non-null  int64  \n",
      " 21  last_auto_renew                  860967 non-null  int64  \n",
      " 22  avg_days_diff_trans_exp          860967 non-null  float64\n",
      " 23  autorenew_not_cancel_flag        860967 non-null  int64  \n",
      " 24  not_autorenew_cancel_flag        860967 non-null  int64  \n",
      " 25  last_month_active_days           754532 non-null  float64\n",
      " 26  last_month_inactive_days         754532 non-null  float64\n",
      " 27  last_month_sum_num25             754532 non-null  float64\n",
      " 28  last_month_mean_num25            754532 non-null  float64\n",
      " 29  last_month_sum_num50             754532 non-null  float64\n",
      " 30  last_month_mean_num50            754532 non-null  float64\n",
      " 31  last_month_sum_num75             754532 non-null  float64\n",
      " 32  last_month_mean_num75            754532 non-null  float64\n",
      " 33  last_month_sum_num985            754532 non-null  float64\n",
      " 34  last_month_mean_num985           754532 non-null  float64\n",
      " 35  last_month_sum_num_100           754532 non-null  float64\n",
      " 36  last_month_mean_num100           754532 non-null  float64\n",
      " 37  last_month_sum_num_unq           754532 non-null  float64\n",
      " 38  last_month_mean_num_unq          754532 non-null  float64\n",
      " 39  last_second_month_active_days    754532 non-null  float64\n",
      " 40  last_second_month_inactive_days  754532 non-null  float64\n",
      " 41  last_second_month_sum_num25      754532 non-null  float64\n",
      " 42  last_second_month_mean_num25     754532 non-null  float64\n",
      " 43  last_second_month_sum_num50      754532 non-null  float64\n",
      " 44  last_second_month_mean_num50     754532 non-null  float64\n",
      " 45  last_second_month_sum_num75      754532 non-null  float64\n",
      " 46  last_second_month_mean_num75     754532 non-null  float64\n",
      " 47  last_second_month_sum_num985     754532 non-null  float64\n",
      " 48  last_second_month_mean_num985    754532 non-null  float64\n",
      " 49  last_second_month_sum_num_100    754532 non-null  float64\n",
      " 50  last_second_month_mean_num100    754532 non-null  float64\n",
      " 51  last_second_month_sum_num_unq    754532 non-null  float64\n",
      " 52  last_second_month_mean_num_unq   754532 non-null  float64\n",
      " 53  last_third_month_active_days     754532 non-null  float64\n",
      " 54  last_third_month_inactive_days   754532 non-null  float64\n",
      " 55  last_third_month_sum_num25       754532 non-null  float64\n",
      " 56  last_third_month_mean_num25      754532 non-null  float64\n",
      " 57  last_third_month_sum_num50       754532 non-null  float64\n",
      " 58  last_third_month_mean_num50      754532 non-null  float64\n",
      " 59  last_third_month_sum_num75       754532 non-null  float64\n",
      " 60  last_third_month_mean_num75      754532 non-null  float64\n",
      " 61  last_third_month_sum_num985      754532 non-null  float64\n",
      " 62  last_third_month_mean_num985     754532 non-null  float64\n",
      " 63  last_third_month_sum_num_100     754532 non-null  float64\n",
      " 64  last_third_month_mean_num100     754532 non-null  float64\n",
      " 65  last_third_month_sum_num_unq     754532 non-null  float64\n",
      " 66  last_third_month_mean_num_unq    754532 non-null  float64\n",
      " 67  2week_active_days                754532 non-null  float64\n",
      " 68  2week_sum_num25                  754532 non-null  float64\n",
      " 69  2week_mean_num25                 754532 non-null  float64\n",
      " 70  2week_sum_num50                  754532 non-null  float64\n",
      " 71  2week_mean_num50                 754532 non-null  float64\n",
      " 72  2week_sum_num75                  754532 non-null  float64\n",
      " 73  2week_mean_num75                 754532 non-null  float64\n",
      " 74  2week_sum_num985                 754532 non-null  float64\n",
      " 75  2week_mean_num985                754532 non-null  float64\n",
      " 76  2week_sum_num_100                754532 non-null  float64\n",
      " 77  2week_mean_num100                754532 non-null  float64\n",
      " 78  2week_sum_num_unq                754532 non-null  float64\n",
      " 79  2week_mean_num_unq               754532 non-null  float64\n",
      " 80  diff_last2month_active_days      754532 non-null  float64\n",
      " 81  diff_last2month_sum_num25        754532 non-null  float64\n",
      " 82  diff_last2month_mean_num25       754532 non-null  float64\n",
      " 83  diff_last2month_sum_num50        754532 non-null  float64\n",
      " 84  diff_last2month_sum_num75        754532 non-null  float64\n",
      " 85  diff_last2month_mean_num75       754532 non-null  float64\n",
      " 86  diff_last2month_sum_num985       754532 non-null  float64\n",
      " 87  diff_last2month_mean_num985      754532 non-null  float64\n",
      " 88  diff_last2month_sum_num100       754532 non-null  float64\n",
      " 89  diff_last2month_mean_num100      754532 non-null  float64\n",
      " 90  diff_last2month_sum_num_unq      754532 non-null  float64\n",
      " 91  diff_last2month_mean_num_unq     754532 non-null  float64\n",
      "dtypes: float64(76), int64(15), object(1)\n",
      "memory usage: 610.9+ MB\n"
     ]
    }
   ],
   "source": [
    "final_dataset.info()"
   ]
  },
  {
   "cell_type": "code",
   "execution_count": 40,
   "id": "02ce2d1b-3719-4e9f-aa28-95253c7d2847",
   "metadata": {},
   "outputs": [],
   "source": [
    "final_dataset.to_csv('../data/processed/final_dataset.csv')"
   ]
  },
  {
   "cell_type": "code",
   "execution_count": null,
   "id": "67175317",
   "metadata": {},
   "outputs": [],
   "source": []
  }
 ],
 "metadata": {
  "kernelspec": {
   "display_name": "Python 3 (ipykernel)",
   "language": "python",
   "name": "python3"
  },
  "language_info": {
   "codemirror_mode": {
    "name": "ipython",
    "version": 3
   },
   "file_extension": ".py",
   "mimetype": "text/x-python",
   "name": "python",
   "nbconvert_exporter": "python",
   "pygments_lexer": "ipython3",
   "version": "3.11.4"
  }
 },
 "nbformat": 4,
 "nbformat_minor": 5
}
